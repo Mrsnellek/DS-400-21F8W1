{
 "cells": [
  {
   "cell_type": "markdown",
   "id": "ad1eecd3",
   "metadata": {},
   "source": [
    "The contents of this course including lectures, labs, homework assignments, and exams have all been adapted from the [Data 8 course at University California Berkley](https://data.berkeley.edu/education/courses/data-8). Through their generosity and passion for undergraduate education, the Data 8 community at Berkley has opened their content and expertise for other universities to adapt in the name of undergraduate education."
   ]
  },
  {
   "cell_type": "code",
   "execution_count": 1,
   "id": "91303c0f",
   "metadata": {},
   "outputs": [
    {
     "name": "stdout",
     "output_type": "stream",
     "text": [
      "Requirement already satisfied: datascience in c:\\users\\ksorauf\\appdata\\local\\continuum\\anaconda3\\lib\\site-packages (0.17.0)\n",
      "Requirement already satisfied: matplotlib>=3.0.0 in c:\\users\\ksorauf\\appdata\\local\\continuum\\anaconda3\\lib\\site-packages (from datascience) (3.4.2)\n",
      "Requirement already satisfied: numpy in c:\\users\\ksorauf\\appdata\\local\\continuum\\anaconda3\\lib\\site-packages (from datascience) (1.20.3)\n",
      "Requirement already satisfied: pytest in c:\\users\\ksorauf\\appdata\\local\\continuum\\anaconda3\\lib\\site-packages (from datascience) (6.2.4)\n",
      "Requirement already satisfied: coverage in c:\\users\\ksorauf\\appdata\\local\\continuum\\anaconda3\\lib\\site-packages (from datascience) (4.4)\n",
      "Requirement already satisfied: bokeh in c:\\users\\ksorauf\\appdata\\local\\continuum\\anaconda3\\lib\\site-packages (from datascience) (2.1.1)\n",
      "Requirement already satisfied: branca in c:\\users\\ksorauf\\appdata\\local\\continuum\\anaconda3\\lib\\site-packages (from datascience) (0.4.1)\n",
      "Requirement already satisfied: nbsphinx in c:\\users\\ksorauf\\appdata\\local\\continuum\\anaconda3\\lib\\site-packages (from datascience) (0.8.0)\n",
      "Requirement already satisfied: sphinx in c:\\users\\ksorauf\\appdata\\local\\continuum\\anaconda3\\lib\\site-packages (from datascience) (4.0.2)\n",
      "Requirement already satisfied: folium>=0.9.1 in c:\\users\\ksorauf\\appdata\\local\\continuum\\anaconda3\\lib\\site-packages (from datascience) (0.11.0)\n",
      "Requirement already satisfied: scipy in c:\\users\\ksorauf\\appdata\\local\\continuum\\anaconda3\\lib\\site-packages (from datascience) (1.6.2)\n",
      "Requirement already satisfied: coveralls in c:\\users\\ksorauf\\appdata\\local\\continuum\\anaconda3\\lib\\site-packages (from datascience) (2.0.0)\n",
      "Requirement already satisfied: pandas in c:\\users\\ksorauf\\appdata\\local\\continuum\\anaconda3\\lib\\site-packages (from datascience) (1.3.2)\n",
      "Requirement already satisfied: setuptools in c:\\users\\ksorauf\\appdata\\local\\continuum\\anaconda3\\lib\\site-packages (from datascience) (52.0.0.post20210125)\n",
      "Requirement already satisfied: ipython in c:\\users\\ksorauf\\appdata\\local\\continuum\\anaconda3\\lib\\site-packages (from datascience) (7.26.0)\n",
      "Requirement already satisfied: plotly in c:\\users\\ksorauf\\appdata\\local\\continuum\\anaconda3\\lib\\site-packages (from datascience) (5.3.1)\n",
      "Requirement already satisfied: jinja2>=2.9 in c:\\users\\ksorauf\\appdata\\local\\continuum\\anaconda3\\lib\\site-packages (from folium>=0.9.1->datascience) (2.11.3)\n",
      "Requirement already satisfied: requests in c:\\users\\ksorauf\\appdata\\local\\continuum\\anaconda3\\lib\\site-packages (from folium>=0.9.1->datascience) (2.25.1)\n",
      "Requirement already satisfied: MarkupSafe>=0.23 in c:\\users\\ksorauf\\appdata\\local\\continuum\\anaconda3\\lib\\site-packages (from jinja2>=2.9->folium>=0.9.1->datascience) (1.1.1)\n",
      "Requirement already satisfied: python-dateutil>=2.7 in c:\\users\\ksorauf\\appdata\\local\\continuum\\anaconda3\\lib\\site-packages (from matplotlib>=3.0.0->datascience) (2.8.2)\n",
      "Requirement already satisfied: kiwisolver>=1.0.1 in c:\\users\\ksorauf\\appdata\\local\\continuum\\anaconda3\\lib\\site-packages (from matplotlib>=3.0.0->datascience) (1.3.1)\n",
      "Requirement already satisfied: pillow>=6.2.0 in c:\\users\\ksorauf\\appdata\\local\\continuum\\anaconda3\\lib\\site-packages (from matplotlib>=3.0.0->datascience) (8.3.1)\n",
      "Requirement already satisfied: cycler>=0.10 in c:\\users\\ksorauf\\appdata\\local\\continuum\\anaconda3\\lib\\site-packages (from matplotlib>=3.0.0->datascience) (0.10.0)\n",
      "Requirement already satisfied: pyparsing>=2.2.1 in c:\\users\\ksorauf\\appdata\\local\\continuum\\anaconda3\\lib\\site-packages (from matplotlib>=3.0.0->datascience) (2.4.7)\n",
      "Requirement already satisfied: six in c:\\users\\ksorauf\\appdata\\local\\continuum\\anaconda3\\lib\\site-packages (from cycler>=0.10->matplotlib>=3.0.0->datascience) (1.16.0)\n",
      "Requirement already satisfied: typing-extensions>=3.7.4 in c:\\users\\ksorauf\\appdata\\local\\continuum\\anaconda3\\lib\\site-packages (from bokeh->datascience) (3.10.0.0)\n",
      "Requirement already satisfied: tornado>=5.1 in c:\\users\\ksorauf\\appdata\\local\\continuum\\anaconda3\\lib\\site-packages (from bokeh->datascience) (6.1)\n",
      "Requirement already satisfied: PyYAML>=3.10 in c:\\users\\ksorauf\\appdata\\local\\continuum\\anaconda3\\lib\\site-packages (from bokeh->datascience) (5.4.1)\n",
      "Requirement already satisfied: packaging>=16.8 in c:\\users\\ksorauf\\appdata\\local\\continuum\\anaconda3\\lib\\site-packages (from bokeh->datascience) (21.0)\n",
      "Requirement already satisfied: docopt>=0.6.1 in c:\\users\\ksorauf\\appdata\\local\\continuum\\anaconda3\\lib\\site-packages (from coveralls->datascience) (0.6.2)\n",
      "Requirement already satisfied: chardet<5,>=3.0.2 in c:\\users\\ksorauf\\appdata\\local\\continuum\\anaconda3\\lib\\site-packages (from requests->folium>=0.9.1->datascience) (4.0.0)\n",
      "Requirement already satisfied: urllib3<1.27,>=1.21.1 in c:\\users\\ksorauf\\appdata\\local\\continuum\\anaconda3\\lib\\site-packages (from requests->folium>=0.9.1->datascience) (1.26.6)\n",
      "Requirement already satisfied: certifi>=2017.4.17 in c:\\users\\ksorauf\\appdata\\local\\continuum\\anaconda3\\lib\\site-packages (from requests->folium>=0.9.1->datascience) (2021.5.30)\n",
      "Requirement already satisfied: idna<3,>=2.5 in c:\\users\\ksorauf\\appdata\\local\\continuum\\anaconda3\\lib\\site-packages (from requests->folium>=0.9.1->datascience) (2.10)\n",
      "Requirement already satisfied: pygments in c:\\users\\ksorauf\\appdata\\local\\continuum\\anaconda3\\lib\\site-packages (from ipython->datascience) (2.10.0)\n",
      "Requirement already satisfied: jedi>=0.16 in c:\\users\\ksorauf\\appdata\\local\\continuum\\anaconda3\\lib\\site-packages (from ipython->datascience) (0.17.2)\n",
      "Requirement already satisfied: matplotlib-inline in c:\\users\\ksorauf\\appdata\\local\\continuum\\anaconda3\\lib\\site-packages (from ipython->datascience) (0.1.2)\n",
      "Requirement already satisfied: traitlets>=4.2 in c:\\users\\ksorauf\\appdata\\local\\continuum\\anaconda3\\lib\\site-packages (from ipython->datascience) (5.0.5)\n",
      "Requirement already satisfied: backcall in c:\\users\\ksorauf\\appdata\\local\\continuum\\anaconda3\\lib\\site-packages (from ipython->datascience) (0.2.0)\n",
      "Requirement already satisfied: pickleshare in c:\\users\\ksorauf\\appdata\\local\\continuum\\anaconda3\\lib\\site-packages (from ipython->datascience) (0.7.5)\n",
      "Requirement already satisfied: prompt-toolkit!=3.0.0,!=3.0.1,<3.1.0,>=2.0.0 in c:\\users\\ksorauf\\appdata\\local\\continuum\\anaconda3\\lib\\site-packages (from ipython->datascience) (3.0.17)\n",
      "Requirement already satisfied: decorator in c:\\users\\ksorauf\\appdata\\local\\continuum\\anaconda3\\lib\\site-packages (from ipython->datascience) (5.0.9)\n",
      "Requirement already satisfied: colorama in c:\\users\\ksorauf\\appdata\\local\\continuum\\anaconda3\\lib\\site-packages (from ipython->datascience) (0.4.4)\n",
      "Requirement already satisfied: parso<0.8.0,>=0.7.0 in c:\\users\\ksorauf\\appdata\\local\\continuum\\anaconda3\\lib\\site-packages (from jedi>=0.16->ipython->datascience) (0.7.0)\n",
      "Requirement already satisfied: wcwidth in c:\\users\\ksorauf\\appdata\\local\\continuum\\anaconda3\\lib\\site-packages (from prompt-toolkit!=3.0.0,!=3.0.1,<3.1.0,>=2.0.0->ipython->datascience) (0.2.5)\n",
      "Requirement already satisfied: ipython-genutils in c:\\users\\ksorauf\\appdata\\local\\continuum\\anaconda3\\lib\\site-packages (from traitlets>=4.2->ipython->datascience) (0.2.0)\n",
      "Requirement already satisfied: docutils in c:\\users\\ksorauf\\appdata\\local\\continuum\\anaconda3\\lib\\site-packages (from nbsphinx->datascience) (0.17.1)\n",
      "Requirement already satisfied: nbformat in c:\\users\\ksorauf\\appdata\\local\\continuum\\anaconda3\\lib\\site-packages (from nbsphinx->datascience) (5.1.3)\n",
      "Requirement already satisfied: nbconvert!=5.4 in c:\\users\\ksorauf\\appdata\\local\\continuum\\anaconda3\\lib\\site-packages (from nbsphinx->datascience) (5.6.1)\n",
      "Requirement already satisfied: jupyter-core in c:\\users\\ksorauf\\appdata\\local\\continuum\\anaconda3\\lib\\site-packages (from nbconvert!=5.4->nbsphinx->datascience) (4.7.1)\n",
      "Requirement already satisfied: mistune<2,>=0.8.1 in c:\\users\\ksorauf\\appdata\\local\\continuum\\anaconda3\\lib\\site-packages (from nbconvert!=5.4->nbsphinx->datascience) (0.8.4)\n",
      "Requirement already satisfied: testpath in c:\\users\\ksorauf\\appdata\\local\\continuum\\anaconda3\\lib\\site-packages (from nbconvert!=5.4->nbsphinx->datascience) (0.5.0)\n",
      "Requirement already satisfied: pandocfilters>=1.4.1 in c:\\users\\ksorauf\\appdata\\local\\continuum\\anaconda3\\lib\\site-packages (from nbconvert!=5.4->nbsphinx->datascience) (1.4.3)\n",
      "Requirement already satisfied: bleach in c:\\users\\ksorauf\\appdata\\local\\continuum\\anaconda3\\lib\\site-packages (from nbconvert!=5.4->nbsphinx->datascience) (4.0.0)\n",
      "Requirement already satisfied: entrypoints>=0.2.2 in c:\\users\\ksorauf\\appdata\\local\\continuum\\anaconda3\\lib\\site-packages (from nbconvert!=5.4->nbsphinx->datascience) (0.3)\n",
      "Requirement already satisfied: defusedxml in c:\\users\\ksorauf\\appdata\\local\\continuum\\anaconda3\\lib\\site-packages (from nbconvert!=5.4->nbsphinx->datascience) (0.7.1)\n",
      "Requirement already satisfied: jsonschema!=2.5.0,>=2.4 in c:\\users\\ksorauf\\appdata\\local\\continuum\\anaconda3\\lib\\site-packages (from nbformat->nbsphinx->datascience) (3.2.0)\n",
      "Requirement already satisfied: attrs>=17.4.0 in c:\\users\\ksorauf\\appdata\\local\\continuum\\anaconda3\\lib\\site-packages (from jsonschema!=2.5.0,>=2.4->nbformat->nbsphinx->datascience) (21.2.0)\n",
      "Requirement already satisfied: pyrsistent>=0.14.0 in c:\\users\\ksorauf\\appdata\\local\\continuum\\anaconda3\\lib\\site-packages (from jsonschema!=2.5.0,>=2.4->nbformat->nbsphinx->datascience) (0.17.3)\n",
      "Requirement already satisfied: importlib-metadata in c:\\users\\ksorauf\\appdata\\local\\continuum\\anaconda3\\lib\\site-packages (from jsonschema!=2.5.0,>=2.4->nbformat->nbsphinx->datascience) (3.10.0)\n",
      "Requirement already satisfied: sphinxcontrib-htmlhelp in c:\\users\\ksorauf\\appdata\\local\\continuum\\anaconda3\\lib\\site-packages (from sphinx->datascience) (2.0.0)\n",
      "Requirement already satisfied: babel>=1.3 in c:\\users\\ksorauf\\appdata\\local\\continuum\\anaconda3\\lib\\site-packages (from sphinx->datascience) (2.9.1)\n",
      "Requirement already satisfied: alabaster<0.8,>=0.7 in c:\\users\\ksorauf\\appdata\\local\\continuum\\anaconda3\\lib\\site-packages (from sphinx->datascience) (0.7.12)\n",
      "Requirement already satisfied: sphinxcontrib-serializinghtml in c:\\users\\ksorauf\\appdata\\local\\continuum\\anaconda3\\lib\\site-packages (from sphinx->datascience) (1.1.5)\n",
      "Requirement already satisfied: imagesize in c:\\users\\ksorauf\\appdata\\local\\continuum\\anaconda3\\lib\\site-packages (from sphinx->datascience) (1.2.0)\n",
      "Requirement already satisfied: sphinxcontrib-jsmath in c:\\users\\ksorauf\\appdata\\local\\continuum\\anaconda3\\lib\\site-packages (from sphinx->datascience) (1.0.1)\n",
      "Requirement already satisfied: sphinxcontrib-applehelp in c:\\users\\ksorauf\\appdata\\local\\continuum\\anaconda3\\lib\\site-packages (from sphinx->datascience) (1.0.2)\n",
      "Requirement already satisfied: snowballstemmer>=1.1 in c:\\users\\ksorauf\\appdata\\local\\continuum\\anaconda3\\lib\\site-packages (from sphinx->datascience) (2.1.0)\n",
      "Requirement already satisfied: sphinxcontrib-devhelp in c:\\users\\ksorauf\\appdata\\local\\continuum\\anaconda3\\lib\\site-packages (from sphinx->datascience) (1.0.2)\n",
      "Requirement already satisfied: sphinxcontrib-qthelp in c:\\users\\ksorauf\\appdata\\local\\continuum\\anaconda3\\lib\\site-packages (from sphinx->datascience) (1.0.3)\n",
      "Requirement already satisfied: pytz>=2015.7 in c:\\users\\ksorauf\\appdata\\local\\continuum\\anaconda3\\lib\\site-packages (from babel>=1.3->sphinx->datascience) (2021.1)\n",
      "Requirement already satisfied: webencodings in c:\\users\\ksorauf\\appdata\\local\\continuum\\anaconda3\\lib\\site-packages (from bleach->nbconvert!=5.4->nbsphinx->datascience) (0.5.1)\n",
      "Requirement already satisfied: zipp>=0.5 in c:\\users\\ksorauf\\appdata\\local\\continuum\\anaconda3\\lib\\site-packages (from importlib-metadata->jsonschema!=2.5.0,>=2.4->nbformat->nbsphinx->datascience) (3.5.0)\n",
      "Requirement already satisfied: pywin32>=1.0 in c:\\users\\ksorauf\\appdata\\local\\continuum\\anaconda3\\lib\\site-packages (from jupyter-core->nbconvert!=5.4->nbsphinx->datascience) (228)\n",
      "Requirement already satisfied: tenacity>=6.2.0 in c:\\users\\ksorauf\\appdata\\local\\continuum\\anaconda3\\lib\\site-packages (from plotly->datascience) (8.0.1)\n",
      "Requirement already satisfied: iniconfig in c:\\users\\ksorauf\\appdata\\local\\continuum\\anaconda3\\lib\\site-packages (from pytest->datascience) (1.1.1)\n",
      "Requirement already satisfied: pluggy<1.0.0a1,>=0.12 in c:\\users\\ksorauf\\appdata\\local\\continuum\\anaconda3\\lib\\site-packages (from pytest->datascience) (0.13.1)\n",
      "Requirement already satisfied: py>=1.8.2 in c:\\users\\ksorauf\\appdata\\local\\continuum\\anaconda3\\lib\\site-packages (from pytest->datascience) (1.10.0)\n",
      "Requirement already satisfied: toml in c:\\users\\ksorauf\\appdata\\local\\continuum\\anaconda3\\lib\\site-packages (from pytest->datascience) (0.10.2)\n",
      "Requirement already satisfied: atomicwrites>=1.0 in c:\\users\\ksorauf\\appdata\\local\\continuum\\anaconda3\\lib\\site-packages (from pytest->datascience) (1.4.0)\n"
     ]
    },
    {
     "name": "stderr",
     "output_type": "stream",
     "text": [
      "WARNING: Ignoring invalid distribution -ip (c:\\users\\ksorauf\\appdata\\local\\continuum\\anaconda3\\lib\\site-packages)\n",
      "WARNING: Ignoring invalid distribution -ip (c:\\users\\ksorauf\\appdata\\local\\continuum\\anaconda3\\lib\\site-packages)\n",
      "WARNING: Ignoring invalid distribution -ip (c:\\users\\ksorauf\\appdata\\local\\continuum\\anaconda3\\lib\\site-packages)\n",
      "WARNING: Ignoring invalid distribution -ip (c:\\users\\ksorauf\\appdata\\local\\continuum\\anaconda3\\lib\\site-packages)\n",
      "WARNING: Ignoring invalid distribution -ip (c:\\users\\ksorauf\\appdata\\local\\continuum\\anaconda3\\lib\\site-packages)\n",
      "WARNING: Ignoring invalid distribution -ip (c:\\users\\ksorauf\\appdata\\local\\continuum\\anaconda3\\lib\\site-packages)\n"
     ]
    }
   ],
   "source": [
    "!pip install datascience -q\n",
    "from datascience import *\n",
    "import numpy as np\n",
    "\n",
    "%matplotlib inline\n",
    "import matplotlib.pyplot as plots\n",
    "plots.style.use('fivethirtyeight')"
   ]
  },
  {
   "cell_type": "markdown",
   "id": "3108de54",
   "metadata": {},
   "source": [
    "## Review: Chapter 8 Functions and Tables"
   ]
  },
  {
   "cell_type": "code",
   "execution_count": 2,
   "id": "cff1895d",
   "metadata": {},
   "outputs": [
    {
     "data": {
      "text/html": [
       "<table border=\"1\" class=\"dataframe\">\n",
       "    <thead>\n",
       "        <tr>\n",
       "            <th>family</th> <th>father</th> <th>mother</th> <th>midparentHeight</th> <th>children</th> <th>childNum</th> <th>gender</th> <th>childHeight</th>\n",
       "        </tr>\n",
       "    </thead>\n",
       "    <tbody>\n",
       "        <tr>\n",
       "            <td>1     </td> <td>78.5  </td> <td>67    </td> <td>75.43          </td> <td>4       </td> <td>1       </td> <td>male  </td> <td>73.2       </td>\n",
       "        </tr>\n",
       "        <tr>\n",
       "            <td>1     </td> <td>78.5  </td> <td>67    </td> <td>75.43          </td> <td>4       </td> <td>2       </td> <td>female</td> <td>69.2       </td>\n",
       "        </tr>\n",
       "        <tr>\n",
       "            <td>1     </td> <td>78.5  </td> <td>67    </td> <td>75.43          </td> <td>4       </td> <td>3       </td> <td>female</td> <td>69         </td>\n",
       "        </tr>\n",
       "        <tr>\n",
       "            <td>1     </td> <td>78.5  </td> <td>67    </td> <td>75.43          </td> <td>4       </td> <td>4       </td> <td>female</td> <td>69         </td>\n",
       "        </tr>\n",
       "        <tr>\n",
       "            <td>2     </td> <td>75.5  </td> <td>66.5  </td> <td>73.66          </td> <td>4       </td> <td>1       </td> <td>male  </td> <td>73.5       </td>\n",
       "        </tr>\n",
       "        <tr>\n",
       "            <td>2     </td> <td>75.5  </td> <td>66.5  </td> <td>73.66          </td> <td>4       </td> <td>2       </td> <td>male  </td> <td>72.5       </td>\n",
       "        </tr>\n",
       "        <tr>\n",
       "            <td>2     </td> <td>75.5  </td> <td>66.5  </td> <td>73.66          </td> <td>4       </td> <td>3       </td> <td>female</td> <td>65.5       </td>\n",
       "        </tr>\n",
       "        <tr>\n",
       "            <td>2     </td> <td>75.5  </td> <td>66.5  </td> <td>73.66          </td> <td>4       </td> <td>4       </td> <td>female</td> <td>65.5       </td>\n",
       "        </tr>\n",
       "        <tr>\n",
       "            <td>3     </td> <td>75    </td> <td>64    </td> <td>72.06          </td> <td>2       </td> <td>1       </td> <td>male  </td> <td>71         </td>\n",
       "        </tr>\n",
       "        <tr>\n",
       "            <td>3     </td> <td>75    </td> <td>64    </td> <td>72.06          </td> <td>2       </td> <td>2       </td> <td>female</td> <td>68         </td>\n",
       "        </tr>\n",
       "    </tbody>\n",
       "</table>\n",
       "<p>... (924 rows omitted)</p>"
      ],
      "text/plain": [
       "family | father | mother | midparentHeight | children | childNum | gender | childHeight\n",
       "1      | 78.5   | 67     | 75.43           | 4        | 1        | male   | 73.2\n",
       "1      | 78.5   | 67     | 75.43           | 4        | 2        | female | 69.2\n",
       "1      | 78.5   | 67     | 75.43           | 4        | 3        | female | 69\n",
       "1      | 78.5   | 67     | 75.43           | 4        | 4        | female | 69\n",
       "2      | 75.5   | 66.5   | 73.66           | 4        | 1        | male   | 73.5\n",
       "2      | 75.5   | 66.5   | 73.66           | 4        | 2        | male   | 72.5\n",
       "2      | 75.5   | 66.5   | 73.66           | 4        | 3        | female | 65.5\n",
       "2      | 75.5   | 66.5   | 73.66           | 4        | 4        | female | 65.5\n",
       "3      | 75     | 64     | 72.06           | 2        | 1        | male   | 71\n",
       "3      | 75     | 64     | 72.06           | 2        | 2        | female | 68\n",
       "... (924 rows omitted)"
      ]
     },
     "execution_count": 2,
     "metadata": {},
     "output_type": "execute_result"
    }
   ],
   "source": [
    "#load the galton.csv file as galton\n",
    "galton = Table.read_table('galton.csv')\n",
    "galton"
   ]
  },
  {
   "cell_type": "code",
   "execution_count": 7,
   "id": "5e42f061",
   "metadata": {},
   "outputs": [
    {
     "data": {
      "image/png": "[encoded data removed]",
      "text/plain": [
       "<Figure size 432x288 with 1 Axes>"
      ]
     },
     "metadata": {},
     "output_type": "display_data"
    }
   ],
   "source": [
    "# Create a plot showing a count of number of children in the families\n",
    "galton.group(['children']).bar(\"children\",\"count\")"
   ]
  },
  {
   "cell_type": "code",
   "execution_count": 14,
   "id": "fb51e86c",
   "metadata": {},
   "outputs": [
    {
     "data": {
      "image/png": "[encoded data removed]",
      "text/plain": [
       "<Figure size 360x360 with 1 Axes>"
      ]
     },
     "metadata": {},
     "output_type": "display_data"
    }
   ],
   "source": [
    "# Create a plot showing how the avearge child height changes with the number of children in a family.\n",
    "galton.group(['childNum'], np.average).scatter('childNum', 'childHeight average')"
   ]
  },
  {
   "cell_type": "code",
   "execution_count": 19,
   "id": "375e46a6",
   "metadata": {},
   "outputs": [],
   "source": [
    "# Create a function called \"years_working\" that takes two agruments, \"total_earnings\" and \"hourly_wages\" \n",
    "# the function returns how many years it will take to earn the \"total_earnings\" working 40 hours a week, \n",
    "# 52 weeks a year at the given \"hourly_wage\"\n",
    "\n",
    "def years_working(total_earnings, hourly_wages):\n",
    "    return (total_earnings/(52*40*hourly_wages))"
   ]
  },
  {
   "cell_type": "code",
   "execution_count": 20,
   "id": "1d99abdf",
   "metadata": {},
   "outputs": [
    {
     "data": {
      "text/plain": [
       "6.63129973474801"
      ]
     },
     "execution_count": 20,
     "metadata": {},
     "output_type": "execute_result"
    }
   ],
   "source": [
    "#How many years will it take to earn $100,000 working $7.25 per hour?\n",
    "years_working(100000, 7.25)"
   ]
  },
  {
   "cell_type": "code",
   "execution_count": 22,
   "id": "75e361cb",
   "metadata": {},
   "outputs": [
    {
     "data": {
      "text/plain": [
       "95.52884615384616"
      ]
     },
     "execution_count": 22,
     "metadata": {},
     "output_type": "execute_result"
    }
   ],
   "source": [
    "#How many years will it take to earn 198.7 billion dollars (Jeff Bezos' estimated wealth) \n",
    "# earning $100,000 per hour?\n",
    "years_working(198.7*10**9, 1000000)"
   ]
  },
  {
   "cell_type": "markdown",
   "id": "2eac2339",
   "metadata": {},
   "source": [
    "# Chapter 9: Randomness\n",
    "\n",
    "Data scientists have to understand randomness.  At times they will have to randomly assign itmes to treatment and controll groups, or they have to randomally pull data from a source.  "
   ]
  },
  {
   "cell_type": "markdown",
   "id": "358483f4",
   "metadata": {},
   "source": [
    "Numpy has a built in function that makes choices at random:\n",
    "<code> np.random.choice(array_name)</code>, where <code>array_name</code> is the name of the array from which to make the choice."
   ]
  },
  {
   "cell_type": "markdown",
   "id": "ba6ab0a4",
   "metadata": {},
   "source": [
    "Run the cell below a few times to see the output."
   ]
  },
  {
   "cell_type": "code",
   "execution_count": 29,
   "id": "908c476f",
   "metadata": {},
   "outputs": [
    {
     "data": {
      "text/plain": [
       "'control'"
      ]
     },
     "execution_count": 29,
     "metadata": {},
     "output_type": "execute_result"
    }
   ],
   "source": [
    "two_groups = make_array('treatment', 'control')\n",
    "np.random.choice(two_groups)\n"
   ]
  },
  {
   "cell_type": "markdown",
   "id": "42335009",
   "metadata": {},
   "source": [
    "We can also take a random choice <code>n</code> times"
   ]
  },
  {
   "cell_type": "code",
   "execution_count": 30,
   "id": "98105f0d",
   "metadata": {},
   "outputs": [
    {
     "data": {
      "text/plain": [
       "array(['No', 'No', 'Yes', 'Yes', 'No', 'No', 'No', 'Yes', 'No', 'Yes'],\n",
       "      dtype='<U3')"
      ]
     },
     "execution_count": 30,
     "metadata": {},
     "output_type": "execute_result"
    }
   ],
   "source": [
    "np.random.choice(['Yes', 'No'], 10)"
   ]
  },
  {
   "cell_type": "markdown",
   "id": "86e8c6ca",
   "metadata": {},
   "source": [
    "### Booleans and Comparison"
   ]
  },
  {
   "cell_type": "markdown",
   "id": "38df8890",
   "metadata": {},
   "source": [
    "Is 3 greater than 1?"
   ]
  },
  {
   "cell_type": "code",
   "execution_count": 31,
   "id": "a9017165",
   "metadata": {},
   "outputs": [
    {
     "data": {
      "text/plain": [
       "True"
      ]
     },
     "execution_count": 31,
     "metadata": {},
     "output_type": "execute_result"
    }
   ],
   "source": [
    "3 > 1"
   ]
  },
  {
   "cell_type": "code",
   "execution_count": 32,
   "id": "2b4719d3",
   "metadata": {},
   "outputs": [
    {
     "data": {
      "text/plain": [
       "bool"
      ]
     },
     "execution_count": 32,
     "metadata": {},
     "output_type": "execute_result"
    }
   ],
   "source": [
    "type(3 > 1)"
   ]
  },
  {
   "cell_type": "code",
   "execution_count": 33,
   "id": "aca46e81",
   "metadata": {},
   "outputs": [
    {
     "data": {
      "text/plain": [
       "True"
      ]
     },
     "execution_count": 33,
     "metadata": {},
     "output_type": "execute_result"
    }
   ],
   "source": [
    "True"
   ]
  },
  {
   "cell_type": "code",
   "execution_count": 34,
   "id": "bb3a86f1",
   "metadata": {},
   "outputs": [
    {
     "ename": "NameError",
     "evalue": "name 'true' is not defined",
     "output_type": "error",
     "traceback": [
      "\u001b[1;31m---------------------------------------------------------------------------\u001b[0m",
      "\u001b[1;31mNameError\u001b[0m                                 Traceback (most recent call last)",
      "\u001b[1;32m<ipython-input-34-724ba28f4a9a>\u001b[0m in \u001b[0;36m<module>\u001b[1;34m\u001b[0m\n\u001b[1;32m----> 1\u001b[1;33m \u001b[0mtrue\u001b[0m\u001b[1;33m\u001b[0m\u001b[1;33m\u001b[0m\u001b[0m\n\u001b[0m",
      "\u001b[1;31mNameError\u001b[0m: name 'true' is not defined"
     ]
    }
   ],
   "source": [
    "true"
   ]
  },
  {
   "cell_type": "markdown",
   "id": "ff6bb515",
   "metadata": {},
   "source": [
    "Does 3 equal 3?"
   ]
  },
  {
   "cell_type": "code",
   "execution_count": 35,
   "id": "f34632ea",
   "metadata": {},
   "outputs": [
    {
     "ename": "SyntaxError",
     "evalue": "can't assign to literal (<ipython-input-35-79bfd1be65e2>, line 1)",
     "output_type": "error",
     "traceback": [
      "\u001b[1;36m  File \u001b[1;32m\"<ipython-input-35-79bfd1be65e2>\"\u001b[1;36m, line \u001b[1;32m1\u001b[0m\n\u001b[1;33m    3 = 3\u001b[0m\n\u001b[1;37m         ^\u001b[0m\n\u001b[1;31mSyntaxError\u001b[0m\u001b[1;31m:\u001b[0m can't assign to literal\n"
     ]
    }
   ],
   "source": [
    "3 = 3"
   ]
  },
  {
   "cell_type": "code",
   "execution_count": 36,
   "id": "794d2382",
   "metadata": {},
   "outputs": [
    {
     "data": {
      "text/plain": [
       "True"
      ]
     },
     "execution_count": 36,
     "metadata": {},
     "output_type": "execute_result"
    }
   ],
   "source": [
    "3 == 3 "
   ]
  },
  {
   "cell_type": "code",
   "execution_count": 37,
   "id": "bdbfedf9",
   "metadata": {},
   "outputs": [
    {
     "data": {
      "text/plain": [
       "True"
      ]
     },
     "execution_count": 37,
     "metadata": {},
     "output_type": "execute_result"
    }
   ],
   "source": [
    "3 != 0"
   ]
  },
  {
   "cell_type": "code",
   "execution_count": 38,
   "id": "737fe516",
   "metadata": {},
   "outputs": [],
   "source": [
    "x = 14\n",
    "y = 3"
   ]
  },
  {
   "cell_type": "code",
   "execution_count": 39,
   "id": "2c963a7b",
   "metadata": {},
   "outputs": [
    {
     "data": {
      "text/plain": [
       "False"
      ]
     },
     "execution_count": 39,
     "metadata": {},
     "output_type": "execute_result"
    }
   ],
   "source": [
    "x > 15"
   ]
  },
  {
   "cell_type": "code",
   "execution_count": 41,
   "id": "0e5f0a19",
   "metadata": {},
   "outputs": [
    {
     "data": {
      "text/plain": [
       "True"
      ]
     },
     "execution_count": 41,
     "metadata": {},
     "output_type": "execute_result"
    }
   ],
   "source": [
    "12 < x"
   ]
  },
  {
   "cell_type": "code",
   "execution_count": 42,
   "id": "459f98fa",
   "metadata": {},
   "outputs": [
    {
     "data": {
      "text/plain": [
       "True"
      ]
     },
     "execution_count": 42,
     "metadata": {},
     "output_type": "execute_result"
    }
   ],
   "source": [
    "x < 20"
   ]
  },
  {
   "cell_type": "code",
   "execution_count": 43,
   "id": "d812abb3",
   "metadata": {},
   "outputs": [
    {
     "data": {
      "text/plain": [
       "True"
      ]
     },
     "execution_count": 43,
     "metadata": {},
     "output_type": "execute_result"
    }
   ],
   "source": [
    "12 < x < 20"
   ]
  },
  {
   "cell_type": "code",
   "execution_count": 44,
   "id": "0a710925",
   "metadata": {},
   "outputs": [
    {
     "data": {
      "text/plain": [
       "True"
      ]
     },
     "execution_count": 44,
     "metadata": {},
     "output_type": "execute_result"
    }
   ],
   "source": [
    "10 < x-y < 13"
   ]
  },
  {
   "cell_type": "code",
   "execution_count": 45,
   "id": "f5343ec3",
   "metadata": {},
   "outputs": [
    {
     "data": {
      "text/plain": [
       "True"
      ]
     },
     "execution_count": 45,
     "metadata": {},
     "output_type": "execute_result"
    }
   ],
   "source": [
    "x > 13 and y < 3.14159"
   ]
  },
  {
   "cell_type": "markdown",
   "id": "cc7d16b4",
   "metadata": {},
   "source": [
    "## Comparisons with arrays"
   ]
  },
  {
   "cell_type": "code",
   "execution_count": 46,
   "id": "e12b520b",
   "metadata": {},
   "outputs": [],
   "source": [
    "pets = make_array('cat', 'cat', 'dog', 'cat', 'dog', 'rabbit')"
   ]
  },
  {
   "cell_type": "code",
   "execution_count": 47,
   "id": "eb1f86e6",
   "metadata": {},
   "outputs": [
    {
     "data": {
      "text/plain": [
       "array([ True,  True, False,  True, False, False])"
      ]
     },
     "execution_count": 47,
     "metadata": {},
     "output_type": "execute_result"
    }
   ],
   "source": [
    "pets == 'cat'"
   ]
  },
  {
   "cell_type": "code",
   "execution_count": 48,
   "id": "a19870f8",
   "metadata": {},
   "outputs": [
    {
     "data": {
      "text/plain": [
       "3"
      ]
     },
     "execution_count": 48,
     "metadata": {},
     "output_type": "execute_result"
    }
   ],
   "source": [
    "1 + 1 + 0 + 1 + 0 + 0"
   ]
  },
  {
   "cell_type": "code",
   "execution_count": 49,
   "id": "a20c798f",
   "metadata": {},
   "outputs": [
    {
     "data": {
      "text/plain": [
       "3"
      ]
     },
     "execution_count": 49,
     "metadata": {},
     "output_type": "execute_result"
    }
   ],
   "source": [
    "sum(make_array(True, True, False, True, False, False))"
   ]
  },
  {
   "cell_type": "code",
   "execution_count": 50,
   "id": "fac01f5c",
   "metadata": {},
   "outputs": [
    {
     "data": {
      "text/plain": [
       "2"
      ]
     },
     "execution_count": 50,
     "metadata": {},
     "output_type": "execute_result"
    }
   ],
   "source": [
    "sum(pets == 'dog')"
   ]
  },
  {
   "cell_type": "code",
   "execution_count": 52,
   "id": "c2c70b04",
   "metadata": {},
   "outputs": [
    {
     "data": {
      "text/plain": [
       "2"
      ]
     },
     "execution_count": 52,
     "metadata": {},
     "output_type": "execute_result"
    }
   ],
   "source": [
    "np.count_nonzero(pets == 'dog')"
   ]
  },
  {
   "cell_type": "code",
   "execution_count": 53,
   "id": "ec30e4b7",
   "metadata": {},
   "outputs": [],
   "source": [
    "x = np.arange(20, 31)"
   ]
  },
  {
   "cell_type": "code",
   "execution_count": 54,
   "id": "563fc4da",
   "metadata": {
    "scrolled": true
   },
   "outputs": [
    {
     "data": {
      "text/plain": [
       "array([False, False, False, False, False, False, False, False, False,\n",
       "        True,  True])"
      ]
     },
     "execution_count": 54,
     "metadata": {},
     "output_type": "execute_result"
    }
   ],
   "source": [
    "x > 28"
   ]
  },
  {
   "cell_type": "markdown",
   "id": "5cbc5c1d",
   "metadata": {},
   "source": [
    "## Conditional Statements  -  If loops"
   ]
  },
  {
   "cell_type": "markdown",
   "id": "aea9764e",
   "metadata": {},
   "source": [
    "Conditional statements allows Python to evaluate based on if a condition is true or false.  It the condition is true the block of code is evaluated.  If the condition is false the block of code is skipped. \n",
    "\n",
    "A conditional statements always begins with an <code>if</code> header, which is a single line followed by an indented body. The body is only executed if the expression directly following if (called the if expression) evaluates to a true value. If the if expression evaluates to a false value, then the body of the if is skipped."
   ]
  },
  {
   "cell_type": "code",
   "execution_count": 55,
   "id": "100a958f",
   "metadata": {},
   "outputs": [],
   "source": [
    "def sign(x):\n",
    "    \n",
    "    if x > 0:\n",
    "        return 'Positive'"
   ]
  },
  {
   "cell_type": "code",
   "execution_count": 56,
   "id": "c7b211ca",
   "metadata": {},
   "outputs": [
    {
     "data": {
      "text/plain": [
       "'Positive'"
      ]
     },
     "execution_count": 56,
     "metadata": {},
     "output_type": "execute_result"
    }
   ],
   "source": [
    "sign(3)"
   ]
  },
  {
   "cell_type": "code",
   "execution_count": 57,
   "id": "9121faf6",
   "metadata": {},
   "outputs": [],
   "source": [
    "sign(-3)"
   ]
  },
  {
   "cell_type": "code",
   "execution_count": 58,
   "id": "5c7201cb",
   "metadata": {},
   "outputs": [],
   "source": [
    "def sign(x):\n",
    "    \n",
    "    if x > 0:\n",
    "        return 'Positive'\n",
    "    \n",
    "    elif x < 0:\n",
    "        return 'Negative'"
   ]
  },
  {
   "cell_type": "code",
   "execution_count": 59,
   "id": "b9887e19",
   "metadata": {},
   "outputs": [
    {
     "data": {
      "text/plain": [
       "'Negative'"
      ]
     },
     "execution_count": 59,
     "metadata": {},
     "output_type": "execute_result"
    }
   ],
   "source": [
    "sign(-3)"
   ]
  },
  {
   "cell_type": "code",
   "execution_count": 60,
   "id": "9fc825c8",
   "metadata": {},
   "outputs": [
    {
     "data": {
      "text/plain": [
       "'Positive'"
      ]
     },
     "execution_count": 60,
     "metadata": {},
     "output_type": "execute_result"
    }
   ],
   "source": [
    "sign(3)"
   ]
  },
  {
   "cell_type": "code",
   "execution_count": 61,
   "id": "28b8b6a9",
   "metadata": {},
   "outputs": [],
   "source": [
    "sign(0)"
   ]
  },
  {
   "cell_type": "code",
   "execution_count": 62,
   "id": "a5c3b401",
   "metadata": {},
   "outputs": [],
   "source": [
    "def sign(x):\n",
    "    \n",
    "    if x > 0:\n",
    "        return 'Positive'\n",
    "    \n",
    "    elif x < 0:\n",
    "        return 'Negative'\n",
    "    \n",
    "    elif x == 0:\n",
    "        return 'Neither positive nor negative'"
   ]
  },
  {
   "cell_type": "code",
   "execution_count": 63,
   "id": "8e84ff94",
   "metadata": {},
   "outputs": [
    {
     "data": {
      "text/plain": [
       "'Neither positive nor negative'"
      ]
     },
     "execution_count": 63,
     "metadata": {},
     "output_type": "execute_result"
    }
   ],
   "source": [
    "sign(0)"
   ]
  },
  {
   "cell_type": "code",
   "execution_count": 64,
   "id": "ecd3613a",
   "metadata": {},
   "outputs": [
    {
     "ename": "TypeError",
     "evalue": "'>' not supported between instances of 'str' and 'int'",
     "output_type": "error",
     "traceback": [
      "\u001b[1;31m---------------------------------------------------------------------------\u001b[0m",
      "\u001b[1;31mTypeError\u001b[0m                                 Traceback (most recent call last)",
      "\u001b[1;32m<ipython-input-64-c9fd74949fde>\u001b[0m in \u001b[0;36m<module>\u001b[1;34m\u001b[0m\n\u001b[1;32m----> 1\u001b[1;33m \u001b[0msign\u001b[0m\u001b[1;33m(\u001b[0m\u001b[1;34m'What about this'\u001b[0m\u001b[1;33m)\u001b[0m\u001b[1;33m\u001b[0m\u001b[1;33m\u001b[0m\u001b[0m\n\u001b[0m",
      "\u001b[1;32m<ipython-input-62-34c32cf21498>\u001b[0m in \u001b[0;36msign\u001b[1;34m(x)\u001b[0m\n\u001b[0;32m      1\u001b[0m \u001b[1;32mdef\u001b[0m \u001b[0msign\u001b[0m\u001b[1;33m(\u001b[0m\u001b[0mx\u001b[0m\u001b[1;33m)\u001b[0m\u001b[1;33m:\u001b[0m\u001b[1;33m\u001b[0m\u001b[1;33m\u001b[0m\u001b[0m\n\u001b[0;32m      2\u001b[0m \u001b[1;33m\u001b[0m\u001b[0m\n\u001b[1;32m----> 3\u001b[1;33m     \u001b[1;32mif\u001b[0m \u001b[0mx\u001b[0m \u001b[1;33m>\u001b[0m \u001b[1;36m0\u001b[0m\u001b[1;33m:\u001b[0m\u001b[1;33m\u001b[0m\u001b[1;33m\u001b[0m\u001b[0m\n\u001b[0m\u001b[0;32m      4\u001b[0m         \u001b[1;32mreturn\u001b[0m \u001b[1;34m'Positive'\u001b[0m\u001b[1;33m\u001b[0m\u001b[1;33m\u001b[0m\u001b[0m\n\u001b[0;32m      5\u001b[0m \u001b[1;33m\u001b[0m\u001b[0m\n",
      "\u001b[1;31mTypeError\u001b[0m: '>' not supported between instances of 'str' and 'int'"
     ]
    }
   ],
   "source": [
    "sign('What about this')"
   ]
  },
  {
   "cell_type": "markdown",
   "id": "82924d61",
   "metadata": {},
   "source": [
    "### Copy the code above and change the function to return \"Error! You provided a string. Please provide a number.\" if it is given a string"
   ]
  },
  {
   "cell_type": "code",
   "execution_count": 71,
   "id": "53d8ac34",
   "metadata": {},
   "outputs": [],
   "source": [
    "def sign(x):\n",
    "    \n",
    "    if type(x) == str:\n",
    "        return 'Error! You provided a string. Please provide a number.'\n",
    "    \n",
    "    elif x > 0:\n",
    "        return 'Positive'\n",
    "    \n",
    "    elif x < 0:\n",
    "        return 'Negative'\n",
    "    \n",
    "    elif x == 0:\n",
    "        return 'Neither positive nor negative'\n",
    "\n",
    "    \n",
    "    "
   ]
  },
  {
   "cell_type": "code",
   "execution_count": 72,
   "id": "033441dd",
   "metadata": {},
   "outputs": [
    {
     "ename": "TypeError",
     "evalue": "'>' not supported between instances of 'list' and 'int'",
     "output_type": "error",
     "traceback": [
      "\u001b[1;31m---------------------------------------------------------------------------\u001b[0m",
      "\u001b[1;31mTypeError\u001b[0m                                 Traceback (most recent call last)",
      "\u001b[1;32m<ipython-input-72-1a05bb404312>\u001b[0m in \u001b[0;36m<module>\u001b[1;34m\u001b[0m\n\u001b[1;32m----> 1\u001b[1;33m \u001b[0msign\u001b[0m\u001b[1;33m(\u001b[0m\u001b[1;33m[\u001b[0m\u001b[1;36m4\u001b[0m\u001b[1;33m]\u001b[0m\u001b[1;33m)\u001b[0m\u001b[1;33m\u001b[0m\u001b[1;33m\u001b[0m\u001b[0m\n\u001b[0m",
      "\u001b[1;32m<ipython-input-71-07db473b429c>\u001b[0m in \u001b[0;36msign\u001b[1;34m(x)\u001b[0m\n\u001b[0;32m      4\u001b[0m         \u001b[1;32mreturn\u001b[0m \u001b[1;34m'Error! You provided a string. Please provide a number.'\u001b[0m\u001b[1;33m\u001b[0m\u001b[1;33m\u001b[0m\u001b[0m\n\u001b[0;32m      5\u001b[0m \u001b[1;33m\u001b[0m\u001b[0m\n\u001b[1;32m----> 6\u001b[1;33m     \u001b[1;32melif\u001b[0m \u001b[0mx\u001b[0m \u001b[1;33m>\u001b[0m \u001b[1;36m0\u001b[0m\u001b[1;33m:\u001b[0m\u001b[1;33m\u001b[0m\u001b[1;33m\u001b[0m\u001b[0m\n\u001b[0m\u001b[0;32m      7\u001b[0m         \u001b[1;32mreturn\u001b[0m \u001b[1;34m'Positive'\u001b[0m\u001b[1;33m\u001b[0m\u001b[1;33m\u001b[0m\u001b[0m\n\u001b[0;32m      8\u001b[0m \u001b[1;33m\u001b[0m\u001b[0m\n",
      "\u001b[1;31mTypeError\u001b[0m: '>' not supported between instances of 'list' and 'int'"
     ]
    }
   ],
   "source": [
    "sign([4])"
   ]
  },
  {
   "cell_type": "code",
   "execution_count": 67,
   "id": "7f1df40f",
   "metadata": {},
   "outputs": [
    {
     "data": {
      "text/plain": [
       "'Positive'"
      ]
     },
     "execution_count": 67,
     "metadata": {},
     "output_type": "execute_result"
    }
   ],
   "source": [
    "sign(4)"
   ]
  },
  {
   "cell_type": "code",
   "execution_count": 68,
   "id": "bafb5af6",
   "metadata": {},
   "outputs": [
    {
     "data": {
      "text/plain": [
       "'Negative'"
      ]
     },
     "execution_count": 68,
     "metadata": {},
     "output_type": "execute_result"
    }
   ],
   "source": [
    "sign(-34524.0243523)"
   ]
  },
  {
   "cell_type": "code",
   "execution_count": 69,
   "id": "b559762c",
   "metadata": {},
   "outputs": [
    {
     "data": {
      "text/plain": [
       "'Neither positive nor negative'"
      ]
     },
     "execution_count": 69,
     "metadata": {},
     "output_type": "execute_result"
    }
   ],
   "source": [
    "sign(0)"
   ]
  },
  {
   "cell_type": "code",
   "execution_count": 70,
   "id": "830f7732",
   "metadata": {},
   "outputs": [
    {
     "data": {
      "text/plain": [
       "'Error! You provided a string. Please provide a number.'"
      ]
     },
     "execution_count": 70,
     "metadata": {},
     "output_type": "execute_result"
    }
   ],
   "source": [
    "sign(\"This is a string\")"
   ]
  },
  {
   "cell_type": "markdown",
   "id": "7233563e",
   "metadata": {},
   "source": [
    "There is always exactly one if clause, but there can be any number of elif clauses. Python will evaluate the if and elif expressions in the headers in order until one is found that is a true value, then execute the corresponding body. The else clause is optional. When an else header is provided, its else body is executed only if none of the header expressions of the previous clauses are true. The else clause must always come at the end (or not at all)."
   ]
  },
  {
   "cell_type": "markdown",
   "id": "9e537bcb",
   "metadata": {},
   "source": [
    "## Simulation"
   ]
  },
  {
   "cell_type": "markdown",
   "id": "31054dc0",
   "metadata": {},
   "source": [
    "Let's play a game: we each roll a die. \n",
    "\n",
    "If my number is bigger: you pay me a dollar.\n",
    "\n",
    "If they're the same: we do nothing.\n",
    "\n",
    "If your number is bigger: I pay you a dollar."
   ]
  },
  {
   "cell_type": "markdown",
   "id": "4bc978d5",
   "metadata": {},
   "source": [
    "Steps:\n",
    "1. Find a way to simulate two dice rolls.\n",
    "2. Compute how much money we win/lose based on the result.\n",
    "3. Do steps 1 and 2 10,000 times."
   ]
  },
  {
   "cell_type": "markdown",
   "id": "55e4ee97",
   "metadata": {},
   "source": [
    "Start with step 1:"
   ]
  },
  {
   "cell_type": "code",
   "execution_count": 131,
   "id": "02f9ae8c",
   "metadata": {},
   "outputs": [],
   "source": [
    "def roll(my_roll, your_roll):\n",
    "    if my_roll > your_roll:\n",
    "        return 1\n",
    "    elif your_roll > my_roll:\n",
    "        return -1\n",
    "    elif your_roll == my_roll:\n",
    "        return 0"
   ]
  },
  {
   "cell_type": "code",
   "execution_count": 132,
   "id": "066054be",
   "metadata": {},
   "outputs": [
    {
     "data": {
      "text/plain": [
       "-1"
      ]
     },
     "execution_count": 132,
     "metadata": {},
     "output_type": "execute_result"
    }
   ],
   "source": [
    "roll(3,4)"
   ]
  },
  {
   "cell_type": "code",
   "execution_count": 75,
   "id": "a5c58a28",
   "metadata": {},
   "outputs": [
    {
     "data": {
      "text/plain": [
       "0"
      ]
     },
     "execution_count": 75,
     "metadata": {},
     "output_type": "execute_result"
    }
   ],
   "source": [
    "roll(4,4)"
   ]
  },
  {
   "cell_type": "code",
   "execution_count": 76,
   "id": "439e2b56",
   "metadata": {},
   "outputs": [
    {
     "data": {
      "text/plain": [
       "1"
      ]
     },
     "execution_count": 76,
     "metadata": {},
     "output_type": "execute_result"
    }
   ],
   "source": [
    "roll(6,1)"
   ]
  },
  {
   "cell_type": "markdown",
   "id": "55ee3d50",
   "metadata": {},
   "source": [
    "Step 2:"
   ]
  },
  {
   "cell_type": "code",
   "execution_count": 78,
   "id": "f4213927",
   "metadata": {},
   "outputs": [
    {
     "data": {
      "text/plain": [
       "array([1, 2, 3, 4, 5, 6])"
      ]
     },
     "execution_count": 78,
     "metadata": {},
     "output_type": "execute_result"
    }
   ],
   "source": [
    "die_faces = np.arange(1,7)\n",
    "die_faces"
   ]
  },
  {
   "cell_type": "code",
   "execution_count": 85,
   "id": "01e6c69a",
   "metadata": {},
   "outputs": [
    {
     "data": {
      "text/plain": [
       "2"
      ]
     },
     "execution_count": 85,
     "metadata": {},
     "output_type": "execute_result"
    }
   ],
   "source": [
    "np.random.choice(die_faces)"
   ]
  },
  {
   "cell_type": "code",
   "execution_count": 133,
   "id": "a6dbdcf6",
   "metadata": {},
   "outputs": [],
   "source": [
    "def simulate_one_roll():\n",
    "    my_roll = np.random.choice(die_faces)\n",
    "    your_roll = np.random.choice(die_faces)\n",
    "    return roll(my_roll, your_roll)"
   ]
  },
  {
   "cell_type": "code",
   "execution_count": 94,
   "id": "68b5ec99",
   "metadata": {},
   "outputs": [
    {
     "data": {
      "text/plain": [
       "0"
      ]
     },
     "execution_count": 94,
     "metadata": {},
     "output_type": "execute_result"
    }
   ],
   "source": [
    "simulate_one_roll()"
   ]
  },
  {
   "cell_type": "markdown",
   "id": "d6da02c6",
   "metadata": {},
   "source": [
    "### Iterations and Appending Arrays"
   ]
  },
  {
   "cell_type": "markdown",
   "id": "599ee4b6",
   "metadata": {},
   "source": [
    "We now have a function that takes a roll of a dice and determins who wins.  We want to run the function 10,000 time to see who wins our dice game after 10,000 rolls.  Just run the above cell 10,00 times and add up the resutls.  Ha! Just kidding. That would be way too tedious.  We need to learn how to have Python run the simulation 10,000 and sum the outcomes.  To do that we first need to learn how to append arrays."
   ]
  },
  {
   "cell_type": "markdown",
   "id": "36893d77",
   "metadata": {},
   "source": [
    "### Appending Arrays"
   ]
  },
  {
   "cell_type": "code",
   "execution_count": 98,
   "id": "37327e1b",
   "metadata": {},
   "outputs": [
    {
     "data": {
      "text/plain": [
       "array([0, 1, 2, 3])"
      ]
     },
     "execution_count": 98,
     "metadata": {},
     "output_type": "execute_result"
    }
   ],
   "source": [
    "first = np.arange(4)\n",
    "second = np.arange(10, 17)\n",
    "first"
   ]
  },
  {
   "cell_type": "code",
   "execution_count": 99,
   "id": "56d5bea4",
   "metadata": {},
   "outputs": [
    {
     "data": {
      "text/plain": [
       "array([0, 1, 2, 3, 6])"
      ]
     },
     "execution_count": 99,
     "metadata": {},
     "output_type": "execute_result"
    }
   ],
   "source": [
    "np.append(first, 6)"
   ]
  },
  {
   "cell_type": "code",
   "execution_count": 100,
   "id": "3fde2d1c",
   "metadata": {},
   "outputs": [
    {
     "data": {
      "text/plain": [
       "array([0, 1, 2, 3])"
      ]
     },
     "execution_count": 100,
     "metadata": {},
     "output_type": "execute_result"
    }
   ],
   "source": [
    "first"
   ]
  },
  {
   "cell_type": "code",
   "execution_count": 101,
   "id": "04cd56d2",
   "metadata": {},
   "outputs": [
    {
     "data": {
      "text/plain": [
       "array([ 0,  1,  2,  3, 10, 11, 12, 13, 14, 15, 16])"
      ]
     },
     "execution_count": 101,
     "metadata": {},
     "output_type": "execute_result"
    }
   ],
   "source": [
    "np.append(first, second)"
   ]
  },
  {
   "cell_type": "code",
   "execution_count": 102,
   "id": "c494c2e9",
   "metadata": {},
   "outputs": [
    {
     "data": {
      "text/plain": [
       "array([0, 1, 2, 3])"
      ]
     },
     "execution_count": 102,
     "metadata": {},
     "output_type": "execute_result"
    }
   ],
   "source": [
    "first"
   ]
  },
  {
   "cell_type": "code",
   "execution_count": 103,
   "id": "306bb09f",
   "metadata": {},
   "outputs": [
    {
     "data": {
      "text/plain": [
       "array([10, 11, 12, 13, 14, 15, 16])"
      ]
     },
     "execution_count": 103,
     "metadata": {},
     "output_type": "execute_result"
    }
   ],
   "source": [
    "second"
   ]
  },
  {
   "cell_type": "markdown",
   "id": "5fff5531",
   "metadata": {},
   "source": [
    "### Repeated Betting ###"
   ]
  },
  {
   "cell_type": "code",
   "execution_count": 111,
   "id": "a5832bef",
   "metadata": {},
   "outputs": [],
   "source": [
    "results = make_array()"
   ]
  },
  {
   "cell_type": "code",
   "execution_count": 125,
   "id": "444e9a43",
   "metadata": {},
   "outputs": [
    {
     "data": {
      "text/plain": [
       "array([-1.,  1.,  1.,  1., -1., -1., -1., -1., -1.,  0., -1.,  1., -1.,\n",
       "        0.])"
      ]
     },
     "execution_count": 125,
     "metadata": {},
     "output_type": "execute_result"
    }
   ],
   "source": [
    "results = np.append(results, simulate_one_roll())\n",
    "results"
   ]
  },
  {
   "cell_type": "markdown",
   "id": "3b11b26c",
   "metadata": {},
   "source": [
    "Run the above cell a few times.  Each time the cell runs it appends the outcome of the dice roll to results"
   ]
  },
  {
   "cell_type": "markdown",
   "id": "24fc1e05",
   "metadata": {},
   "source": [
    "Now we will lean how to iterate over 10,000 simulations"
   ]
  },
  {
   "cell_type": "markdown",
   "id": "0f3e004e",
   "metadata": {},
   "source": [
    "### Iterations - <code>for</code> loops"
   ]
  },
  {
   "cell_type": "markdown",
   "id": "954514f1",
   "metadata": {},
   "source": [
    "A <code>for</code> statement is used to loop over the values of a sequence.  This is called an interation, where we iterate over the values of a sequence. The indented body of the for statement is executed once for each item in that sequence."
   ]
  },
  {
   "cell_type": "code",
   "execution_count": 126,
   "id": "f02a2663",
   "metadata": {},
   "outputs": [
    {
     "name": "stdout",
     "output_type": "stream",
     "text": [
      "cat\n",
      "dog\n",
      "rabbit\n"
     ]
    }
   ],
   "source": [
    "for animal in make_array('cat', 'dog', 'rabbit'):\n",
    "    print(animal)"
   ]
  },
  {
   "cell_type": "code",
   "execution_count": 138,
   "id": "68624c73",
   "metadata": {},
   "outputs": [
    {
     "name": "stdout",
     "output_type": "stream",
     "text": [
      "1\n",
      "-1\n",
      "1\n",
      "-1\n",
      "0\n"
     ]
    }
   ],
   "source": [
    "for i in np.arange(5):\n",
    "    print(simulate_one_roll())"
   ]
  },
  {
   "cell_type": "code",
   "execution_count": 140,
   "id": "aa8c5c41",
   "metadata": {},
   "outputs": [
    {
     "data": {
      "text/plain": [
       "array(['cat', 'dog', 'rabbit'], dtype='<U32')"
      ]
     },
     "execution_count": 140,
     "metadata": {},
     "output_type": "execute_result"
    }
   ],
   "source": [
    "pets = make_array()\n",
    "for animal in make_array('cat', 'dog', 'rabbit'):\n",
    "    pets = np.append(pets, animal)\n",
    "pets"
   ]
  },
  {
   "cell_type": "markdown",
   "id": "37dbbb80",
   "metadata": {},
   "source": [
    "### Putting it all together to simulate 10,000 rolls of our dice game."
   ]
  },
  {
   "cell_type": "code",
   "execution_count": 141,
   "id": "11aa3965",
   "metadata": {},
   "outputs": [
    {
     "data": {
      "text/plain": [
       "array([ 0., -1.,  0., ..., -1., -1.,  0.])"
      ]
     },
     "execution_count": 141,
     "metadata": {},
     "output_type": "execute_result"
    }
   ],
   "source": [
    "results = make_array()\n",
    "for i in np.arange(10000):\n",
    "    results = np.append(simulate_one_roll(), results)\n",
    "results"
   ]
  },
  {
   "cell_type": "code",
   "execution_count": 142,
   "id": "586332c6",
   "metadata": {},
   "outputs": [
    {
     "data": {
      "text/plain": [
       "10000"
      ]
     },
     "execution_count": 142,
     "metadata": {},
     "output_type": "execute_result"
    }
   ],
   "source": [
    "len(results)"
   ]
  },
  {
   "cell_type": "code",
   "execution_count": 143,
   "id": "0715bd57",
   "metadata": {},
   "outputs": [
    {
     "data": {
      "text/plain": [
       "21.0"
      ]
     },
     "execution_count": 143,
     "metadata": {},
     "output_type": "execute_result"
    }
   ],
   "source": [
    "sum(results)"
   ]
  },
  {
   "cell_type": "code",
   "execution_count": 144,
   "id": "c31eb418",
   "metadata": {},
   "outputs": [],
   "source": [
    "def dice_game(numer_of_games):\n",
    "    results = make_array()\n",
    "    for i in np.arange(numer_of_games):\n",
    "        results = np.append(simulate_one_roll(), results)\n",
    "    if sum(results) > 0:\n",
    "        return print('You owe me ' + str(sum(results)) + ' dollars')\n",
    "    elif sum(results) < 0:\n",
    "        return print('I owe you ' + str(abs(sum(results))) + ' dollars')\n",
    "    elif sum(results) == 0:\n",
    "        return print('We broke even!')"
   ]
  },
  {
   "cell_type": "code",
   "execution_count": 149,
   "id": "839b5f9f",
   "metadata": {},
   "outputs": [
    {
     "name": "stdout",
     "output_type": "stream",
     "text": [
      "You owe me 73.0 dollars\n"
     ]
    }
   ],
   "source": [
    "dice_game(10000)"
   ]
  },
  {
   "cell_type": "code",
   "execution_count": 150,
   "id": "e4c3725e",
   "metadata": {},
   "outputs": [],
   "source": [
    "result_table = Table().with_column('Outcome', results)"
   ]
  },
  {
   "cell_type": "code",
   "execution_count": 154,
   "id": "4613965d",
   "metadata": {},
   "outputs": [
    {
     "data": {
      "text/html": [
       "<table border=\"1\" class=\"dataframe\">\n",
       "    <thead>\n",
       "        <tr>\n",
       "            <th>Outcome</th>\n",
       "        </tr>\n",
       "    </thead>\n",
       "    <tbody>\n",
       "        <tr>\n",
       "            <td>0      </td>\n",
       "        </tr>\n",
       "        <tr>\n",
       "            <td>-1     </td>\n",
       "        </tr>\n",
       "        <tr>\n",
       "            <td>0      </td>\n",
       "        </tr>\n",
       "        <tr>\n",
       "            <td>1      </td>\n",
       "        </tr>\n",
       "        <tr>\n",
       "            <td>-1     </td>\n",
       "        </tr>\n",
       "        <tr>\n",
       "            <td>-1     </td>\n",
       "        </tr>\n",
       "        <tr>\n",
       "            <td>-1     </td>\n",
       "        </tr>\n",
       "        <tr>\n",
       "            <td>-1     </td>\n",
       "        </tr>\n",
       "        <tr>\n",
       "            <td>-1     </td>\n",
       "        </tr>\n",
       "        <tr>\n",
       "            <td>1      </td>\n",
       "        </tr>\n",
       "    </tbody>\n",
       "</table>\n",
       "<p>... (9990 rows omitted)</p>"
      ],
      "text/plain": [
       "Outcome\n",
       "0\n",
       "-1\n",
       "0\n",
       "1\n",
       "-1\n",
       "-1\n",
       "-1\n",
       "-1\n",
       "-1\n",
       "1\n",
       "... (9990 rows omitted)"
      ]
     },
     "execution_count": 154,
     "metadata": {},
     "output_type": "execute_result"
    }
   ],
   "source": [
    "result_table"
   ]
  },
  {
   "cell_type": "code",
   "execution_count": 152,
   "id": "46422d22",
   "metadata": {},
   "outputs": [
    {
     "data": {
      "image/png": "[encoded data removed]",
      "text/plain": [
       "<Figure size 432x288 with 1 Axes>"
      ]
     },
     "metadata": {},
     "output_type": "display_data"
    }
   ],
   "source": [
    "result_table.group('Outcome').barh('Outcome')"
   ]
  },
  {
   "cell_type": "markdown",
   "id": "746f3ddd",
   "metadata": {},
   "source": [
    "## Montey Hall Problem"
   ]
  },
  {
   "cell_type": "markdown",
   "id": "9a836efa",
   "metadata": {},
   "source": [
    "During the 1960s there was a TV game show called \"Lets Make a Deal\".  Monty Hall hosted the show and one of the games was later known as the [Monty Hall problem](https://en.wikipedia.org/wiki/Monty_Hall_problem). The contestant was given three doors.  One of the doors hid a new car while the other two doors hid a goat.  The contestents would pick a door and one of the other two doors not picked was opened to reveal a goat.  The contestant was then given the option to pick the other door or keep their existing door, in hopes of selecting the door with the new car.  Which door should the contesntant pick?  Should the contestent stick with their origianl door or should they choose the other door?\n",
    "\n",
    "\n",
    "<img src=\"monty_hall_.png\" style=\"width: 200px;\"/>\n",
    "\n",
    "[image source](https://en.wikipedia.org/wiki/Monty_Hall_problem)\n",
    "\n",
    "You can logical come to the conclusion that the contestant should pick the other door and not their origianl door by the following logic:\n",
    "\n",
    "\n",
    "\n",
    "* The chance that the car is behind the originally chosen door is 1/3.\n",
    "* The car is behind either the originally chosen door or the door that remains. It can’t be anywhere else.\n",
    "* Therefore, the chance that the car is behind the door that remains is 2/3.\n",
    "* Therefore, the contestant should switch.\n",
    "\n",
    "\n",
    "Not everyone is convinced by the above logic so lets run a simulation!\n",
    "\n",
    "\n",
    "What to simulate?\n",
    "\n",
    "For each play we will simulate what’s behind all three doors:\n",
    "\n",
    "* the one the contestant first picks\n",
    "* the one that Monty opens\n",
    "* the remaining door\n",
    "\n",
    "So we will be keeping track of three quantitites, not just one.\n",
    "\n",
    "We will start by defining what is behind the three doors."
   ]
  },
  {
   "cell_type": "code",
   "execution_count": 155,
   "id": "6ba07e2f",
   "metadata": {},
   "outputs": [
    {
     "data": {
      "text/plain": [
       "array(['car', 'first goat', 'second goat'], dtype='<U11')"
      ]
     },
     "execution_count": 155,
     "metadata": {},
     "output_type": "execute_result"
    }
   ],
   "source": [
    "doors = make_array('car', 'first goat', 'second goat')\n",
    "doors"
   ]
  },
  {
   "cell_type": "markdown",
   "id": "4f7ac819",
   "metadata": {},
   "source": [
    "And defining the goats"
   ]
  },
  {
   "cell_type": "code",
   "execution_count": 156,
   "id": "7bd2bb30",
   "metadata": {},
   "outputs": [
    {
     "data": {
      "text/plain": [
       "array(['first goat', 'second goat'], dtype='<U11')"
      ]
     },
     "execution_count": 156,
     "metadata": {},
     "output_type": "execute_result"
    }
   ],
   "source": [
    "goats = make_array('first goat', 'second goat')\n",
    "goats"
   ]
  },
  {
   "cell_type": "markdown",
   "id": "afb17fa6",
   "metadata": {},
   "source": [
    "To help Monty conduct the game, we are going to have to identify which goat is selected and which one is revealed behind the open door. The function other_goat takes one goat and returns the other."
   ]
  },
  {
   "cell_type": "code",
   "execution_count": 157,
   "id": "75515efb",
   "metadata": {},
   "outputs": [],
   "source": [
    "def other_goat(x):\n",
    "    if x == 'first goat':\n",
    "        return 'second goat'\n",
    "    elif x == 'second goat':\n",
    "        return 'first goat'"
   ]
  },
  {
   "cell_type": "code",
   "execution_count": 158,
   "id": "cad929d0",
   "metadata": {},
   "outputs": [
    {
     "data": {
      "text/plain": [
       "'second goat'"
      ]
     },
     "execution_count": 158,
     "metadata": {},
     "output_type": "execute_result"
    }
   ],
   "source": [
    "other_goat('first goat')"
   ]
  },
  {
   "cell_type": "code",
   "execution_count": 159,
   "id": "65669d39",
   "metadata": {},
   "outputs": [
    {
     "data": {
      "text/plain": [
       "'first goat'"
      ]
     },
     "execution_count": 159,
     "metadata": {},
     "output_type": "execute_result"
    }
   ],
   "source": [
    "other_goat('second goat')"
   ]
  },
  {
   "cell_type": "code",
   "execution_count": 160,
   "id": "ebc39405",
   "metadata": {},
   "outputs": [],
   "source": [
    "other_goat('what goat?')"
   ]
  },
  {
   "cell_type": "markdown",
   "id": "028bcb02",
   "metadata": {},
   "source": [
    "We are now ready to simulate one play. To do this, we will define a function monty_hall_game that takes no arguments. When the function is called, it plays Monty’s game once and returns a list consisting of:\n",
    "\n",
    "* the contestant’s guess\n",
    "* what Monty reveals when he opens a door\n",
    "* what remains behind the other door\n",
    "\n",
    "The game starts with the contestant choosing one door at random. In doing so, the contestant makes a random choice from among the car, the first goat, and the second goat.\n",
    "\n",
    "If the contestant happens to pick one of the goats, then the other goat is revealed and the car is behind the remaining door.\n",
    "\n",
    "If the contestant happens to pick the car, then Monty reveals one of the goats and the other goat is behind the remaining door."
   ]
  },
  {
   "cell_type": "code",
   "execution_count": 161,
   "id": "bc5635bc",
   "metadata": {},
   "outputs": [],
   "source": [
    "def monty_hall_game():\n",
    "    \"\"\"Return \n",
    "    [contestant's guess, what Monty reveals, what remains behind the other door]\"\"\"\n",
    "    \n",
    "    contestant_guess = np.random.choice(doors)\n",
    "    \n",
    "    if contestant_guess == 'first goat':\n",
    "        return [contestant_guess, 'second goat', 'car']\n",
    "    \n",
    "    if contestant_guess == 'second goat':\n",
    "        return [contestant_guess, 'first goat', 'car']\n",
    "    \n",
    "    if contestant_guess == 'car':\n",
    "        revealed = np.random.choice(goats)\n",
    "        return [contestant_guess, revealed, other_goat(revealed)]"
   ]
  },
  {
   "cell_type": "code",
   "execution_count": 167,
   "id": "a210e78d",
   "metadata": {},
   "outputs": [
    {
     "data": {
      "text/plain": [
       "['first goat', 'second goat', 'car']"
      ]
     },
     "execution_count": 167,
     "metadata": {},
     "output_type": "execute_result"
    }
   ],
   "source": [
    "monty_hall_game()"
   ]
  },
  {
   "cell_type": "markdown",
   "id": "1719c08a",
   "metadata": {},
   "source": [
    "Run the above cell a few times to see how the simulation changes"
   ]
  },
  {
   "cell_type": "markdown",
   "id": "a68d36b8",
   "metadata": {},
   "source": [
    "Now it is time to run the simulation.  Let's run it 10,000 times.  We will append our data into a talbe with three columns: \"Guess\", \"Revealed\", \"Remaining\"."
   ]
  },
  {
   "cell_type": "code",
   "execution_count": 168,
   "id": "e14656ca",
   "metadata": {},
   "outputs": [],
   "source": [
    "games = Table(['Guess', 'Revealed', 'Remaining'])"
   ]
  },
  {
   "cell_type": "code",
   "execution_count": 177,
   "id": "ee5c3e29",
   "metadata": {},
   "outputs": [],
   "source": [
    "# Play the game 10000 times and \n",
    "# record the results in the table games\n",
    "\n",
    "for i in np.arange(10000):\n",
    "    games.append(monty_hall_game())"
   ]
  },
  {
   "cell_type": "code",
   "execution_count": 178,
   "id": "e44d3b4a",
   "metadata": {},
   "outputs": [
    {
     "data": {
      "text/html": [
       "<table border=\"1\" class=\"dataframe\">\n",
       "    <thead>\n",
       "        <tr>\n",
       "            <th>Guess</th> <th>Revealed</th> <th>Remaining</th>\n",
       "        </tr>\n",
       "    </thead>\n",
       "    <tbody>\n",
       "        <tr>\n",
       "            <td>second goat</td> <td>first goat </td> <td>car        </td>\n",
       "        </tr>\n",
       "        <tr>\n",
       "            <td>car        </td> <td>second goat</td> <td>first goat </td>\n",
       "        </tr>\n",
       "        <tr>\n",
       "            <td>car        </td> <td>first goat </td> <td>second goat</td>\n",
       "        </tr>\n",
       "        <tr>\n",
       "            <td>car        </td> <td>first goat </td> <td>second goat</td>\n",
       "        </tr>\n",
       "        <tr>\n",
       "            <td>car        </td> <td>second goat</td> <td>first goat </td>\n",
       "        </tr>\n",
       "        <tr>\n",
       "            <td>car        </td> <td>second goat</td> <td>first goat </td>\n",
       "        </tr>\n",
       "        <tr>\n",
       "            <td>second goat</td> <td>first goat </td> <td>car        </td>\n",
       "        </tr>\n",
       "        <tr>\n",
       "            <td>second goat</td> <td>first goat </td> <td>car        </td>\n",
       "        </tr>\n",
       "        <tr>\n",
       "            <td>first goat </td> <td>second goat</td> <td>car        </td>\n",
       "        </tr>\n",
       "        <tr>\n",
       "            <td>car        </td> <td>second goat</td> <td>first goat </td>\n",
       "        </tr>\n",
       "    </tbody>\n",
       "</table>\n",
       "<p>... (19990 rows omitted)</p>"
      ],
      "text/plain": [
       "Guess       | Revealed    | Remaining\n",
       "second goat | first goat  | car\n",
       "car         | second goat | first goat\n",
       "car         | first goat  | second goat\n",
       "car         | first goat  | second goat\n",
       "car         | second goat | first goat\n",
       "car         | second goat | first goat\n",
       "second goat | first goat  | car\n",
       "second goat | first goat  | car\n",
       "first goat  | second goat | car\n",
       "car         | second goat | first goat\n",
       "... (19990 rows omitted)"
      ]
     },
     "execution_count": 178,
     "metadata": {},
     "output_type": "execute_result"
    }
   ],
   "source": [
    "games"
   ]
  },
  {
   "cell_type": "code",
   "execution_count": 179,
   "id": "8634398d",
   "metadata": {},
   "outputs": [
    {
     "data": {
      "text/html": [
       "<table border=\"1\" class=\"dataframe\">\n",
       "    <thead>\n",
       "        <tr>\n",
       "            <th>Guess</th> <th>count</th>\n",
       "        </tr>\n",
       "    </thead>\n",
       "    <tbody>\n",
       "        <tr>\n",
       "            <td>car        </td> <td>6802 </td>\n",
       "        </tr>\n",
       "        <tr>\n",
       "            <td>first goat </td> <td>6575 </td>\n",
       "        </tr>\n",
       "        <tr>\n",
       "            <td>second goat</td> <td>6623 </td>\n",
       "        </tr>\n",
       "    </tbody>\n",
       "</table>"
      ],
      "text/plain": [
       "Guess       | count\n",
       "car         | 6802\n",
       "first goat  | 6575\n",
       "second goat | 6623"
      ]
     },
     "execution_count": 179,
     "metadata": {},
     "output_type": "execute_result"
    }
   ],
   "source": [
    "original_choice = games.group('Guess')\n",
    "original_choice"
   ]
  },
  {
   "cell_type": "markdown",
   "id": "875282e6",
   "metadata": {},
   "source": [
    "The first time the contestant choose a door it is about a 1/3% chance of picking the car.  "
   ]
  },
  {
   "cell_type": "code",
   "execution_count": 180,
   "id": "9a673a7a",
   "metadata": {},
   "outputs": [
    {
     "data": {
      "text/html": [
       "<table border=\"1\" class=\"dataframe\">\n",
       "    <thead>\n",
       "        <tr>\n",
       "            <th>Remaining</th> <th>count</th>\n",
       "        </tr>\n",
       "    </thead>\n",
       "    <tbody>\n",
       "        <tr>\n",
       "            <td>car        </td> <td>13198</td>\n",
       "        </tr>\n",
       "        <tr>\n",
       "            <td>first goat </td> <td>3408 </td>\n",
       "        </tr>\n",
       "        <tr>\n",
       "            <td>second goat</td> <td>3394 </td>\n",
       "        </tr>\n",
       "    </tbody>\n",
       "</table>"
      ],
      "text/plain": [
       "Remaining   | count\n",
       "car         | 13198\n",
       "first goat  | 3408\n",
       "second goat | 3394"
      ]
     },
     "execution_count": 180,
     "metadata": {},
     "output_type": "execute_result"
    }
   ],
   "source": [
    "remaining_door = games.group('Remaining')\n",
    "remaining_door"
   ]
  },
  {
   "cell_type": "markdown",
   "id": "5e08b790",
   "metadata": {},
   "source": [
    "However, the car is behind the remaining door about 2/3 of the time!"
   ]
  },
  {
   "cell_type": "markdown",
   "id": "ebb7f40d",
   "metadata": {},
   "source": [
    "Let's plot this graphically:"
   ]
  },
  {
   "cell_type": "code",
   "execution_count": 181,
   "id": "1f149982",
   "metadata": {},
   "outputs": [
    {
     "data": {
      "text/html": [
       "<table border=\"1\" class=\"dataframe\">\n",
       "    <thead>\n",
       "        <tr>\n",
       "            <th>Guess</th> <th>count</th> <th>count_2</th>\n",
       "        </tr>\n",
       "    </thead>\n",
       "    <tbody>\n",
       "        <tr>\n",
       "            <td>car        </td> <td>6802 </td> <td>13198  </td>\n",
       "        </tr>\n",
       "        <tr>\n",
       "            <td>first goat </td> <td>6575 </td> <td>3408   </td>\n",
       "        </tr>\n",
       "        <tr>\n",
       "            <td>second goat</td> <td>6623 </td> <td>3394   </td>\n",
       "        </tr>\n",
       "    </tbody>\n",
       "</table>"
      ],
      "text/plain": [
       "Guess       | count | count_2\n",
       "car         | 6802  | 13198\n",
       "first goat  | 6575  | 3408\n",
       "second goat | 6623  | 3394"
      ]
     },
     "execution_count": 181,
     "metadata": {},
     "output_type": "execute_result"
    }
   ],
   "source": [
    "joined = original_choice.join('Guess', remaining_door, 'Remaining')\n",
    "joined"
   ]
  },
  {
   "cell_type": "code",
   "execution_count": 182,
   "id": "b0d71d33",
   "metadata": {},
   "outputs": [
    {
     "data": {
      "text/html": [
       "<table border=\"1\" class=\"dataframe\">\n",
       "    <thead>\n",
       "        <tr>\n",
       "            <th>Item</th> <th>Original Door</th> <th>Remaining Door</th>\n",
       "        </tr>\n",
       "    </thead>\n",
       "    <tbody>\n",
       "        <tr>\n",
       "            <td>car        </td> <td>6802         </td> <td>13198         </td>\n",
       "        </tr>\n",
       "        <tr>\n",
       "            <td>first goat </td> <td>6575         </td> <td>3408          </td>\n",
       "        </tr>\n",
       "        <tr>\n",
       "            <td>second goat</td> <td>6623         </td> <td>3394          </td>\n",
       "        </tr>\n",
       "    </tbody>\n",
       "</table>"
      ],
      "text/plain": [
       "Item        | Original Door | Remaining Door\n",
       "car         | 6802          | 13198\n",
       "first goat  | 6575          | 3408\n",
       "second goat | 6623          | 3394"
      ]
     },
     "execution_count": 182,
     "metadata": {},
     "output_type": "execute_result"
    }
   ],
   "source": [
    "combined = joined.relabeled(0, 'Item').relabeled(1, 'Original Door').relabeled(2, 'Remaining Door')\n",
    "combined"
   ]
  },
  {
   "cell_type": "code",
   "execution_count": 183,
   "id": "47bdd39c",
   "metadata": {},
   "outputs": [
    {
     "data": {
      "image/png": "[encoded data removed]",
      "text/plain": [
       "<Figure size 432x288 with 1 Axes>"
      ]
     },
     "metadata": {},
     "output_type": "display_data"
    }
   ],
   "source": [
    "combined.barh(0)"
   ]
  },
  {
   "cell_type": "markdown",
   "id": "036b07f8",
   "metadata": {},
   "source": [
    "From the bar plot, we can see the first choice is equally likely to be a car or one of the goats.  However, the remaining door is 2 times as likly to be the car!"
   ]
  },
  {
   "cell_type": "markdown",
   "id": "f5aeda2d",
   "metadata": {},
   "source": [
    "## Probability"
   ]
  },
  {
   "cell_type": "markdown",
   "id": "d14bb1b3",
   "metadata": {},
   "source": [
    "Probailities are numbers between 0 and 1, or 0% to 100%.  Impossible is 0 or 0% and guaranteed events are 1 or 100%\n",
    "\n",
    "We define **P(Event)** as the probability an event happens.  The words *chance* and *probability* are interchangable.\n",
    "\n",
    "**<center>P(Event does not happen) = 1 - P(Event)</center>**"
   ]
  },
  {
   "cell_type": "markdown",
   "id": "d5a02af2",
   "metadata": {},
   "source": [
    "When all events are equally likely to happen (like rolling a die).\n",
    "\n",
    "**<center>P(Event) = (#Event outcomes) / (# of all outcomes)</center>**"
   ]
  },
  {
   "cell_type": "markdown",
   "id": "d4c228ec",
   "metadata": {},
   "source": [
    "What is the probability when two events must both happen in a particular order (like picking two out of three balls in order)?\n",
    "\n",
    "Suppose you have 3 balls (blue, green, red).  What are the chances you pick the blue then the green ball?\n",
    "\n",
    "* First to pick the blue ball. P(pick blue)= 1/3\n",
    "\n",
    "* Second to pick the green ball. P(pick green) = 1/2\n",
    "\n",
    "* P(to pick blue then green) = 1/3 * 1/2 = 1/6\n",
    "\n",
    "In general we have have the multiplication rule:\n",
    "\n",
    "**<center>P(two event happn) = P(first event) * P(second event)</center>**"
   ]
  },
  {
   "cell_type": "markdown",
   "id": "b424ea94",
   "metadata": {},
   "source": [
    "What is the probability that two events must happen in any order (like picking two out of three balls in any order)?\n",
    "\n",
    "Suppose you have 3 balls (blue, green, red).  What are the chances you pick the blue and the green ball?\n",
    "\n",
    "* To pick the blue ball. P(pick blue)= 1/3\n",
    "* To pick the green ball. P(pick green) = 1/3\n",
    "\n",
    "P(pick blue and green) = 1/3 + 1/3 = 2/6 = 1/3\n",
    "\n",
    "In general we have have the additive rule:\n",
    "\n",
    "**<center>P(two event happn) = P(first event) + P(second event)</center>**"
   ]
  },
  {
   "cell_type": "markdown",
   "id": "0b8730c4",
   "metadata": {},
   "source": [
    "What is the probability that at least one event happens (like getting one heads on four coin flips)?\n",
    "\n",
    "Suppose you have coin and you flip it four times. What are the chances you flip at least one head?\n",
    "\n",
    "The four possible outcomes are:  HH, HT, TH, TT.  \n",
    "\n",
    "* To to flip heads. P(heads)= 3/4\n",
    "\n",
    "Or you can think of the probalbilty as not fliping two tails\n",
    "\n",
    "* To to flip heads = Not to flip two tails = 1 - P(both tails) = 1 - 1/4 = 3/4\n",
    "\n",
    "Note:\n",
    "\n",
    "* P(both tails) = 1/2 * 1/2 = (1/2)^2 = 1/4\n",
    "\n",
    "At least one head in 25 tosses:\n",
    "\n",
    "* P(heads = 1 - P(all are tails) = 1 - (1/2)^17\n",
    "\n",
    "\n",
    "**<center>P(two event happn) = P(first event) + P(second event)</center>**"
   ]
  },
  {
   "cell_type": "markdown",
   "id": "e200c10b",
   "metadata": {},
   "source": [
    "Going back to the dice example:  What is the chance we will roll a six if givin 6 rolls of a dice?\n",
    "\n",
    "* P(six) = 1/6 = 1 - P(not a six) = 1 - (5/6)\n",
    "\n",
    "* P(one six in two rolls) = 1 - P(both are not 6) = 1 - (5/6)^2\n",
    "\n",
    "Let's put the chances of rolling one six in 1 to 50 rolls into a table:"
   ]
  },
  {
   "cell_type": "code",
   "execution_count": 185,
   "id": "6fc28852",
   "metadata": {},
   "outputs": [
    {
     "data": {
      "text/html": [
       "<table border=\"1\" class=\"dataframe\">\n",
       "    <thead>\n",
       "        <tr>\n",
       "            <th>Rolls</th> <th>Chance of at least one 6</th>\n",
       "        </tr>\n",
       "    </thead>\n",
       "    <tbody>\n",
       "        <tr>\n",
       "            <td>1    </td> <td>0.166667                </td>\n",
       "        </tr>\n",
       "        <tr>\n",
       "            <td>2    </td> <td>0.305556                </td>\n",
       "        </tr>\n",
       "        <tr>\n",
       "            <td>3    </td> <td>0.421296                </td>\n",
       "        </tr>\n",
       "        <tr>\n",
       "            <td>4    </td> <td>0.517747                </td>\n",
       "        </tr>\n",
       "        <tr>\n",
       "            <td>5    </td> <td>0.598122                </td>\n",
       "        </tr>\n",
       "        <tr>\n",
       "            <td>6    </td> <td>0.665102                </td>\n",
       "        </tr>\n",
       "        <tr>\n",
       "            <td>7    </td> <td>0.720918                </td>\n",
       "        </tr>\n",
       "        <tr>\n",
       "            <td>8    </td> <td>0.767432                </td>\n",
       "        </tr>\n",
       "        <tr>\n",
       "            <td>9    </td> <td>0.806193                </td>\n",
       "        </tr>\n",
       "        <tr>\n",
       "            <td>10   </td> <td>0.838494                </td>\n",
       "        </tr>\n",
       "    </tbody>\n",
       "</table>\n",
       "<p>... (40 rows omitted)</p>"
      ],
      "text/plain": [
       "Rolls | Chance of at least one 6\n",
       "1     | 0.166667\n",
       "2     | 0.305556\n",
       "3     | 0.421296\n",
       "4     | 0.517747\n",
       "5     | 0.598122\n",
       "6     | 0.665102\n",
       "7     | 0.720918\n",
       "8     | 0.767432\n",
       "9     | 0.806193\n",
       "10    | 0.838494\n",
       "... (40 rows omitted)"
      ]
     },
     "execution_count": 185,
     "metadata": {},
     "output_type": "execute_result"
    }
   ],
   "source": [
    "rolls = np.arange(1, 51)\n",
    "results = Table().with_columns(\n",
    "    'Rolls', rolls,\n",
    "    'Chance of at least one 6', 1 - (5/6)**rolls\n",
    ")\n",
    "results"
   ]
  },
  {
   "cell_type": "code",
   "execution_count": 186,
   "id": "6659f698",
   "metadata": {},
   "outputs": [
    {
     "data": {
      "image/png": "[encoded data removed]",
      "text/plain": [
       "<Figure size 360x360 with 1 Axes>"
      ]
     },
     "metadata": {},
     "output_type": "display_data"
    }
   ],
   "source": [
    "results.scatter('Rolls')"
   ]
  },
  {
   "cell_type": "code",
   "execution_count": 187,
   "id": "3b6e8fa5",
   "metadata": {},
   "outputs": [
    {
     "data": {
      "text/html": [
       "<table border=\"1\" class=\"dataframe\">\n",
       "    <thead>\n",
       "        <tr>\n",
       "            <th>Rolls</th> <th>Chance of at least one 6</th>\n",
       "        </tr>\n",
       "    </thead>\n",
       "    <tbody>\n",
       "        <tr>\n",
       "            <td>50   </td> <td>0.99989                 </td>\n",
       "        </tr>\n",
       "    </tbody>\n",
       "</table>"
      ],
      "text/plain": [
       "Rolls | Chance of at least one 6\n",
       "50    | 0.99989"
      ]
     },
     "execution_count": 187,
     "metadata": {},
     "output_type": "execute_result"
    }
   ],
   "source": [
    "results.where('Rolls', are.equal_to(50))"
   ]
  },
  {
   "cell_type": "code",
   "execution_count": null,
   "id": "a966e7e6",
   "metadata": {},
   "outputs": [],
   "source": []
  }
 ],
 "metadata": {
  "kernelspec": {
   "display_name": "Python 3",
   "language": "python",
   "name": "python3"
  },
  "language_info": {
   "codemirror_mode": {
    "name": "ipython",
    "version": 3
   },
   "file_extension": ".py",
   "mimetype": "text/x-python",
   "name": "python",
   "nbconvert_exporter": "python",
   "pygments_lexer": "ipython3",
   "version": "3.7.1"
  }
 },
 "nbformat": 4,
 "nbformat_minor": 5
}
