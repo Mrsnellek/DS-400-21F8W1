{
 "cells": [
  {
   "cell_type": "markdown",
   "id": "ad1eecd3",
   "metadata": {},
   "source": [
    "The contents of this course including lectures, labs, homework assignments, and exams have all been adapted from the [Data 8 course at University California Berkley](https://data.berkeley.edu/education/courses/data-8). Through their generosity and passion for undergraduate education, the Data 8 community at Berkley has opened their content and expertise for other universities to adapt in the name of undergraduate education."
   ]
  },
  {
   "cell_type": "code",
   "execution_count": null,
   "id": "91303c0f",
   "metadata": {},
   "outputs": [],
   "source": [
    "!pip install datascience -q\n",
    "from datascience import *\n",
    "import numpy as np\n",
    "\n",
    "%matplotlib inline\n",
    "import matplotlib.pyplot as plots\n",
    "plots.style.use('fivethirtyeight')"
   ]
  },
  {
   "cell_type": "markdown",
   "id": "3108de54",
   "metadata": {},
   "source": [
    "## Review: Chapter 8 Functions and Tables"
   ]
  },
  {
   "cell_type": "code",
   "execution_count": null,
   "id": "cff1895d",
   "metadata": {},
   "outputs": [],
   "source": [
    "#load the galton.csv file as galton"
   ]
  },
  {
   "cell_type": "code",
   "execution_count": null,
   "id": "5e42f061",
   "metadata": {},
   "outputs": [],
   "source": [
    "# Create a plot showing a count of number of children in the families"
   ]
  },
  {
   "cell_type": "code",
   "execution_count": null,
   "id": "fb51e86c",
   "metadata": {},
   "outputs": [],
   "source": [
    "# Create a plot showing how the avearge child height changes with the number of children in a family."
   ]
  },
  {
   "cell_type": "code",
   "execution_count": null,
   "id": "375e46a6",
   "metadata": {},
   "outputs": [],
   "source": [
    "#Create a function called \"years_working\" that takes two agruments, \"total_earnings\" and \"hourly_wages\" \n",
    "# the function returns how many years it will take to earn the \"total_earnings\" working 40 hours a week, \n",
    "# 52 weeks a year at the given \"hourly_wage\""
   ]
  },
  {
   "cell_type": "code",
   "execution_count": null,
   "id": "1d99abdf",
   "metadata": {},
   "outputs": [],
   "source": [
    "#How many years will it take to earn $100,000 working $7.25 per hour?"
   ]
  },
  {
   "cell_type": "code",
   "execution_count": null,
   "id": "75e361cb",
   "metadata": {},
   "outputs": [],
   "source": [
    "#How many years will it take to earn 129 billion dollars (Jeff Bezos' estimated wealth) earning $100,000 per hour?"
   ]
  },
  {
   "cell_type": "markdown",
   "id": "2eac2339",
   "metadata": {},
   "source": [
    "# Chapter 9: Randomness\n",
    "\n",
    "Data scientists have to understand randomness.  At times they will have to randomly assign itmes to treatment and controll groups, or they have to randomally pull data from a source.  "
   ]
  },
  {
   "cell_type": "markdown",
   "id": "358483f4",
   "metadata": {},
   "source": [
    "Numpy has a built in function that makes choices at random:\n",
    "<code> np.random.choice(array_name)</code>, where <code>array_name</code> is the name of the array from which to make the choice."
   ]
  },
  {
   "cell_type": "markdown",
   "id": "ba6ab0a4",
   "metadata": {},
   "source": [
    "Run the cell below a few times to see the output."
   ]
  },
  {
   "cell_type": "code",
   "execution_count": null,
   "id": "908c476f",
   "metadata": {},
   "outputs": [],
   "source": [
    "two_groups = make_array('treatment', 'control')\n",
    "np.random.choice(two_groups)"
   ]
  },
  {
   "cell_type": "markdown",
   "id": "42335009",
   "metadata": {},
   "source": [
    "We can also take a random choice <code>n</code> times"
   ]
  },
  {
   "cell_type": "code",
   "execution_count": null,
   "id": "98105f0d",
   "metadata": {},
   "outputs": [],
   "source": [
    "np.random.choice(['Yes', 'No'], 10)"
   ]
  },
  {
   "cell_type": "markdown",
   "id": "86e8c6ca",
   "metadata": {},
   "source": [
    "### Booleans and Comparison"
   ]
  },
  {
   "cell_type": "markdown",
   "id": "38df8890",
   "metadata": {},
   "source": [
    "Is 3 greater than 1?"
   ]
  },
  {
   "cell_type": "code",
   "execution_count": null,
   "id": "a9017165",
   "metadata": {},
   "outputs": [],
   "source": [
    "3 > 1"
   ]
  },
  {
   "cell_type": "code",
   "execution_count": null,
   "id": "2b4719d3",
   "metadata": {},
   "outputs": [],
   "source": [
    "type(3 > 1)"
   ]
  },
  {
   "cell_type": "code",
   "execution_count": null,
   "id": "aca46e81",
   "metadata": {},
   "outputs": [],
   "source": [
    "True"
   ]
  },
  {
   "cell_type": "code",
   "execution_count": null,
   "id": "bb3a86f1",
   "metadata": {},
   "outputs": [],
   "source": [
    "true"
   ]
  },
  {
   "cell_type": "markdown",
   "id": "ff6bb515",
   "metadata": {},
   "source": [
    "Does 3 equal 3?"
   ]
  },
  {
   "cell_type": "code",
   "execution_count": null,
   "id": "f34632ea",
   "metadata": {},
   "outputs": [],
   "source": [
    "3 = 3"
   ]
  },
  {
   "cell_type": "code",
   "execution_count": null,
   "id": "794d2382",
   "metadata": {},
   "outputs": [],
   "source": [
    "3 == 3 "
   ]
  },
  {
   "cell_type": "code",
   "execution_count": null,
   "id": "bdbfedf9",
   "metadata": {},
   "outputs": [],
   "source": [
    "3 != 0"
   ]
  },
  {
   "cell_type": "code",
   "execution_count": null,
   "id": "737fe516",
   "metadata": {},
   "outputs": [],
   "source": [
    "x = 14\n",
    "y = 3"
   ]
  },
  {
   "cell_type": "code",
   "execution_count": null,
   "id": "2c963a7b",
   "metadata": {},
   "outputs": [],
   "source": [
    "x > 15"
   ]
  },
  {
   "cell_type": "code",
   "execution_count": null,
   "id": "0e5f0a19",
   "metadata": {},
   "outputs": [],
   "source": [
    "12 < x"
   ]
  },
  {
   "cell_type": "code",
   "execution_count": null,
   "id": "459f98fa",
   "metadata": {},
   "outputs": [],
   "source": [
    "x < 20"
   ]
  },
  {
   "cell_type": "code",
   "execution_count": null,
   "id": "d812abb3",
   "metadata": {},
   "outputs": [],
   "source": [
    "12 < x < 20"
   ]
  },
  {
   "cell_type": "code",
   "execution_count": null,
   "id": "0a710925",
   "metadata": {},
   "outputs": [],
   "source": [
    "10 < x-y < 13"
   ]
  },
  {
   "cell_type": "code",
   "execution_count": null,
   "id": "f5343ec3",
   "metadata": {},
   "outputs": [],
   "source": [
    "x > 13 and y < 3.14159"
   ]
  },
  {
   "cell_type": "markdown",
   "id": "cc7d16b4",
   "metadata": {},
   "source": [
    "## Comparisons with arrays"
   ]
  },
  {
   "cell_type": "code",
   "execution_count": null,
   "id": "e12b520b",
   "metadata": {},
   "outputs": [],
   "source": [
    "pets = make_array('cat', 'cat', 'dog', 'cat', 'dog', 'rabbit')"
   ]
  },
  {
   "cell_type": "code",
   "execution_count": null,
   "id": "eb1f86e6",
   "metadata": {},
   "outputs": [],
   "source": [
    "pets == 'cat'"
   ]
  },
  {
   "cell_type": "code",
   "execution_count": null,
   "id": "a19870f8",
   "metadata": {},
   "outputs": [],
   "source": [
    "1 + 1 + 0 + 1 + 0 + 0"
   ]
  },
  {
   "cell_type": "code",
   "execution_count": null,
   "id": "a20c798f",
   "metadata": {},
   "outputs": [],
   "source": [
    "sum(make_array(True, True, False, True, False, False))"
   ]
  },
  {
   "cell_type": "code",
   "execution_count": null,
   "id": "fac01f5c",
   "metadata": {},
   "outputs": [],
   "source": [
    "sum(pets == 'dog')"
   ]
  },
  {
   "cell_type": "code",
   "execution_count": null,
   "id": "c2c70b04",
   "metadata": {},
   "outputs": [],
   "source": [
    "np.count_nonzero(pets == 'dog')"
   ]
  },
  {
   "cell_type": "code",
   "execution_count": null,
   "id": "ec30e4b7",
   "metadata": {},
   "outputs": [],
   "source": [
    "x = np.arange(20, 31)"
   ]
  },
  {
   "cell_type": "code",
   "execution_count": null,
   "id": "563fc4da",
   "metadata": {
    "scrolled": true
   },
   "outputs": [],
   "source": [
    "x > 28"
   ]
  },
  {
   "cell_type": "markdown",
   "id": "5cbc5c1d",
   "metadata": {},
   "source": [
    "## Conditional Statements  -  If loops"
   ]
  },
  {
   "cell_type": "markdown",
   "id": "aea9764e",
   "metadata": {},
   "source": [
    "Conditional statements allows Python to evaluate based on if a condition is true or false.  It the condition is true the block of code is evaluated.  If the condition is false the block of code is skipped. \n",
    "\n",
    "A conditional statements always begins with an <code>if</code> header, which is a single line followed by an indented body. The body is only executed if the expression directly following if (called the if expression) evaluates to a true value. If the if expression evaluates to a false value, then the body of the if is skipped."
   ]
  },
  {
   "cell_type": "code",
   "execution_count": null,
   "id": "100a958f",
   "metadata": {},
   "outputs": [],
   "source": [
    "def sign(x):\n",
    "    \n",
    "    if x > 0:\n",
    "        return 'Positive'"
   ]
  },
  {
   "cell_type": "code",
   "execution_count": null,
   "id": "c7b211ca",
   "metadata": {},
   "outputs": [],
   "source": [
    "sign(3)"
   ]
  },
  {
   "cell_type": "code",
   "execution_count": null,
   "id": "9121faf6",
   "metadata": {},
   "outputs": [],
   "source": [
    "sign(-3)"
   ]
  },
  {
   "cell_type": "code",
   "execution_count": null,
   "id": "5c7201cb",
   "metadata": {},
   "outputs": [],
   "source": [
    "def sign(x):\n",
    "    \n",
    "    if x > 0:\n",
    "        return 'Positive'\n",
    "    \n",
    "    elif x < 0:\n",
    "        return 'Negative'"
   ]
  },
  {
   "cell_type": "code",
   "execution_count": null,
   "id": "b9887e19",
   "metadata": {},
   "outputs": [],
   "source": [
    "sign(-3)"
   ]
  },
  {
   "cell_type": "code",
   "execution_count": null,
   "id": "28b8b6a9",
   "metadata": {},
   "outputs": [],
   "source": [
    "sign(0)"
   ]
  },
  {
   "cell_type": "code",
   "execution_count": null,
   "id": "a5c3b401",
   "metadata": {},
   "outputs": [],
   "source": [
    "def sign(x):\n",
    "    \n",
    "    if x > 0:\n",
    "        return 'Positive'\n",
    "    \n",
    "    elif x < 0:\n",
    "        return 'Negative'\n",
    "    \n",
    "    elif x == 0:\n",
    "        return 'Neither positive nor negative'"
   ]
  },
  {
   "cell_type": "code",
   "execution_count": null,
   "id": "8e84ff94",
   "metadata": {},
   "outputs": [],
   "source": [
    "sign(0)"
   ]
  },
  {
   "cell_type": "code",
   "execution_count": null,
   "id": "ecd3613a",
   "metadata": {},
   "outputs": [],
   "source": [
    "sign('What about this')"
   ]
  },
  {
   "cell_type": "markdown",
   "id": "82924d61",
   "metadata": {},
   "source": [
    "### Copy the code above and change the function to return \"Error! You provided a string. Please provide a number.\" if it is given a string"
   ]
  },
  {
   "cell_type": "code",
   "execution_count": null,
   "id": "53d8ac34",
   "metadata": {},
   "outputs": [],
   "source": [
    "def sign(x):\n",
    "    \n",
    "    if type(x) == str:\n",
    "        return 'Error! You provided a string. Please provide a number.'\n",
    "    \n",
    "    elif x > 0:\n",
    "        return 'Positive'\n",
    "    \n",
    "    elif x < 0:\n",
    "        return 'Negative'\n",
    "    \n",
    "    elif x == 0:\n",
    "        return 'Neither positive nor negative'"
   ]
  },
  {
   "cell_type": "code",
   "execution_count": null,
   "id": "033441dd",
   "metadata": {},
   "outputs": [],
   "source": [
    "sign([4])"
   ]
  },
  {
   "cell_type": "code",
   "execution_count": null,
   "id": "7f1df40f",
   "metadata": {},
   "outputs": [],
   "source": [
    "sign(4)"
   ]
  },
  {
   "cell_type": "code",
   "execution_count": null,
   "id": "bafb5af6",
   "metadata": {},
   "outputs": [],
   "source": [
    "sign(-34524.0243523)"
   ]
  },
  {
   "cell_type": "code",
   "execution_count": null,
   "id": "b559762c",
   "metadata": {},
   "outputs": [],
   "source": [
    "sign(0)"
   ]
  },
  {
   "cell_type": "markdown",
   "id": "7233563e",
   "metadata": {},
   "source": [
    "There is always exactly one if clause, but there can be any number of elif clauses. Python will evaluate the if and elif expressions in the headers in order until one is found that is a true value, then execute the corresponding body. The else clause is optional. When an else header is provided, its else body is executed only if none of the header expressions of the previous clauses are true. The else clause must always come at the end (or not at all)."
   ]
  },
  {
   "cell_type": "markdown",
   "id": "9e537bcb",
   "metadata": {},
   "source": [
    "## Simulation"
   ]
  },
  {
   "cell_type": "markdown",
   "id": "31054dc0",
   "metadata": {},
   "source": [
    "Let's play a game: we each roll a die. \n",
    "\n",
    "If my number is bigger: you pay me a dollar.\n",
    "\n",
    "If they're the same: we do nothing.\n",
    "\n",
    "If your number is bigger: I pay you a dollar."
   ]
  },
  {
   "cell_type": "markdown",
   "id": "4bc978d5",
   "metadata": {},
   "source": [
    "Steps:\n",
    "1. Find a way to simulate two dice rolls.\n",
    "2. Compute how much money we win/lose based on the result.\n",
    "3. Do steps 1 and 2 10,000 times."
   ]
  },
  {
   "cell_type": "markdown",
   "id": "55e4ee97",
   "metadata": {},
   "source": [
    "Start with step 1:"
   ]
  },
  {
   "cell_type": "code",
   "execution_count": null,
   "id": "02f9ae8c",
   "metadata": {},
   "outputs": [],
   "source": [
    "def roll(my_roll, your_roll):\n",
    "    if my_roll > your_roll:\n",
    "        return 1\n",
    "    elif your_roll > my_roll:\n",
    "        return -1\n",
    "    elif your_roll == my_roll:\n",
    "        return 0"
   ]
  },
  {
   "cell_type": "code",
   "execution_count": null,
   "id": "066054be",
   "metadata": {},
   "outputs": [],
   "source": [
    "roll(3,4)"
   ]
  },
  {
   "cell_type": "code",
   "execution_count": null,
   "id": "a5c58a28",
   "metadata": {},
   "outputs": [],
   "source": [
    "roll(4,4)"
   ]
  },
  {
   "cell_type": "code",
   "execution_count": null,
   "id": "439e2b56",
   "metadata": {},
   "outputs": [],
   "source": [
    "roll(6,1)"
   ]
  },
  {
   "cell_type": "markdown",
   "id": "55ee3d50",
   "metadata": {},
   "source": [
    "Step 2:"
   ]
  },
  {
   "cell_type": "code",
   "execution_count": null,
   "id": "f4213927",
   "metadata": {},
   "outputs": [],
   "source": [
    "die_faces = np.arange(1,7)"
   ]
  },
  {
   "cell_type": "code",
   "execution_count": null,
   "id": "01e6c69a",
   "metadata": {},
   "outputs": [],
   "source": [
    "np.random.choice(die_faces)"
   ]
  },
  {
   "cell_type": "code",
   "execution_count": null,
   "id": "a6dbdcf6",
   "metadata": {},
   "outputs": [],
   "source": [
    "def simulate_one_roll():\n",
    "    my_roll = np.random.choice(die_faces)\n",
    "    your_roll = np.random.choice(die_faces)\n",
    "    return roll(my_roll, your_roll)"
   ]
  },
  {
   "cell_type": "code",
   "execution_count": null,
   "id": "68b5ec99",
   "metadata": {},
   "outputs": [],
   "source": [
    "simulate_one_roll()"
   ]
  },
  {
   "cell_type": "markdown",
   "id": "d6da02c6",
   "metadata": {},
   "source": [
    "### Iterations and Appending Arrays"
   ]
  },
  {
   "cell_type": "markdown",
   "id": "599ee4b6",
   "metadata": {},
   "source": [
    "We now have a function that takes a roll of a dice and determins who wins.  We want to run the function 10,000 time to see who wins our dice game after 10,000 rolls.  Just run the above cell 10,00 times and add up the resutls.  Ha! Just kidding. That would be way too tedious.  We need to learn how to have Python run the simulation 10,000 and sum the outcomes.  To do that we first need to learn how to append arrays."
   ]
  },
  {
   "cell_type": "markdown",
   "id": "36893d77",
   "metadata": {},
   "source": [
    "### Appending Arrays"
   ]
  },
  {
   "cell_type": "code",
   "execution_count": null,
   "id": "37327e1b",
   "metadata": {},
   "outputs": [],
   "source": [
    "first = np.arange(4)\n",
    "second = np.arange(10, 17)"
   ]
  },
  {
   "cell_type": "code",
   "execution_count": null,
   "id": "56d5bea4",
   "metadata": {},
   "outputs": [],
   "source": [
    "np.append(first, 6)"
   ]
  },
  {
   "cell_type": "code",
   "execution_count": null,
   "id": "3fde2d1c",
   "metadata": {},
   "outputs": [],
   "source": [
    "first"
   ]
  },
  {
   "cell_type": "code",
   "execution_count": null,
   "id": "04cd56d2",
   "metadata": {},
   "outputs": [],
   "source": [
    "np.append(first, second)"
   ]
  },
  {
   "cell_type": "code",
   "execution_count": null,
   "id": "c494c2e9",
   "metadata": {},
   "outputs": [],
   "source": [
    "first"
   ]
  },
  {
   "cell_type": "code",
   "execution_count": null,
   "id": "306bb09f",
   "metadata": {},
   "outputs": [],
   "source": [
    "second"
   ]
  },
  {
   "cell_type": "markdown",
   "id": "5fff5531",
   "metadata": {},
   "source": [
    "### Repeated Betting ###"
   ]
  },
  {
   "cell_type": "code",
   "execution_count": null,
   "id": "a5832bef",
   "metadata": {},
   "outputs": [],
   "source": [
    "results = make_array()"
   ]
  },
  {
   "cell_type": "code",
   "execution_count": null,
   "id": "444e9a43",
   "metadata": {},
   "outputs": [],
   "source": [
    "results = np.append(results, simulate_one_roll())\n",
    "results"
   ]
  },
  {
   "cell_type": "markdown",
   "id": "3b11b26c",
   "metadata": {},
   "source": [
    "Run the above cell a few times.  Each time the cell runs it appends the outcome of the dice roll to results"
   ]
  },
  {
   "cell_type": "markdown",
   "id": "24fc1e05",
   "metadata": {},
   "source": [
    "Now we will lean how to iterate over 10,000 simulations"
   ]
  },
  {
   "cell_type": "markdown",
   "id": "0f3e004e",
   "metadata": {},
   "source": [
    "### Iterations - <code>for</code> loops"
   ]
  },
  {
   "cell_type": "markdown",
   "id": "954514f1",
   "metadata": {},
   "source": [
    "A <code>for</code> statement is used to loop over the values of a sequence.  This is called an interation, where we iterate over the values of a sequence. The indented body of the for statement is executed once for each item in that sequence."
   ]
  },
  {
   "cell_type": "code",
   "execution_count": null,
   "id": "f02a2663",
   "metadata": {},
   "outputs": [],
   "source": [
    "for animal in make_array('cat', 'dog', 'rabbit'):\n",
    "    print(animal)"
   ]
  },
  {
   "cell_type": "code",
   "execution_count": null,
   "id": "68624c73",
   "metadata": {},
   "outputs": [],
   "source": [
    "for i in np.arange(5):\n",
    "    print(simulate_one_roll())"
   ]
  },
  {
   "cell_type": "code",
   "execution_count": null,
   "id": "aa8c5c41",
   "metadata": {},
   "outputs": [],
   "source": [
    "pets = make_array()\n",
    "for animal in make_array('cat', 'dog', 'rabbit'):\n",
    "    pets = np.append(animal, pets)\n",
    "pets"
   ]
  },
  {
   "cell_type": "markdown",
   "id": "37dbbb80",
   "metadata": {},
   "source": [
    "### Putting it all together to simulate 10,000 rolls of our dice game."
   ]
  },
  {
   "cell_type": "code",
   "execution_count": null,
   "id": "11aa3965",
   "metadata": {},
   "outputs": [],
   "source": [
    "results = make_array()\n",
    "for i in np.arange(10000):\n",
    "    results = np.append(simulate_one_roll(), results)\n",
    "results"
   ]
  },
  {
   "cell_type": "code",
   "execution_count": null,
   "id": "586332c6",
   "metadata": {},
   "outputs": [],
   "source": [
    "len(results)"
   ]
  },
  {
   "cell_type": "code",
   "execution_count": null,
   "id": "0715bd57",
   "metadata": {},
   "outputs": [],
   "source": [
    "sum(results)"
   ]
  },
  {
   "cell_type": "code",
   "execution_count": null,
   "id": "c31eb418",
   "metadata": {},
   "outputs": [],
   "source": [
    "def dice_game(numer_of_games):\n",
    "    results = make_array()\n",
    "    for i in np.arange(numer_of_games):\n",
    "        results = np.append(simulate_one_roll(), results)\n",
    "    if sum(results) > 0:\n",
    "        return print('You owe me ' + str(sum(results)) + ' dollars')\n",
    "    elif sum(results) < 0:\n",
    "        return print('I owe you ' + str(abs(sum(results))) + ' dollars')\n",
    "    elif sum(results) == 0:\n",
    "        return print('We broke even!')"
   ]
  },
  {
   "cell_type": "code",
   "execution_count": null,
   "id": "839b5f9f",
   "metadata": {},
   "outputs": [],
   "source": [
    "dice_game(10000)"
   ]
  },
  {
   "cell_type": "code",
   "execution_count": null,
   "id": "e4c3725e",
   "metadata": {},
   "outputs": [],
   "source": [
    "result_table = Table().with_column('Outcome', results)"
   ]
  },
  {
   "cell_type": "code",
   "execution_count": null,
   "id": "4613965d",
   "metadata": {},
   "outputs": [],
   "source": [
    "result_table"
   ]
  },
  {
   "cell_type": "code",
   "execution_count": null,
   "id": "46422d22",
   "metadata": {},
   "outputs": [],
   "source": [
    "result_table.group('Outcome').barh('Outcome')"
   ]
  },
  {
   "cell_type": "markdown",
   "id": "746f3ddd",
   "metadata": {},
   "source": [
    "## Montey Hall Problem"
   ]
  },
  {
   "cell_type": "markdown",
   "id": "9a836efa",
   "metadata": {},
   "source": [
    "During the 1960s there was a TV game show called \"Lets Make a Deal\".  Monty Hall hosted the show and one of the games was later known as the [Monty Hall problem](https://en.wikipedia.org/wiki/Monty_Hall_problem). The contestant was given three doors.  One of the doors hid a new car while the other two doors hid a goat.  The contestents would pick a door and one of the other two doors not picked was opened to reveal a goat.  The contestant was then given the option to pick the other door or keep their existing door, in hopes of selecting the door with the new car.  Which door should the contesntant pick?  Should the contestent stick with their origianl door or should they choose the other door?\n",
    "\n",
    "\n",
    "<img src=\"monty_hall_.png\" style=\"width: 200px;\"/>\n",
    "\n",
    "[image source](https://en.wikipedia.org/wiki/Monty_Hall_problem)\n",
    "\n",
    "You can logical come to the conclusion that the contestant should pick the other door and not their origianl door by the following logic:\n",
    "\n",
    "\n",
    "\n",
    "* The chance that the car is behind the originally chosen door is 1/3.\n",
    "* The car is behind either the originally chosen door or the door that remains. It can’t be anywhere else.\n",
    "* Therefore, the chance that the car is behind the door that remains is 2/3.\n",
    "* Therefore, the contestant should switch.\n",
    "\n",
    "\n",
    "Not everyone is convinced by the above logic so lets run a simulation!\n",
    "\n",
    "\n",
    "What to simulate?\n",
    "\n",
    "For each play we will simulate what’s behind all three doors:\n",
    "\n",
    "* the one the contestant first picks\n",
    "* the one that Monty opens\n",
    "* the remaining door\n",
    "\n",
    "So we will be keeping track of three quantitites, not just one.\n",
    "\n",
    "We will start by defining what is behind the three doors."
   ]
  },
  {
   "cell_type": "code",
   "execution_count": null,
   "id": "6ba07e2f",
   "metadata": {},
   "outputs": [],
   "source": [
    "doors = make_array('car', 'first goat', 'second goat')\n",
    "doors"
   ]
  },
  {
   "cell_type": "markdown",
   "id": "4f7ac819",
   "metadata": {},
   "source": [
    "And defining the goats"
   ]
  },
  {
   "cell_type": "code",
   "execution_count": null,
   "id": "7bd2bb30",
   "metadata": {},
   "outputs": [],
   "source": [
    "goats = make_array('first goat', 'second goat')\n",
    "goats"
   ]
  },
  {
   "cell_type": "markdown",
   "id": "afb17fa6",
   "metadata": {},
   "source": [
    "To help Monty conduct the game, we are going to have to identify which goat is selected and which one is revealed behind the open door. The function other_goat takes one goat and returns the other."
   ]
  },
  {
   "cell_type": "code",
   "execution_count": null,
   "id": "75515efb",
   "metadata": {},
   "outputs": [],
   "source": [
    "def other_goat(x):\n",
    "    if x == 'first goat':\n",
    "        return 'second goat'\n",
    "    elif x == 'second goat':\n",
    "        return 'first goat'"
   ]
  },
  {
   "cell_type": "code",
   "execution_count": null,
   "id": "cad929d0",
   "metadata": {},
   "outputs": [],
   "source": [
    "other_goat('first goat')"
   ]
  },
  {
   "cell_type": "code",
   "execution_count": null,
   "id": "65669d39",
   "metadata": {},
   "outputs": [],
   "source": [
    "other_goat('second goat')"
   ]
  },
  {
   "cell_type": "code",
   "execution_count": null,
   "id": "ebc39405",
   "metadata": {},
   "outputs": [],
   "source": [
    "other_goat('what goat?')"
   ]
  },
  {
   "cell_type": "markdown",
   "id": "028bcb02",
   "metadata": {},
   "source": [
    "We are now ready to simulate one play. To do this, we will define a function monty_hall_game that takes no arguments. When the function is called, it plays Monty’s game once and returns a list consisting of:\n",
    "\n",
    "* the contestant’s guess\n",
    "* what Monty reveals when he opens a door\n",
    "* what remains behind the other door\n",
    "\n",
    "The game starts with the contestant choosing one door at random. In doing so, the contestant makes a random choice from among the car, the first goat, and the second goat.\n",
    "\n",
    "If the contestant happens to pick one of the goats, then the other goat is revealed and the car is behind the remaining door.\n",
    "\n",
    "If the contestant happens to pick the car, then Monty reveals one of the goats and the other goat is behind the remaining door."
   ]
  },
  {
   "cell_type": "code",
   "execution_count": null,
   "id": "bc5635bc",
   "metadata": {},
   "outputs": [],
   "source": [
    "def monty_hall_game():\n",
    "    \"\"\"Return \n",
    "    [contestant's guess, what Monty reveals, what remains behind the other door]\"\"\"\n",
    "    \n",
    "    contestant_guess = np.random.choice(doors)\n",
    "    \n",
    "    if contestant_guess == 'first goat':\n",
    "        return [contestant_guess, 'second goat', 'car']\n",
    "    \n",
    "    if contestant_guess == 'second goat':\n",
    "        return [contestant_guess, 'first goat', 'car']\n",
    "    \n",
    "    if contestant_guess == 'car':\n",
    "        revealed = np.random.choice(goats)\n",
    "        return [contestant_guess, revealed, other_goat(revealed)]"
   ]
  },
  {
   "cell_type": "code",
   "execution_count": null,
   "id": "a210e78d",
   "metadata": {},
   "outputs": [],
   "source": [
    "monty_hall_game()"
   ]
  },
  {
   "cell_type": "markdown",
   "id": "1719c08a",
   "metadata": {},
   "source": [
    "Run the above cell a few times to see how the simulation changes"
   ]
  },
  {
   "cell_type": "markdown",
   "id": "a68d36b8",
   "metadata": {},
   "source": [
    "Now it is time to run the simulation.  Let's run it 10,000 times.  We will append our data into a talbe with three columns: \"Guess\", \"Revealed\", \"Remaining\"."
   ]
  },
  {
   "cell_type": "code",
   "execution_count": null,
   "id": "e14656ca",
   "metadata": {},
   "outputs": [],
   "source": [
    "games = Table(['Guess', 'Revealed', 'Remaining'])"
   ]
  },
  {
   "cell_type": "code",
   "execution_count": null,
   "id": "ee5c3e29",
   "metadata": {},
   "outputs": [],
   "source": [
    "# Play the game 10000 times and \n",
    "# record the results in the table games\n",
    "\n",
    "for i in np.arange(10000):\n",
    "    games.append(monty_hall_game())"
   ]
  },
  {
   "cell_type": "code",
   "execution_count": null,
   "id": "e44d3b4a",
   "metadata": {},
   "outputs": [],
   "source": [
    "games"
   ]
  },
  {
   "cell_type": "code",
   "execution_count": null,
   "id": "8634398d",
   "metadata": {},
   "outputs": [],
   "source": [
    "original_choice = games.group('Guess')\n",
    "original_choice"
   ]
  },
  {
   "cell_type": "markdown",
   "id": "875282e6",
   "metadata": {},
   "source": [
    "The first time the contestant choose a door it is about a 1/3% chance of picking the car.  "
   ]
  },
  {
   "cell_type": "code",
   "execution_count": null,
   "id": "9a673a7a",
   "metadata": {},
   "outputs": [],
   "source": [
    "remaining_door = games.group('Remaining')\n",
    "remaining_door"
   ]
  },
  {
   "cell_type": "markdown",
   "id": "5e08b790",
   "metadata": {},
   "source": [
    "However, the car is behind the remaining door about 2/3 of the time!"
   ]
  },
  {
   "cell_type": "markdown",
   "id": "ebb7f40d",
   "metadata": {},
   "source": [
    "Let's plot this graphically:"
   ]
  },
  {
   "cell_type": "code",
   "execution_count": null,
   "id": "1f149982",
   "metadata": {},
   "outputs": [],
   "source": [
    "joined = original_choice.join('Guess', remaining_door, 'Remaining')\n",
    "joined"
   ]
  },
  {
   "cell_type": "code",
   "execution_count": null,
   "id": "b0d71d33",
   "metadata": {},
   "outputs": [],
   "source": [
    "combined = joined.relabeled(0, 'Item').relabeled(1, 'Original Door').relabeled(2, 'Remaining Door')\n",
    "combined"
   ]
  },
  {
   "cell_type": "code",
   "execution_count": null,
   "id": "47bdd39c",
   "metadata": {},
   "outputs": [],
   "source": [
    "combined.barh(0)"
   ]
  },
  {
   "cell_type": "markdown",
   "id": "036b07f8",
   "metadata": {},
   "source": [
    "From the bar plot, we can see the first choice is equally likely to be a car or one of the goats.  However, the remaining door is 2 times as likly to be the car!"
   ]
  },
  {
   "cell_type": "markdown",
   "id": "f5aeda2d",
   "metadata": {},
   "source": [
    "## Probability"
   ]
  },
  {
   "cell_type": "markdown",
   "id": "d14bb1b3",
   "metadata": {},
   "source": [
    "Probailities are numbers between 0 and 1, or 0% to 100%.  Impossible is 0 or 0% and guaranteed events are 1 or 100%\n",
    "\n",
    "We define **P(Event)** as the probability an event happens.  The words *chance* and *probability* are interchangable.\n",
    "\n",
    "**<center>P(Event does not happen) = 1 - P(Event)</center>**"
   ]
  },
  {
   "cell_type": "markdown",
   "id": "d5a02af2",
   "metadata": {},
   "source": [
    "When all events are equally likely to happen (like rolling a die).\n",
    "\n",
    "**<center>P(Event) = (#Event outcomes) / (# of all outcomes)</center>**"
   ]
  },
  {
   "cell_type": "markdown",
   "id": "d4c228ec",
   "metadata": {},
   "source": [
    "What is the probability when two events must both happen in a particular order (like picking two out of three balls in order)?\n",
    "\n",
    "Suppose you have 3 balls (blue, green, red).  What are the chances you pick the blue then the green ball?\n",
    "\n",
    "* First to pick the blue ball. P(pick blue)= 1/3\n",
    "\n",
    "* Second to pick the green ball. P(pick green) = 1/2\n",
    "\n",
    "* P(to pick blue then green) = 1/3 * 1/2 = 1/6\n",
    "\n",
    "In general we have have the multiplication rule:\n",
    "\n",
    "**<center>P(two event happn) = P(first event) * P(second event)</center>**"
   ]
  },
  {
   "cell_type": "markdown",
   "id": "b424ea94",
   "metadata": {},
   "source": [
    "What is the probability that two events must happen in any order (like picking two out of three balls in any order)?\n",
    "\n",
    "Suppose you have 3 balls (blue, green, red).  What are the chances you pick the blue and the green ball?\n",
    "\n",
    "* To pick the blue ball. P(pick blue)= 1/3\n",
    "* To pick the green ball. P(pick green) = 1/3\n",
    "\n",
    "P(pick blue and green) = 1/3 + 1/3 = 2/6 = 1/3\n",
    "\n",
    "In general we have have the additive rule:\n",
    "\n",
    "**<center>P(two event happn) = P(first event) + P(second event)</center>**"
   ]
  },
  {
   "cell_type": "markdown",
   "id": "0b8730c4",
   "metadata": {},
   "source": [
    "What is the probability that at least one event happens (like getting one heads on four coin flips)?\n",
    "\n",
    "Suppose you have coin and you flip it four times. What are the chances you flip at least one head?\n",
    "\n",
    "The four possible outcomes are:  HH, HT, TH, TT.  \n",
    "\n",
    "* To to flip heads. P(heads)= 3/4\n",
    "\n",
    "Or you can think of the probalbilty as not fliping two tails\n",
    "\n",
    "* To to flip heads = Not to flip two tails = 1 - P(both tails) = 1 - 1/4 = 3/4\n",
    "\n",
    "Note:\n",
    "\n",
    "* P(both tails) = 1/2 * 1/2 = (1/2)^2 = 1/4\n",
    "\n",
    "At least one head in 25 tosses:\n",
    "\n",
    "* P(heads = 1 - P(all are tails) = 1 - (1/2)^17\n",
    "\n",
    "\n",
    "**<center>P(two event happn) = P(first event) + P(second event)</center>**"
   ]
  },
  {
   "cell_type": "markdown",
   "id": "e200c10b",
   "metadata": {},
   "source": [
    "Going back to the dice example:  What is the chance we will roll a six if givin 6 rolls of a dice?\n",
    "\n",
    "* P(six) = 1/6 = 1 - P(not a six) = 1 - (5/6)\n",
    "\n",
    "* P(one six in two rolls) = 1 - P(both are not 6) = 1 - (5/6)^2\n",
    "\n",
    "Let's put the chances of rolling one six in 1 to 50 rolls into a table:"
   ]
  },
  {
   "cell_type": "code",
   "execution_count": null,
   "id": "6fc28852",
   "metadata": {},
   "outputs": [],
   "source": [
    "rolls = np.arange(1, 51, 1)\n",
    "results = Table().with_columns(\n",
    "    'Rolls', rolls,\n",
    "    'Chance of at least one 6', 1 - (5/6)**rolls\n",
    ")\n",
    "results"
   ]
  },
  {
   "cell_type": "code",
   "execution_count": null,
   "id": "6659f698",
   "metadata": {},
   "outputs": [],
   "source": [
    "results.scatter('Rolls')"
   ]
  },
  {
   "cell_type": "code",
   "execution_count": null,
   "id": "3b6e8fa5",
   "metadata": {},
   "outputs": [],
   "source": [
    "results.where('Rolls', are.equal_to(50))"
   ]
  },
  {
   "cell_type": "code",
   "execution_count": null,
   "id": "a966e7e6",
   "metadata": {},
   "outputs": [],
   "source": []
  }
 ],
 "metadata": {
  "kernelspec": {
   "display_name": "Python 3",
   "language": "python",
   "name": "python3"
  },
  "language_info": {
   "codemirror_mode": {
    "name": "ipython",
    "version": 3
   },
   "file_extension": ".py",
   "mimetype": "text/x-python",
   "name": "python",
   "nbconvert_exporter": "python",
   "pygments_lexer": "ipython3",
   "version": "3.7.1"
  }
 },
 "nbformat": 4,
 "nbformat_minor": 5
}
