{
 "cells": [
  {
   "cell_type": "markdown",
   "id": "0ecab548",
   "metadata": {},
   "source": [
    "The contents of this course including lectures, labs, homework assignments, and exams have all been adapted from the [Data 8 course at University California Berkley](https://data.berkeley.edu/education/courses/data-8). Through their generosity and passion for undergraduate education, the Data 8 community at Berkley has opened their content and expertise for other universities to adapt in the name of undergraduate education."
   ]
  },
  {
   "cell_type": "code",
   "execution_count": 1,
   "id": "9cf35032",
   "metadata": {},
   "outputs": [
    {
     "name": "stdout",
     "output_type": "stream",
     "text": [
      "Requirement already satisfied: datascience in c:\\users\\ksorauf\\appdata\\local\\continuum\\anaconda3\\lib\\site-packages (0.17.0)\n",
      "Requirement already satisfied: sphinx in c:\\users\\ksorauf\\appdata\\local\\continuum\\anaconda3\\lib\\site-packages (from datascience) (4.2.0)\n",
      "Requirement already satisfied: bokeh in c:\\users\\ksorauf\\appdata\\local\\continuum\\anaconda3\\lib\\site-packages (from datascience) (2.1.1)\n",
      "Requirement already satisfied: coverage in c:\\users\\ksorauf\\appdata\\local\\continuum\\anaconda3\\lib\\site-packages (from datascience) (4.4)\n",
      "Requirement already satisfied: nbsphinx in c:\\users\\ksorauf\\appdata\\local\\continuum\\anaconda3\\lib\\site-packages (from datascience) (0.8.0)\n",
      "Requirement already satisfied: folium>=0.9.1 in c:\\users\\ksorauf\\appdata\\local\\continuum\\anaconda3\\lib\\site-packages (from datascience) (0.11.0)\n",
      "Requirement already satisfied: branca in c:\\users\\ksorauf\\appdata\\local\\continuum\\anaconda3\\lib\\site-packages (from datascience) (0.4.1)\n",
      "Requirement already satisfied: matplotlib>=3.0.0 in c:\\users\\ksorauf\\appdata\\local\\continuum\\anaconda3\\lib\\site-packages (from datascience) (3.4.2)\n",
      "Requirement already satisfied: plotly in c:\\users\\ksorauf\\appdata\\local\\continuum\\anaconda3\\lib\\site-packages (from datascience) (5.1.0)\n",
      "Requirement already satisfied: pytest in c:\\users\\ksorauf\\appdata\\local\\continuum\\anaconda3\\lib\\site-packages (from datascience) (6.2.4)\n",
      "Requirement already satisfied: ipython in c:\\users\\ksorauf\\appdata\\local\\continuum\\anaconda3\\lib\\site-packages (from datascience) (7.27.0)\n",
      "Requirement already satisfied: setuptools in c:\\users\\ksorauf\\appdata\\local\\continuum\\anaconda3\\lib\\site-packages (from datascience) (58.0.4)\n",
      "Requirement already satisfied: numpy in c:\\users\\ksorauf\\appdata\\local\\continuum\\anaconda3\\lib\\site-packages (from datascience) (1.20.3)\n",
      "Requirement already satisfied: pandas in c:\\users\\ksorauf\\appdata\\local\\continuum\\anaconda3\\lib\\site-packages (from datascience) (1.3.2)\n",
      "Requirement already satisfied: coveralls in c:\\users\\ksorauf\\appdata\\local\\continuum\\anaconda3\\lib\\site-packages (from datascience) (2.0.0)\n",
      "Requirement already satisfied: scipy in c:\\users\\ksorauf\\appdata\\local\\continuum\\anaconda3\\lib\\site-packages (from datascience) (1.7.1)\n",
      "Requirement already satisfied: jinja2>=2.9 in c:\\users\\ksorauf\\appdata\\local\\continuum\\anaconda3\\lib\\site-packages (from folium>=0.9.1->datascience) (2.11.3)\n",
      "Requirement already satisfied: requests in c:\\users\\ksorauf\\appdata\\local\\continuum\\anaconda3\\lib\\site-packages (from folium>=0.9.1->datascience) (2.26.0)\n",
      "Requirement already satisfied: MarkupSafe>=0.23 in c:\\users\\ksorauf\\appdata\\local\\continuum\\anaconda3\\lib\\site-packages (from jinja2>=2.9->folium>=0.9.1->datascience) (1.1.1)\n",
      "Requirement already satisfied: pillow>=6.2.0 in c:\\users\\ksorauf\\appdata\\local\\continuum\\anaconda3\\lib\\site-packages (from matplotlib>=3.0.0->datascience) (8.3.1)\n",
      "Requirement already satisfied: cycler>=0.10 in c:\\users\\ksorauf\\appdata\\local\\continuum\\anaconda3\\lib\\site-packages (from matplotlib>=3.0.0->datascience) (0.10.0)\n",
      "Requirement already satisfied: kiwisolver>=1.0.1 in c:\\users\\ksorauf\\appdata\\local\\continuum\\anaconda3\\lib\\site-packages (from matplotlib>=3.0.0->datascience) (1.3.1)\n",
      "Requirement already satisfied: pyparsing>=2.2.1 in c:\\users\\ksorauf\\appdata\\local\\continuum\\anaconda3\\lib\\site-packages (from matplotlib>=3.0.0->datascience) (2.4.7)\n",
      "Requirement already satisfied: python-dateutil>=2.7 in c:\\users\\ksorauf\\appdata\\local\\continuum\\anaconda3\\lib\\site-packages (from matplotlib>=3.0.0->datascience) (2.8.2)\n",
      "Requirement already satisfied: six in c:\\users\\ksorauf\\appdata\\local\\continuum\\anaconda3\\lib\\site-packages (from cycler>=0.10->matplotlib>=3.0.0->datascience) (1.15.0)\n",
      "Requirement already satisfied: tornado>=5.1 in c:\\users\\ksorauf\\appdata\\local\\continuum\\anaconda3\\lib\\site-packages (from bokeh->datascience) (6.1)\n",
      "Requirement already satisfied: PyYAML>=3.10 in c:\\users\\ksorauf\\appdata\\local\\continuum\\anaconda3\\lib\\site-packages (from bokeh->datascience) (5.4.1)\n",
      "Requirement already satisfied: packaging>=16.8 in c:\\users\\ksorauf\\appdata\\local\\continuum\\anaconda3\\lib\\site-packages (from bokeh->datascience) (21.0)\n",
      "Requirement already satisfied: typing-extensions>=3.7.4 in c:\\users\\ksorauf\\appdata\\local\\continuum\\anaconda3\\lib\\site-packages (from bokeh->datascience) (3.10.0.2)\n",
      "Requirement already satisfied: docopt>=0.6.1 in c:\\users\\ksorauf\\appdata\\local\\continuum\\anaconda3\\lib\\site-packages (from coveralls->datascience) (0.6.2)\n",
      "Requirement already satisfied: certifi>=2017.4.17 in c:\\users\\ksorauf\\appdata\\local\\continuum\\anaconda3\\lib\\site-packages (from requests->folium>=0.9.1->datascience) (2021.5.30)\n",
      "Requirement already satisfied: idna<4,>=2.5 in c:\\users\\ksorauf\\appdata\\local\\continuum\\anaconda3\\lib\\site-packages (from requests->folium>=0.9.1->datascience) (3.2)\n",
      "Requirement already satisfied: charset-normalizer~=2.0.0 in c:\\users\\ksorauf\\appdata\\local\\continuum\\anaconda3\\lib\\site-packages (from requests->folium>=0.9.1->datascience) (2.0.4)\n",
      "Requirement already satisfied: urllib3<1.27,>=1.21.1 in c:\\users\\ksorauf\\appdata\\local\\continuum\\anaconda3\\lib\\site-packages (from requests->folium>=0.9.1->datascience) (1.26.6)\n",
      "Requirement already satisfied: pygments in c:\\users\\ksorauf\\appdata\\local\\continuum\\anaconda3\\lib\\site-packages (from ipython->datascience) (2.10.0)\n",
      "Requirement already satisfied: jedi>=0.16 in c:\\users\\ksorauf\\appdata\\local\\continuum\\anaconda3\\lib\\site-packages (from ipython->datascience) (0.17.2)\n",
      "Requirement already satisfied: colorama in c:\\users\\ksorauf\\appdata\\local\\continuum\\anaconda3\\lib\\site-packages (from ipython->datascience) (0.4.4)\n",
      "Requirement already satisfied: prompt-toolkit!=3.0.0,!=3.0.1,<3.1.0,>=2.0.0 in c:\\users\\ksorauf\\appdata\\local\\continuum\\anaconda3\\lib\\site-packages (from ipython->datascience) (3.0.17)\n",
      "Requirement already satisfied: traitlets>=4.2 in c:\\users\\ksorauf\\appdata\\local\\continuum\\anaconda3\\lib\\site-packages (from ipython->datascience) (5.1.0)\n",
      "Requirement already satisfied: matplotlib-inline in c:\\users\\ksorauf\\appdata\\local\\continuum\\anaconda3\\lib\\site-packages (from ipython->datascience) (0.1.2)\n",
      "Requirement already satisfied: backcall in c:\\users\\ksorauf\\appdata\\local\\continuum\\anaconda3\\lib\\site-packages (from ipython->datascience) (0.2.0)\n",
      "Requirement already satisfied: pickleshare in c:\\users\\ksorauf\\appdata\\local\\continuum\\anaconda3\\lib\\site-packages (from ipython->datascience) (0.7.5)\n",
      "Requirement already satisfied: decorator in c:\\users\\ksorauf\\appdata\\local\\continuum\\anaconda3\\lib\\site-packages (from ipython->datascience) (5.0.9)\n",
      "Requirement already satisfied: parso<0.8.0,>=0.7.0 in c:\\users\\ksorauf\\appdata\\local\\continuum\\anaconda3\\lib\\site-packages (from jedi>=0.16->ipython->datascience) (0.7.0)\n",
      "Requirement already satisfied: wcwidth in c:\\users\\ksorauf\\appdata\\local\\continuum\\anaconda3\\lib\\site-packages (from prompt-toolkit!=3.0.0,!=3.0.1,<3.1.0,>=2.0.0->ipython->datascience) (0.2.5)\n",
      "Requirement already satisfied: nbformat in c:\\users\\ksorauf\\appdata\\local\\continuum\\anaconda3\\lib\\site-packages (from nbsphinx->datascience) (5.1.3)\n",
      "Requirement already satisfied: nbconvert!=5.4 in c:\\users\\ksorauf\\appdata\\local\\continuum\\anaconda3\\lib\\site-packages (from nbsphinx->datascience) (5.6.1)\n",
      "Requirement already satisfied: docutils in c:\\users\\ksorauf\\appdata\\local\\continuum\\anaconda3\\lib\\site-packages (from nbsphinx->datascience) (0.17.1)\n",
      "Requirement already satisfied: defusedxml in c:\\users\\ksorauf\\appdata\\local\\continuum\\anaconda3\\lib\\site-packages (from nbconvert!=5.4->nbsphinx->datascience) (0.7.1)\n",
      "Requirement already satisfied: bleach in c:\\users\\ksorauf\\appdata\\local\\continuum\\anaconda3\\lib\\site-packages (from nbconvert!=5.4->nbsphinx->datascience) (4.0.0)\n",
      "Requirement already satisfied: pandocfilters>=1.4.1 in c:\\users\\ksorauf\\appdata\\local\\continuum\\anaconda3\\lib\\site-packages (from nbconvert!=5.4->nbsphinx->datascience) (1.4.3)\n",
      "Requirement already satisfied: testpath in c:\\users\\ksorauf\\appdata\\local\\continuum\\anaconda3\\lib\\site-packages (from nbconvert!=5.4->nbsphinx->datascience) (0.5.0)\n",
      "Requirement already satisfied: entrypoints>=0.2.2 in c:\\users\\ksorauf\\appdata\\local\\continuum\\anaconda3\\lib\\site-packages (from nbconvert!=5.4->nbsphinx->datascience) (0.3)\n",
      "Requirement already satisfied: mistune<2,>=0.8.1 in c:\\users\\ksorauf\\appdata\\local\\continuum\\anaconda3\\lib\\site-packages (from nbconvert!=5.4->nbsphinx->datascience) (0.8.4)\n",
      "Requirement already satisfied: jupyter-core in c:\\users\\ksorauf\\appdata\\local\\continuum\\anaconda3\\lib\\site-packages (from nbconvert!=5.4->nbsphinx->datascience) (4.7.1)\n",
      "Requirement already satisfied: jsonschema!=2.5.0,>=2.4 in c:\\users\\ksorauf\\appdata\\local\\continuum\\anaconda3\\lib\\site-packages (from nbformat->nbsphinx->datascience) (3.2.0)\n",
      "Requirement already satisfied: ipython-genutils in c:\\users\\ksorauf\\appdata\\local\\continuum\\anaconda3\\lib\\site-packages (from nbformat->nbsphinx->datascience) (0.2.0)\n",
      "Requirement already satisfied: attrs>=17.4.0 in c:\\users\\ksorauf\\appdata\\local\\continuum\\anaconda3\\lib\\site-packages (from jsonschema!=2.5.0,>=2.4->nbformat->nbsphinx->datascience) (21.2.0)\n",
      "Requirement already satisfied: pyrsistent>=0.14.0 in c:\\users\\ksorauf\\appdata\\local\\continuum\\anaconda3\\lib\\site-packages (from jsonschema!=2.5.0,>=2.4->nbformat->nbsphinx->datascience) (0.17.3)\n",
      "Requirement already satisfied: importlib-metadata in c:\\users\\ksorauf\\appdata\\local\\continuum\\anaconda3\\lib\\site-packages (from jsonschema!=2.5.0,>=2.4->nbformat->nbsphinx->datascience) (4.8.1)\n",
      "Requirement already satisfied: sphinxcontrib-htmlhelp>=2.0.0 in c:\\users\\ksorauf\\appdata\\local\\continuum\\anaconda3\\lib\\site-packages (from sphinx->datascience) (2.0.0)\n",
      "Requirement already satisfied: alabaster<0.8,>=0.7 in c:\\users\\ksorauf\\appdata\\local\\continuum\\anaconda3\\lib\\site-packages (from sphinx->datascience) (0.7.12)\n",
      "Requirement already satisfied: babel>=1.3 in c:\\users\\ksorauf\\appdata\\local\\continuum\\anaconda3\\lib\\site-packages (from sphinx->datascience) (2.9.1)\n",
      "Requirement already satisfied: sphinxcontrib-qthelp in c:\\users\\ksorauf\\appdata\\local\\continuum\\anaconda3\\lib\\site-packages (from sphinx->datascience) (1.0.3)\n",
      "Requirement already satisfied: snowballstemmer>=1.1 in c:\\users\\ksorauf\\appdata\\local\\continuum\\anaconda3\\lib\\site-packages (from sphinx->datascience) (2.1.0)\n",
      "Requirement already satisfied: imagesize in c:\\users\\ksorauf\\appdata\\local\\continuum\\anaconda3\\lib\\site-packages (from sphinx->datascience) (1.2.0)\n",
      "Requirement already satisfied: sphinxcontrib-applehelp in c:\\users\\ksorauf\\appdata\\local\\continuum\\anaconda3\\lib\\site-packages (from sphinx->datascience) (1.0.2)\n",
      "Requirement already satisfied: sphinxcontrib-devhelp in c:\\users\\ksorauf\\appdata\\local\\continuum\\anaconda3\\lib\\site-packages (from sphinx->datascience) (1.0.2)\n",
      "Requirement already satisfied: sphinxcontrib-jsmath in c:\\users\\ksorauf\\appdata\\local\\continuum\\anaconda3\\lib\\site-packages (from sphinx->datascience) (1.0.1)\n",
      "Requirement already satisfied: sphinxcontrib-serializinghtml>=1.1.5 in c:\\users\\ksorauf\\appdata\\local\\continuum\\anaconda3\\lib\\site-packages (from sphinx->datascience) (1.1.5)\n",
      "Requirement already satisfied: pytz>=2015.7 in c:\\users\\ksorauf\\appdata\\local\\continuum\\anaconda3\\lib\\site-packages (from babel>=1.3->sphinx->datascience) (2021.1)\n",
      "Requirement already satisfied: webencodings in c:\\users\\ksorauf\\appdata\\local\\continuum\\anaconda3\\lib\\site-packages (from bleach->nbconvert!=5.4->nbsphinx->datascience) (0.5.1)\n",
      "Requirement already satisfied: zipp>=0.5 in c:\\users\\ksorauf\\appdata\\local\\continuum\\anaconda3\\lib\\site-packages (from importlib-metadata->jsonschema!=2.5.0,>=2.4->nbformat->nbsphinx->datascience) (3.5.0)\n",
      "Requirement already satisfied: pywin32>=1.0 in c:\\users\\ksorauf\\appdata\\local\\continuum\\anaconda3\\lib\\site-packages (from jupyter-core->nbconvert!=5.4->nbsphinx->datascience) (227)\n",
      "Requirement already satisfied: tenacity>=6.2.0 in c:\\users\\ksorauf\\appdata\\local\\continuum\\anaconda3\\lib\\site-packages (from plotly->datascience) (8.0.1)\n",
      "Requirement already satisfied: iniconfig in c:\\users\\ksorauf\\appdata\\local\\continuum\\anaconda3\\lib\\site-packages (from pytest->datascience) (1.1.1)\n",
      "Requirement already satisfied: pluggy<1.0.0a1,>=0.12 in c:\\users\\ksorauf\\appdata\\local\\continuum\\anaconda3\\lib\\site-packages (from pytest->datascience) (0.13.1)\n",
      "Requirement already satisfied: py>=1.8.2 in c:\\users\\ksorauf\\appdata\\local\\continuum\\anaconda3\\lib\\site-packages (from pytest->datascience) (1.10.0)\n",
      "Requirement already satisfied: toml in c:\\users\\ksorauf\\appdata\\local\\continuum\\anaconda3\\lib\\site-packages (from pytest->datascience) (0.10.2)\n",
      "Requirement already satisfied: atomicwrites>=1.0 in c:\\users\\ksorauf\\appdata\\local\\continuum\\anaconda3\\lib\\site-packages (from pytest->datascience) (1.4.0)\n"
     ]
    },
    {
     "name": "stderr",
     "output_type": "stream",
     "text": [
      "WARNING: Ignoring invalid distribution -ip (c:\\users\\ksorauf\\appdata\\local\\continuum\\anaconda3\\lib\\site-packages)\n",
      "WARNING: Ignoring invalid distribution -ip (c:\\users\\ksorauf\\appdata\\local\\continuum\\anaconda3\\lib\\site-packages)\n",
      "WARNING: Ignoring invalid distribution -ip (c:\\users\\ksorauf\\appdata\\local\\continuum\\anaconda3\\lib\\site-packages)\n",
      "WARNING: Ignoring invalid distribution -ip (c:\\users\\ksorauf\\appdata\\local\\continuum\\anaconda3\\lib\\site-packages)\n",
      "WARNING: Ignoring invalid distribution -ip (c:\\users\\ksorauf\\appdata\\local\\continuum\\anaconda3\\lib\\site-packages)\n",
      "WARNING: Ignoring invalid distribution -ip (c:\\users\\ksorauf\\appdata\\local\\continuum\\anaconda3\\lib\\site-packages)\n"
     ]
    }
   ],
   "source": [
    "!pip install datascience\n",
    "from datascience import *\n",
    "import numpy as np\n",
    "\n",
    "%matplotlib inline\n",
    "import matplotlib.pyplot as plots\n",
    "plots.style.use('fivethirtyeight')"
   ]
  },
  {
   "cell_type": "markdown",
   "id": "b293e470",
   "metadata": {},
   "source": [
    "# Chapter 9 Review"
   ]
  },
  {
   "cell_type": "code",
   "execution_count": 36,
   "id": "fe431667",
   "metadata": {},
   "outputs": [],
   "source": [
    "# Create a function that simulats 10000 flips of a coin. \n",
    "# Record the number of heads and tails that are flipped in the simulation.\n",
    "# Save the results in a data table."
   ]
  },
  {
   "cell_type": "markdown",
   "id": "fecb2386",
   "metadata": {},
   "source": [
    "# Probability Review"
   ]
  },
  {
   "cell_type": "markdown",
   "id": "a069c7ae",
   "metadata": {},
   "source": [
    "## Equally likely Outcomes\n",
    "\n",
    "Assuming all outcomes are equally likely, the chance of an event, A is:\n",
    "\n",
    "P(A) = # of outcomes that make A happen / Total number of outcomes"
   ]
  },
  {
   "cell_type": "markdown",
   "id": "48496228",
   "metadata": {},
   "source": [
    "## Multiplication Rule\n",
    "\n",
    "Change that two events, A and B, both happen:\n",
    "\n",
    "P(A)(B) = P(A happens) * P(B happens given that A has happend) \n",
    "\n",
    "* The more conditions you have to satisfy the less likely the event will happen"
   ]
  },
  {
   "cell_type": "markdown",
   "id": "5e51cf36",
   "metadata": {},
   "source": [
    "## Addition Rule\n",
    "\n",
    "If an event can happen one of two ways:\n",
    "\n",
    "P(A) = P(first way) + P(second way)"
   ]
  },
  {
   "cell_type": "markdown",
   "id": "448bc75c",
   "metadata": {},
   "source": [
    "## At least one Success\n",
    "\n",
    "Chance that A happens at least once.\n",
    "\n",
    "P(not A) = 1 - P(A)\n",
    "\n",
    "At least one head in three coin tosses?\n",
    "\n",
    "P(not TTT) = 1 - P(TTT) = 1 - (1/2)^3 = 1 - (1/8) = 87.5%"
   ]
  },
  {
   "cell_type": "markdown",
   "id": "53ffa8b1",
   "metadata": {},
   "source": [
    "### HW 6/7 error\n",
    "Question 2.6. Compute the chance that the monkey types the letter \"t\" at least once in the 5 strikes. Call it t_chance. Use algebra and type in an arithmetic equation that Python can evalute. "
   ]
  },
  {
   "cell_type": "code",
   "execution_count": 37,
   "id": "812ecb54",
   "metadata": {},
   "outputs": [
    {
     "data": {
      "text/plain": [
       "1"
      ]
     },
     "execution_count": 37,
     "metadata": {},
     "output_type": "execute_result"
    }
   ],
   "source": [
    "t_count = 0\n",
    "simulate_one_type = [2, 1, 1, 2, 2]\n",
    "simulate_one_type\n",
    "if 1 in simulate_one_type:\n",
    "    t_count += 1\n",
    "t_count"
   ]
  },
  {
   "cell_type": "code",
   "execution_count": 2,
   "id": "aae07a8a",
   "metadata": {},
   "outputs": [],
   "source": [
    "def simulate_key_strokes(num_simulations):\n",
    "    keyboard = np.arange(62)\n",
    "    t_count = 0\n",
    "    for i in np.arange(num_simulations):\n",
    "        simulate_one_type = np.random.choice(keyboard, 5)\n",
    "        if 1 in simulate_one_type:\n",
    "            t_count += 1\n",
    "    return t_count/num_simulations"
   ]
  },
  {
   "cell_type": "code",
   "execution_count": 4,
   "id": "4e75f85e",
   "metadata": {},
   "outputs": [
    {
     "data": {
      "text/plain": [
       "0.078066"
      ]
     },
     "execution_count": 4,
     "metadata": {},
     "output_type": "execute_result"
    }
   ],
   "source": [
    "simulate_key_strokes(1*10**6)"
   ]
  },
  {
   "cell_type": "markdown",
   "id": "33d74ccd",
   "metadata": {},
   "source": [
    "### What are the chances we select the Ace of Hearts and the Ace of Dimonds in a deck of 52 cards without replacement?\n",
    "\n",
    "P  = 2 * (1/52) * (1/51) = 7.77%\n",
    "\n",
    "### What are the chances neither the Ace of Hearts and the Ace of Dimonds in a deck of 52 cards without replacement?\n",
    "\n",
    "P = (50/52) * (49/51) = 92.4%"
   ]
  },
  {
   "cell_type": "code",
   "execution_count": null,
   "id": "ea0a2319",
   "metadata": {},
   "outputs": [],
   "source": []
  },
  {
   "cell_type": "markdown",
   "id": "7b940d56",
   "metadata": {},
   "source": [
    "# Chapter 10: Sampling and Empirical Distributions\n",
    "\n",
    "An important part of data science is infering meaning from random samples.  This chapter takes a closer look at sampling and random samples."
   ]
  },
  {
   "cell_type": "code",
   "execution_count": 3,
   "id": "c07c8da9",
   "metadata": {},
   "outputs": [
    {
     "data": {
      "text/html": [
       "<table border=\"1\" class=\"dataframe\">\n",
       "    <thead>\n",
       "        <tr>\n",
       "            <th>Row Index</th> <th>Title</th> <th>Studio</th> <th>Gross</th> <th>Gross (Adjusted)</th> <th>Year</th>\n",
       "        </tr>\n",
       "    </thead>\n",
       "    <tbody>\n",
       "        <tr>\n",
       "            <td>0        </td> <td>Gone with the Wind              </td> <td>MGM            </td> <td>198,676,459</td> <td>1,796,176,700   </td> <td>1939</td>\n",
       "        </tr>\n",
       "        <tr>\n",
       "            <td>1        </td> <td>Star Wars                       </td> <td>Fox            </td> <td>460,998,007</td> <td>1,583,483,200   </td> <td>1977</td>\n",
       "        </tr>\n",
       "        <tr>\n",
       "            <td>2        </td> <td>The Sound of Music              </td> <td>Fox            </td> <td>158,671,368</td> <td>1,266,072,700   </td> <td>1965</td>\n",
       "        </tr>\n",
       "        <tr>\n",
       "            <td>3        </td> <td>E.T.: The Extra-Terrestrial     </td> <td>Universal      </td> <td>435,110,554</td> <td>1,261,085,000   </td> <td>1982</td>\n",
       "        </tr>\n",
       "        <tr>\n",
       "            <td>4        </td> <td>Titanic                         </td> <td>Paramount      </td> <td>658,672,302</td> <td>1,204,368,000   </td> <td>1997</td>\n",
       "        </tr>\n",
       "        <tr>\n",
       "            <td>5        </td> <td>The Ten Commandments            </td> <td>Paramount      </td> <td>65,500,000 </td> <td>1,164,590,000   </td> <td>1956</td>\n",
       "        </tr>\n",
       "        <tr>\n",
       "            <td>6        </td> <td>Jaws                            </td> <td>Universal      </td> <td>260,000,000</td> <td>1,138,620,700   </td> <td>1975</td>\n",
       "        </tr>\n",
       "        <tr>\n",
       "            <td>7        </td> <td>Doctor Zhivago                  </td> <td>MGM            </td> <td>111,721,910</td> <td>1,103,564,200   </td> <td>1965</td>\n",
       "        </tr>\n",
       "        <tr>\n",
       "            <td>8        </td> <td>The Exorcist                    </td> <td>Warner Brothers</td> <td>232,906,145</td> <td>983,226,600     </td> <td>1973</td>\n",
       "        </tr>\n",
       "        <tr>\n",
       "            <td>9        </td> <td>Snow White and the Seven Dwarves</td> <td>Disney         </td> <td>184,925,486</td> <td>969,010,000     </td> <td>1937</td>\n",
       "        </tr>\n",
       "    </tbody>\n",
       "</table>\n",
       "<p>... (190 rows omitted)</p>"
      ],
      "text/plain": [
       "Row Index | Title                            | Studio          | Gross       | Gross (Adjusted) | Year\n",
       "0         | Gone with the Wind               | MGM             | 198,676,459 | 1,796,176,700    | 1939\n",
       "1         | Star Wars                        | Fox             | 460,998,007 | 1,583,483,200    | 1977\n",
       "2         | The Sound of Music               | Fox             | 158,671,368 | 1,266,072,700    | 1965\n",
       "3         | E.T.: The Extra-Terrestrial      | Universal       | 435,110,554 | 1,261,085,000    | 1982\n",
       "4         | Titanic                          | Paramount       | 658,672,302 | 1,204,368,000    | 1997\n",
       "5         | The Ten Commandments             | Paramount       | 65,500,000  | 1,164,590,000    | 1956\n",
       "6         | Jaws                             | Universal       | 260,000,000 | 1,138,620,700    | 1975\n",
       "7         | Doctor Zhivago                   | MGM             | 111,721,910 | 1,103,564,200    | 1965\n",
       "8         | The Exorcist                     | Warner Brothers | 232,906,145 | 983,226,600      | 1973\n",
       "9         | Snow White and the Seven Dwarves | Disney          | 184,925,486 | 969,010,000      | 1937\n",
       "... (190 rows omitted)"
      ]
     },
     "execution_count": 3,
     "metadata": {},
     "output_type": "execute_result"
    }
   ],
   "source": [
    "top1 = Table.read_table('top_movies.csv')\n",
    "top2 = top1.with_column('Row Index', np.arange(top1.num_rows))\n",
    "top = top2.move_to_start('Row Index')\n",
    "\n",
    "top.set_format(make_array(3, 4), NumberFormatter)"
   ]
  },
  {
   "cell_type": "markdown",
   "id": "52d1b2c1",
   "metadata": {},
   "source": [
    "We can create a ***deterministic sample*** by selecting specific elements from the table (i.e. not randomly)."
   ]
  },
  {
   "cell_type": "code",
   "execution_count": 4,
   "id": "6792908d",
   "metadata": {},
   "outputs": [
    {
     "data": {
      "text/html": [
       "<table border=\"1\" class=\"dataframe\">\n",
       "    <thead>\n",
       "        <tr>\n",
       "            <th>Row Index</th> <th>Title</th> <th>Studio</th> <th>Gross</th> <th>Gross (Adjusted)</th> <th>Year</th>\n",
       "        </tr>\n",
       "    </thead>\n",
       "    <tbody>\n",
       "        <tr>\n",
       "            <td>1        </td> <td>Star Wars                   </td> <td>Fox        </td> <td>460,998,007</td> <td>1,583,483,200   </td> <td>1977</td>\n",
       "        </tr>\n",
       "        <tr>\n",
       "            <td>10       </td> <td>Star Wars: The Force Awakens</td> <td>Buena Vista</td> <td>936,662,225</td> <td>961,143,200     </td> <td>2015</td>\n",
       "        </tr>\n",
       "        <tr>\n",
       "            <td>100      </td> <td>The Hunger Games            </td> <td>Lionsgate  </td> <td>408,010,692</td> <td>452,174,400     </td> <td>2012</td>\n",
       "        </tr>\n",
       "    </tbody>\n",
       "</table>"
      ],
      "text/plain": [
       "Row Index | Title                        | Studio      | Gross       | Gross (Adjusted) | Year\n",
       "1         | Star Wars                    | Fox         | 460,998,007 | 1,583,483,200    | 1977\n",
       "10        | Star Wars: The Force Awakens | Buena Vista | 936,662,225 | 961,143,200      | 2015\n",
       "100       | The Hunger Games             | Lionsgate   | 408,010,692 | 452,174,400      | 2012"
      ]
     },
     "execution_count": 4,
     "metadata": {},
     "output_type": "execute_result"
    }
   ],
   "source": [
    "top.take([1, 10, 100])"
   ]
  },
  {
   "cell_type": "code",
   "execution_count": 5,
   "id": "e1171cb4",
   "metadata": {},
   "outputs": [
    {
     "data": {
      "text/html": [
       "<table border=\"1\" class=\"dataframe\">\n",
       "    <thead>\n",
       "        <tr>\n",
       "            <th>Row Index</th> <th>Title</th> <th>Studio</th> <th>Gross</th> <th>Gross (Adjusted)</th> <th>Year</th>\n",
       "        </tr>\n",
       "    </thead>\n",
       "    <tbody>\n",
       "        <tr>\n",
       "            <td>74       </td> <td>Harry Potter and the Sorcerer's Stone      </td> <td>Warner Brothers</td> <td>317,575,550</td> <td>497,066,400     </td> <td>2001</td>\n",
       "        </tr>\n",
       "        <tr>\n",
       "            <td>114      </td> <td>Harry Potter and the Deathly Hallows Part 2</td> <td>Warner Brothers</td> <td>381,011,219</td> <td>426,630,300     </td> <td>2011</td>\n",
       "        </tr>\n",
       "        <tr>\n",
       "            <td>131      </td> <td>Harry Potter and the Goblet of Fire        </td> <td>Warner Brothers</td> <td>290,013,036</td> <td>401,608,200     </td> <td>2005</td>\n",
       "        </tr>\n",
       "        <tr>\n",
       "            <td>133      </td> <td>Harry Potter and the Chamber of Secrets    </td> <td>Warner Brothers</td> <td>261,988,482</td> <td>399,302,200     </td> <td>2002</td>\n",
       "        </tr>\n",
       "        <tr>\n",
       "            <td>154      </td> <td>Harry Potter and the Order of the Phoenix  </td> <td>Warner Brothers</td> <td>292,004,738</td> <td>377,314,200     </td> <td>2007</td>\n",
       "        </tr>\n",
       "        <tr>\n",
       "            <td>175      </td> <td>Harry Potter and the Half-Blood Prince     </td> <td>Warner Brothers</td> <td>301,959,197</td> <td>359,788,300     </td> <td>2009</td>\n",
       "        </tr>\n",
       "        <tr>\n",
       "            <td>177      </td> <td>Harry Potter and the Prisoner of Azkaban   </td> <td>Warner Brothers</td> <td>249,541,069</td> <td>357,233,500     </td> <td>2004</td>\n",
       "        </tr>\n",
       "    </tbody>\n",
       "</table>"
      ],
      "text/plain": [
       "Row Index | Title                                       | Studio          | Gross       | Gross (Adjusted) | Year\n",
       "74        | Harry Potter and the Sorcerer's Stone       | Warner Brothers | 317,575,550 | 497,066,400      | 2001\n",
       "114       | Harry Potter and the Deathly Hallows Part 2 | Warner Brothers | 381,011,219 | 426,630,300      | 2011\n",
       "131       | Harry Potter and the Goblet of Fire         | Warner Brothers | 290,013,036 | 401,608,200      | 2005\n",
       "133       | Harry Potter and the Chamber of Secrets     | Warner Brothers | 261,988,482 | 399,302,200      | 2002\n",
       "154       | Harry Potter and the Order of the Phoenix   | Warner Brothers | 292,004,738 | 377,314,200      | 2007\n",
       "175       | Harry Potter and the Half-Blood Prince      | Warner Brothers | 301,959,197 | 359,788,300      | 2009\n",
       "177       | Harry Potter and the Prisoner of Azkaban    | Warner Brothers | 249,541,069 | 357,233,500      | 2004"
      ]
     },
     "execution_count": 5,
     "metadata": {},
     "output_type": "execute_result"
    }
   ],
   "source": [
    "top.where('Title', are.containing('Harry Potter'))"
   ]
  },
  {
   "cell_type": "markdown",
   "id": "ddb859ac",
   "metadata": {},
   "source": [
    "A ***population*** is the set of all elements\n",
    "\n",
    "A ***probibility sample*** is a set where the chance of subsets is calculatable.\n",
    "\n",
    "A ***systematic sample*** is a set where the subsets are evenly spaced"
   ]
  },
  {
   "cell_type": "markdown",
   "id": "467d4749",
   "metadata": {},
   "source": [
    "## Sampling with or without Replacement"
   ]
  },
  {
   "cell_type": "markdown",
   "id": "f2fe6f2e",
   "metadata": {},
   "source": [
    "Random samples with replacement the value can be sampled again.  This is the default setting with <code>np.random.choice</code> when it samples from an array.\n",
    "\n",
    "Random samples without replacement the value cannot be sampled again.  This is like dealing a deck of cards.\n",
    "\n",
    "### Sample of Convenience\n",
    "\n",
    "* Example: sample consists of whoever walks by\n",
    "* Just because you think you’re sampling “randomly”, doesn’t mean you have a random sample.\n",
    "* If you can’t figure out ahead of time \n",
    "    * what’s the population\n",
    "    * what’s the chance of selection, for each group in the population\n",
    "    <p>then you don’t have a random sample"
   ]
  },
  {
   "cell_type": "markdown",
   "id": "d61b3c70",
   "metadata": {},
   "source": [
    "## Empirical Distributions\n",
    "\n",
    "The word *Emperical* means *observed*.  We will consider the emerical, observed, distributions of some data"
   ]
  },
  {
   "cell_type": "code",
   "execution_count": null,
   "id": "6bf30994",
   "metadata": {},
   "outputs": [],
   "source": [
    "die = Table().with_column('Face', np.arange(1, 7, 1))\n",
    "die"
   ]
  },
  {
   "cell_type": "code",
   "execution_count": 7,
   "id": "f7aabaf7",
   "metadata": {},
   "outputs": [
    {
     "data": {
      "image/png": "[encoded data removed]",
      "text/plain": [
       "<Figure size 432x288 with 1 Axes>"
      ]
     },
     "metadata": {},
     "output_type": "display_data"
    }
   ],
   "source": [
    "die_bins = np.arange(0.5, 6.6, 1)\n",
    "die.hist(bins = die_bins)"
   ]
  },
  {
   "cell_type": "code",
   "execution_count": 8,
   "id": "e0f23610",
   "metadata": {},
   "outputs": [
    {
     "data": {
      "text/html": [
       "<table border=\"1\" class=\"dataframe\">\n",
       "    <thead>\n",
       "        <tr>\n",
       "            <th>Face</th>\n",
       "        </tr>\n",
       "    </thead>\n",
       "    <tbody>\n",
       "        <tr>\n",
       "            <td>1   </td>\n",
       "        </tr>\n",
       "        <tr>\n",
       "            <td>3   </td>\n",
       "        </tr>\n",
       "        <tr>\n",
       "            <td>2   </td>\n",
       "        </tr>\n",
       "        <tr>\n",
       "            <td>6   </td>\n",
       "        </tr>\n",
       "        <tr>\n",
       "            <td>3   </td>\n",
       "        </tr>\n",
       "        <tr>\n",
       "            <td>2   </td>\n",
       "        </tr>\n",
       "        <tr>\n",
       "            <td>2   </td>\n",
       "        </tr>\n",
       "        <tr>\n",
       "            <td>2   </td>\n",
       "        </tr>\n",
       "        <tr>\n",
       "            <td>3   </td>\n",
       "        </tr>\n",
       "        <tr>\n",
       "            <td>1   </td>\n",
       "        </tr>\n",
       "    </tbody>\n",
       "</table>"
      ],
      "text/plain": [
       "Face\n",
       "1\n",
       "3\n",
       "2\n",
       "6\n",
       "3\n",
       "2\n",
       "2\n",
       "2\n",
       "3\n",
       "1"
      ]
     },
     "execution_count": 8,
     "metadata": {},
     "output_type": "execute_result"
    }
   ],
   "source": [
    "die.sample(10)"
   ]
  },
  {
   "cell_type": "code",
   "execution_count": 9,
   "id": "51b5e2ba",
   "metadata": {},
   "outputs": [],
   "source": [
    "def empirical_hist_die(n):\n",
    "    die.sample(n).hist(bins = die_bins)"
   ]
  },
  {
   "cell_type": "code",
   "execution_count": 10,
   "id": "bae634ff",
   "metadata": {},
   "outputs": [
    {
     "data": {
      "image/png": "[encoded data removed]",
      "text/plain": [
       "<Figure size 432x288 with 1 Axes>"
      ]
     },
     "metadata": {},
     "output_type": "display_data"
    }
   ],
   "source": [
    "empirical_hist_die(6)"
   ]
  },
  {
   "cell_type": "code",
   "execution_count": 11,
   "id": "995e66fb",
   "metadata": {},
   "outputs": [
    {
     "data": {
      "image/png": "[encoded data removed]",
      "text/plain": [
       "<Figure size 432x288 with 1 Axes>"
      ]
     },
     "metadata": {},
     "output_type": "display_data"
    }
   ],
   "source": [
    "empirical_hist_die(60)"
   ]
  },
  {
   "cell_type": "code",
   "execution_count": 12,
   "id": "d1e8c379",
   "metadata": {},
   "outputs": [
    {
     "data": {
      "image/png": "[encoded data removed]",
      "text/plain": [
       "<Figure size 432x288 with 1 Axes>"
      ]
     },
     "metadata": {},
     "output_type": "display_data"
    }
   ],
   "source": [
    "empirical_hist_die(600)"
   ]
  },
  {
   "cell_type": "code",
   "execution_count": 13,
   "id": "459b823e",
   "metadata": {},
   "outputs": [
    {
     "data": {
      "image/png": "[encoded data removed]",
      "text/plain": [
       "<Figure size 432x288 with 1 Axes>"
      ]
     },
     "metadata": {},
     "output_type": "display_data"
    }
   ],
   "source": [
    "empirical_hist_die(6000)"
   ]
  },
  {
   "cell_type": "code",
   "execution_count": 14,
   "id": "29da723b",
   "metadata": {},
   "outputs": [
    {
     "data": {
      "image/png": "[encoded data removed]",
      "text/plain": [
       "<Figure size 432x288 with 1 Axes>"
      ]
     },
     "metadata": {},
     "output_type": "display_data"
    }
   ],
   "source": [
    "empirical_hist_die(60000)"
   ]
  },
  {
   "cell_type": "code",
   "execution_count": 15,
   "id": "160e8a90",
   "metadata": {},
   "outputs": [
    {
     "data": {
      "image/png": "[encoded data removed]",
      "text/plain": [
       "<Figure size 432x288 with 1 Axes>"
      ]
     },
     "metadata": {},
     "output_type": "display_data"
    }
   ],
   "source": [
    "empirical_hist_die(600000)"
   ]
  },
  {
   "cell_type": "markdown",
   "id": "28a0d3bc",
   "metadata": {},
   "source": [
    "### The law of averages\n",
    "\n",
    "If an event is repeated under identical conditions then the proportion of times the event occurs approaches the theoretical probability of the event"
   ]
  },
  {
   "cell_type": "markdown",
   "id": "1d59265e",
   "metadata": {},
   "source": [
    "### Sampling from a Population\n",
    "\n",
    "The table <code>united</code> contains data for United Airlines domestic flights from San Francisco in the summer of 2015.  The data are made publicly available by the [Bureau of Transportation Statistic](https://www.transtats.bts.gov/nosessionvar.asp) in the United States Department of Transportation."
   ]
  },
  {
   "cell_type": "code",
   "execution_count": 16,
   "id": "bc496b21",
   "metadata": {},
   "outputs": [
    {
     "data": {
      "text/html": [
       "<table border=\"1\" class=\"dataframe\">\n",
       "    <thead>\n",
       "        <tr>\n",
       "            <th>Date</th> <th>Flight Number</th> <th>Destination</th> <th>Delay</th>\n",
       "        </tr>\n",
       "    </thead>\n",
       "    <tbody>\n",
       "        <tr>\n",
       "            <td>6/1/15</td> <td>73           </td> <td>HNL        </td> <td>257  </td>\n",
       "        </tr>\n",
       "        <tr>\n",
       "            <td>6/1/15</td> <td>217          </td> <td>EWR        </td> <td>28   </td>\n",
       "        </tr>\n",
       "        <tr>\n",
       "            <td>6/1/15</td> <td>237          </td> <td>STL        </td> <td>-3   </td>\n",
       "        </tr>\n",
       "        <tr>\n",
       "            <td>6/1/15</td> <td>250          </td> <td>SAN        </td> <td>0    </td>\n",
       "        </tr>\n",
       "        <tr>\n",
       "            <td>6/1/15</td> <td>267          </td> <td>PHL        </td> <td>64   </td>\n",
       "        </tr>\n",
       "        <tr>\n",
       "            <td>6/1/15</td> <td>273          </td> <td>SEA        </td> <td>-6   </td>\n",
       "        </tr>\n",
       "        <tr>\n",
       "            <td>6/1/15</td> <td>278          </td> <td>SEA        </td> <td>-8   </td>\n",
       "        </tr>\n",
       "        <tr>\n",
       "            <td>6/1/15</td> <td>292          </td> <td>EWR        </td> <td>12   </td>\n",
       "        </tr>\n",
       "        <tr>\n",
       "            <td>6/1/15</td> <td>300          </td> <td>HNL        </td> <td>20   </td>\n",
       "        </tr>\n",
       "        <tr>\n",
       "            <td>6/1/15</td> <td>317          </td> <td>IND        </td> <td>-10  </td>\n",
       "        </tr>\n",
       "    </tbody>\n",
       "</table>\n",
       "<p>... (13815 rows omitted)</p>"
      ],
      "text/plain": [
       "Date   | Flight Number | Destination | Delay\n",
       "6/1/15 | 73            | HNL         | 257\n",
       "6/1/15 | 217           | EWR         | 28\n",
       "6/1/15 | 237           | STL         | -3\n",
       "6/1/15 | 250           | SAN         | 0\n",
       "6/1/15 | 267           | PHL         | 64\n",
       "6/1/15 | 273           | SEA         | -6\n",
       "6/1/15 | 278           | SEA         | -8\n",
       "6/1/15 | 292           | EWR         | 12\n",
       "6/1/15 | 300           | HNL         | 20\n",
       "6/1/15 | 317           | IND         | -10\n",
       "... (13815 rows omitted)"
      ]
     },
     "execution_count": 16,
     "metadata": {},
     "output_type": "execute_result"
    }
   ],
   "source": [
    "united = Table.read_table('united.csv')\n",
    "united"
   ]
  },
  {
   "cell_type": "markdown",
   "id": "0f929281",
   "metadata": {},
   "source": [
    "Delay is the delay in mins.  Negative values mean those flights left early."
   ]
  },
  {
   "cell_type": "code",
   "execution_count": 17,
   "id": "6a8a983b",
   "metadata": {},
   "outputs": [
    {
     "data": {
      "text/plain": [
       "-16"
      ]
     },
     "execution_count": 17,
     "metadata": {},
     "output_type": "execute_result"
    }
   ],
   "source": [
    "united.column('Delay').min()"
   ]
  },
  {
   "cell_type": "code",
   "execution_count": 18,
   "id": "51f5ba43",
   "metadata": {},
   "outputs": [
    {
     "data": {
      "text/plain": [
       "580"
      ]
     },
     "execution_count": 18,
     "metadata": {},
     "output_type": "execute_result"
    }
   ],
   "source": [
    "united.column('Delay').max()"
   ]
  },
  {
   "cell_type": "code",
   "execution_count": 19,
   "id": "84e34dde",
   "metadata": {},
   "outputs": [
    {
     "data": {
      "image/png": "[encoded data removed]",
      "text/plain": [
       "<Figure size 432x288 with 1 Axes>"
      ]
     },
     "metadata": {},
     "output_type": "display_data"
    }
   ],
   "source": [
    "delay_bins = np.append(np.arange(-20, 301, 10), 600)\n",
    "united.hist('Delay', bins = delay_bins, unit = 'minute')"
   ]
  },
  {
   "cell_type": "code",
   "execution_count": 20,
   "id": "ddc886f4",
   "metadata": {},
   "outputs": [
    {
     "data": {
      "text/plain": [
       "0.008390596745027125"
      ]
     },
     "execution_count": 20,
     "metadata": {},
     "output_type": "execute_result"
    }
   ],
   "source": [
    "united.where('Delay', are.above(200)).num_rows/united.num_rows"
   ]
  },
  {
   "cell_type": "markdown",
   "id": "f06a5cc1",
   "metadata": {},
   "source": [
    "Only about 0.8% of the flights had delays over 200 mins.  We will not plot those for visual convinience."
   ]
  },
  {
   "cell_type": "code",
   "execution_count": 21,
   "id": "d80bbfbc",
   "metadata": {},
   "outputs": [
    {
     "data": {
      "image/png": "[encoded data removed]",
      "text/plain": [
       "<Figure size 432x288 with 1 Axes>"
      ]
     },
     "metadata": {},
     "output_type": "display_data"
    }
   ],
   "source": [
    "delay_bins = np.arange(-20, 201, 10)\n",
    "united.hist('Delay', bins = delay_bins, unit = 'minute')"
   ]
  },
  {
   "cell_type": "markdown",
   "id": "66c38736",
   "metadata": {},
   "source": [
    "What percent of flighs had a delaly between 0 and 10 mins?"
   ]
  },
  {
   "cell_type": "code",
   "execution_count": 22,
   "id": "af4bb618",
   "metadata": {},
   "outputs": [
    {
     "data": {
      "text/plain": [
       "0.2935985533453888"
      ]
     },
     "execution_count": 22,
     "metadata": {},
     "output_type": "execute_result"
    }
   ],
   "source": [
    "united.where('Delay', are.between(0, 10)).num_rows/united.num_rows"
   ]
  },
  {
   "cell_type": "code",
   "execution_count": 23,
   "id": "4a89cf11",
   "metadata": {},
   "outputs": [],
   "source": [
    "def empirical_hist_delay(n):\n",
    "    united.sample(n).hist('Delay', bins = delay_bins, unit = 'minute')"
   ]
  },
  {
   "cell_type": "markdown",
   "id": "4b13f943",
   "metadata": {},
   "source": [
    "As we saw with the dice, as the sample size increases, the empirical histogram of the sample more closely resembles the histogram of the population. Compare these histograms to the population histogram above."
   ]
  },
  {
   "cell_type": "code",
   "execution_count": 24,
   "id": "98b0d6a5",
   "metadata": {},
   "outputs": [
    {
     "data": {
      "image/png": "[encoded data removed]",
      "text/plain": [
       "<Figure size 432x288 with 1 Axes>"
      ]
     },
     "metadata": {},
     "output_type": "display_data"
    }
   ],
   "source": [
    "empirical_hist_delay(10)"
   ]
  },
  {
   "cell_type": "code",
   "execution_count": 25,
   "id": "d99a3f0f",
   "metadata": {},
   "outputs": [
    {
     "data": {
      "image/png": "[encoded data removed]",
      "text/plain": [
       "<Figure size 432x288 with 1 Axes>"
      ]
     },
     "metadata": {},
     "output_type": "display_data"
    }
   ],
   "source": [
    "empirical_hist_delay(100)"
   ]
  },
  {
   "cell_type": "code",
   "execution_count": 26,
   "id": "f009940e",
   "metadata": {},
   "outputs": [
    {
     "data": {
      "image/png": "[encoded data removed]",
      "text/plain": [
       "<Figure size 432x288 with 1 Axes>"
      ]
     },
     "metadata": {},
     "output_type": "display_data"
    }
   ],
   "source": [
    "empirical_hist_delay(1000)"
   ]
  },
  {
   "cell_type": "markdown",
   "id": "d2ff38c0",
   "metadata": {},
   "source": [
    "A large random sample is likely to resembel the population from which it was draw."
   ]
  },
  {
   "cell_type": "markdown",
   "id": "2f36ba15",
   "metadata": {},
   "source": [
    "* The Law of Averages implies that with high probability, the empirical distribution of a large random sample will resemble the distribution of the population from which the sample was drawn."
   ]
  },
  {
   "cell_type": "markdown",
   "id": "34233cf1",
   "metadata": {},
   "source": []
  },
  {
   "cell_type": "markdown",
   "id": "a139b483",
   "metadata": {},
   "source": [
    "Frequently, we are interested in numerical quantities associated with a population.\n",
    "\n",
    "* In a population of voters, what percent will vote for Candidate A?\n",
    "\n",
    "* In a population of Facebook users, what is the largest number of Facebook friends that the users have?\n",
    "\n",
    "* In a population of United flights, what is the median departure delay?\n",
    "\n",
    "Numerical quantities associated with a population are called parameters. For the population of flights in united, we know the value of the parameter “median delay”:"
   ]
  },
  {
   "cell_type": "code",
   "execution_count": 27,
   "id": "37505064",
   "metadata": {},
   "outputs": [
    {
     "data": {
      "text/plain": [
       "2.0"
      ]
     },
     "execution_count": 27,
     "metadata": {},
     "output_type": "execute_result"
    }
   ],
   "source": [
    "np.median(united.column('Delay'))"
   ]
  },
  {
   "cell_type": "code",
   "execution_count": 28,
   "id": "c1e03897",
   "metadata": {},
   "outputs": [
    {
     "data": {
      "text/plain": [
       "0.5018444846292948"
      ]
     },
     "execution_count": 28,
     "metadata": {},
     "output_type": "execute_result"
    }
   ],
   "source": [
    "united.where('Delay', are.below_or_equal_to(2)).num_rows / united.num_rows"
   ]
  },
  {
   "cell_type": "markdown",
   "id": "5e1fd7df",
   "metadata": {},
   "source": [
    "\n",
    "Half of the united flights had delays less than 2 mins. Not too bad."
   ]
  },
  {
   "cell_type": "markdown",
   "id": "71d63c36",
   "metadata": {},
   "source": [
    "If we calculate the median on a sample of the data will we always calcualte the same media delay time?"
   ]
  },
  {
   "cell_type": "code",
   "execution_count": 29,
   "id": "7790d773",
   "metadata": {},
   "outputs": [
    {
     "data": {
      "text/plain": [
       "11.5"
      ]
     },
     "execution_count": 29,
     "metadata": {},
     "output_type": "execute_result"
    }
   ],
   "source": [
    "np.median(united.sample(10).column('Delay'))"
   ]
  },
  {
   "cell_type": "code",
   "execution_count": 30,
   "id": "9403f651",
   "metadata": {},
   "outputs": [
    {
     "data": {
      "text/plain": [
       "1.0"
      ]
     },
     "execution_count": 30,
     "metadata": {},
     "output_type": "execute_result"
    }
   ],
   "source": [
    "np.median(united.sample(100).column('Delay'))"
   ]
  },
  {
   "cell_type": "code",
   "execution_count": 31,
   "id": "bd911352",
   "metadata": {},
   "outputs": [
    {
     "data": {
      "text/plain": [
       "2.0"
      ]
     },
     "execution_count": 31,
     "metadata": {},
     "output_type": "execute_result"
    }
   ],
   "source": [
    "np.median(united.sample(1000).column('Delay'))"
   ]
  },
  {
   "cell_type": "markdown",
   "id": "c96e30a3",
   "metadata": {},
   "source": [
    "### Lets simulate the median of a random sample using Python!"
   ]
  },
  {
   "cell_type": "markdown",
   "id": "673d3e50",
   "metadata": {},
   "source": [
    "Step 1: Decide which statistic to simulate. We have already decided that: we are going to simulate the median of a random sample of size 1000 drawn from the population of flight delays.\n",
    "\n",
    "Step 2: Write the code to generate one value of the statistic. Draw a random sample of size 1000 and compute the median of the sample. We did this in the code cell above. Here it is again, encapsulated in a function.\n",
    "\n",
    "Step 3: Decide how many simulated values to generate. Let’s do 5,000 repetitions.\n",
    "\n",
    "Step 4: Write the code to generate an array of simulated values. As in all simulations, we start by creating an empty array in which we will collect our results. We will then set up a for loop for generating all the simulated values. The body of the loop will consist of generating one simulated value of the sample median, and appending it to our collection array."
   ]
  },
  {
   "cell_type": "code",
   "execution_count": 32,
   "id": "11cc058b",
   "metadata": {},
   "outputs": [],
   "source": [
    "def random_sample_median():\n",
    "    return np.median(united.sample(1000).column('Delay'))"
   ]
  },
  {
   "cell_type": "code",
   "execution_count": 33,
   "id": "09b0d4ef",
   "metadata": {},
   "outputs": [],
   "source": [
    "medians = make_array()\n",
    "\n",
    "for i in np.arange(5000):\n",
    "    medians = np.append(medians, random_sample_median())"
   ]
  },
  {
   "cell_type": "markdown",
   "id": "57e0bd32",
   "metadata": {},
   "source": [
    "Lets visualize the results"
   ]
  },
  {
   "cell_type": "code",
   "execution_count": 34,
   "id": "ef127c93",
   "metadata": {},
   "outputs": [
    {
     "data": {
      "text/html": [
       "<table border=\"1\" class=\"dataframe\">\n",
       "    <thead>\n",
       "        <tr>\n",
       "            <th>Sample Median</th>\n",
       "        </tr>\n",
       "    </thead>\n",
       "    <tbody>\n",
       "        <tr>\n",
       "            <td>3            </td>\n",
       "        </tr>\n",
       "        <tr>\n",
       "            <td>2            </td>\n",
       "        </tr>\n",
       "        <tr>\n",
       "            <td>3            </td>\n",
       "        </tr>\n",
       "        <tr>\n",
       "            <td>3            </td>\n",
       "        </tr>\n",
       "        <tr>\n",
       "            <td>3            </td>\n",
       "        </tr>\n",
       "        <tr>\n",
       "            <td>2            </td>\n",
       "        </tr>\n",
       "        <tr>\n",
       "            <td>3            </td>\n",
       "        </tr>\n",
       "        <tr>\n",
       "            <td>2            </td>\n",
       "        </tr>\n",
       "        <tr>\n",
       "            <td>3            </td>\n",
       "        </tr>\n",
       "        <tr>\n",
       "            <td>2            </td>\n",
       "        </tr>\n",
       "    </tbody>\n",
       "</table>\n",
       "<p>... (4990 rows omitted)</p>"
      ],
      "text/plain": [
       "Sample Median\n",
       "3\n",
       "2\n",
       "3\n",
       "3\n",
       "3\n",
       "2\n",
       "3\n",
       "2\n",
       "3\n",
       "2\n",
       "... (4990 rows omitted)"
      ]
     },
     "execution_count": 34,
     "metadata": {},
     "output_type": "execute_result"
    }
   ],
   "source": [
    "simulated_medians = Table().with_column('Sample Median', medians)\n",
    "simulated_medians"
   ]
  },
  {
   "cell_type": "code",
   "execution_count": 35,
   "id": "ba7cd9b3",
   "metadata": {},
   "outputs": [
    {
     "data": {
      "image/png": "[encoded data removed]",
      "text/plain": [
       "<Figure size 432x288 with 1 Axes>"
      ]
     },
     "metadata": {},
     "output_type": "display_data"
    }
   ],
   "source": [
    "simulated_medians.hist(bins=np.arange(0.5, 5, 1))"
   ]
  },
  {
   "cell_type": "raw",
   "id": "a3c54757",
   "metadata": {},
   "source": [
    "The hitogram above shows that after 5000 samples the median delay is "
   ]
  },
  {
   "cell_type": "code",
   "execution_count": null,
   "id": "c3078f7a",
   "metadata": {},
   "outputs": [],
   "source": []
  }
 ],
 "metadata": {
  "kernelspec": {
   "display_name": "Python 3 (ipykernel)",
   "language": "python",
   "name": "python3"
  },
  "language_info": {
   "codemirror_mode": {
    "name": "ipython",
    "version": 3
   },
   "file_extension": ".py",
   "mimetype": "text/x-python",
   "name": "python",
   "nbconvert_exporter": "python",
   "pygments_lexer": "ipython3",
   "version": "3.7.1"
  }
 },
 "nbformat": 4,
 "nbformat_minor": 5
}
