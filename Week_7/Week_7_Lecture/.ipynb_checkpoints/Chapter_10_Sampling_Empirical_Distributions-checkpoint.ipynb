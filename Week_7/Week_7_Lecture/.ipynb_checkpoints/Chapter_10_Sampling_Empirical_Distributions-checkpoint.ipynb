{
 "cells": [
  {
   "cell_type": "markdown",
   "id": "0ecab548",
   "metadata": {},
   "source": [
    "The contents of this course including lectures, labs, homework assignments, and exams have all been adapted from the [Data 8 course at University California Berkley](https://data.berkeley.edu/education/courses/data-8). Through their generosity and passion for undergraduate education, the Data 8 community at Berkley has opened their content and expertise for other universities to adapt in the name of undergraduate education."
   ]
  },
  {
   "cell_type": "code",
   "execution_count": null,
   "id": "9cf35032",
   "metadata": {},
   "outputs": [],
   "source": [
    "!pip install datascience\n",
    "from datascience import *\n",
    "import numpy as np\n",
    "\n",
    "%matplotlib inline\n",
    "import matplotlib.pyplot as plots\n",
    "plots.style.use('fivethirtyeight')"
   ]
  },
  {
   "cell_type": "markdown",
   "id": "b293e470",
   "metadata": {},
   "source": [
    "# Chapter 9 Review"
   ]
  },
  {
   "cell_type": "code",
   "execution_count": null,
   "id": "fe431667",
   "metadata": {},
   "outputs": [],
   "source": [
    "# Create a function that simulats 10000 flips of a coin. \n",
    "# Record the number of heads and tails that are flipped in the simulation.\n",
    "# Save the results in a data table."
   ]
  },
  {
   "cell_type": "markdown",
   "id": "fecb2386",
   "metadata": {},
   "source": [
    "# Probability Review"
   ]
  },
  {
   "cell_type": "markdown",
   "id": "a069c7ae",
   "metadata": {},
   "source": [
    "## Equally likely Outcomes\n",
    "\n",
    "Assuming all outcomes are equally likely, the chance of an event, A is:\n",
    "\n",
    "P(A) = # of outcomes that make A happen / Total number of outcomes"
   ]
  },
  {
   "cell_type": "markdown",
   "id": "48496228",
   "metadata": {},
   "source": [
    "## Multiplication Rule\n",
    "\n",
    "Change that two events, A and B, both happen:\n",
    "\n",
    "P(A)(B) = P(A happens) * P(B happens given that A has happend) \n",
    "\n",
    "* The more conditions you have to satisfy the less likely the event will happen"
   ]
  },
  {
   "cell_type": "markdown",
   "id": "5e51cf36",
   "metadata": {},
   "source": [
    "## Addition Rule\n",
    "\n",
    "If an event can happen one of two ways:\n",
    "\n",
    "P(A) = P(first way) + P(second way)"
   ]
  },
  {
   "cell_type": "markdown",
   "id": "448bc75c",
   "metadata": {},
   "source": [
    "## At least one Success\n",
    "\n",
    "Chance that A happens at least once.\n",
    "\n",
    "P(not A) = 1 - P(A)\n",
    "\n",
    "At least one head in three coin tosses?\n",
    "\n",
    "P(not TTT) = 1 - P(TTT) = 1 - (1/2)^3 = 1 - (1/8) = 87.5%"
   ]
  },
  {
   "cell_type": "markdown",
   "id": "53ffa8b1",
   "metadata": {},
   "source": [
    "### HW 6/7 error\n",
    "Question 2.6. Compute the chance that the monkey types the letter \"t\" at least once in the 5 strikes. Call it t_chance. Use algebra and type in an arithmetic equation that Python can evalute. "
   ]
  },
  {
   "cell_type": "code",
   "execution_count": null,
   "id": "812ecb54",
   "metadata": {},
   "outputs": [],
   "source": [
    "t_count = 0\n",
    "simulate_one_type = [2, 1, 1, 2, 2]\n",
    "simulate_one_type\n",
    "if 1 in simulate_one_type:\n",
    "    t_count += 1\n",
    "t_count"
   ]
  },
  {
   "cell_type": "code",
   "execution_count": null,
   "id": "aae07a8a",
   "metadata": {},
   "outputs": [],
   "source": [
    "def simulate_key_strokes(num_simulations):\n",
    "    keyboard = np.arange(62)\n",
    "    t_count = 0\n",
    "    for i in np.arange(num_simulations):\n",
    "        simulate_one_type = np.random.choice(keyboard, 5)\n",
    "        if 1 in simulate_one_type:\n",
    "            t_count += 1\n",
    "    return t_count/num_simulations"
   ]
  },
  {
   "cell_type": "code",
   "execution_count": null,
   "id": "4e75f85e",
   "metadata": {},
   "outputs": [],
   "source": [
    "simulate_key_strokes(1*10**6)"
   ]
  },
  {
   "cell_type": "markdown",
   "id": "33d74ccd",
   "metadata": {},
   "source": [
    "### What are the chances we select the Ace of Hearts and the Ace of Dimonds in a deck of 52 cards without replacement?\n",
    "\n",
    "P  = 2 * (1/52) * (1/51) = 7.77%\n",
    "\n",
    "### What are the chances neither the Ace of Hearts and the Ace of Dimonds in a deck of 52 cards without replacement?\n",
    "\n",
    "P = (50/52) * (49/51) = 92.4%"
   ]
  },
  {
   "cell_type": "code",
   "execution_count": null,
   "id": "ea0a2319",
   "metadata": {},
   "outputs": [],
   "source": []
  },
  {
   "cell_type": "markdown",
   "id": "7b940d56",
   "metadata": {},
   "source": [
    "# Chapter 10: Sampling and Empirical Distributions\n",
    "\n",
    "An important part of data science is infering meaning from random samples.  This chapter takes a closer look at sampling and random samples."
   ]
  },
  {
   "cell_type": "code",
   "execution_count": null,
   "id": "c07c8da9",
   "metadata": {},
   "outputs": [],
   "source": [
    "top1 = Table.read_table('top_movies.csv')\n",
    "top2 = top1.with_column('Row Index', np.arange(top1.num_rows))\n",
    "top = top2.move_to_start('Row Index')\n",
    "\n",
    "top.set_format(make_array(3, 4), NumberFormatter)"
   ]
  },
  {
   "cell_type": "markdown",
   "id": "52d1b2c1",
   "metadata": {},
   "source": [
    "We can create a ***deterministic sample*** by selecting specific elements from the table (i.e. not randomly)."
   ]
  },
  {
   "cell_type": "code",
   "execution_count": null,
   "id": "6792908d",
   "metadata": {},
   "outputs": [],
   "source": [
    "top.take([1, 10, 100])"
   ]
  },
  {
   "cell_type": "code",
   "execution_count": null,
   "id": "e1171cb4",
   "metadata": {},
   "outputs": [],
   "source": [
    "top.where('Title', are.containing('Harry Potter'))"
   ]
  },
  {
   "cell_type": "markdown",
   "id": "ddb859ac",
   "metadata": {},
   "source": [
    "A ***population*** is the set of all elements\n",
    "\n",
    "A ***probibility sample*** is a set where the chance of subsets is calculatable.\n",
    "\n",
    "A ***systematic sample*** is a set where the subsets are evenly spaced"
   ]
  },
  {
   "cell_type": "markdown",
   "id": "467d4749",
   "metadata": {},
   "source": [
    "## Sampling with or without Replacement"
   ]
  },
  {
   "cell_type": "markdown",
   "id": "f2fe6f2e",
   "metadata": {},
   "source": [
    "Random samples with replacement the value can be sampled again.  This is the default setting with <code>np.random.choice</code> when it samples from an array.\n",
    "\n",
    "Random samples without replacement the value cannot be sampled again.  This is like dealing a deck of cards.\n",
    "\n",
    "### Sample of Convenience\n",
    "\n",
    "* Example: sample consists of whoever walks by\n",
    "* Just because you think you’re sampling “randomly”, doesn’t mean you have a random sample.\n",
    "* If you can’t figure out ahead of time \n",
    "    * what’s the population\n",
    "    * what’s the chance of selection, for each group in the population\n",
    "    <p>then you don’t have a random sample"
   ]
  },
  {
   "cell_type": "markdown",
   "id": "d61b3c70",
   "metadata": {},
   "source": [
    "## Empirical Distributions\n",
    "\n",
    "The word *Emperical* means *observed*.  We will consider the emerical, observed, distributions of some data"
   ]
  },
  {
   "cell_type": "code",
   "execution_count": null,
   "id": "6bf30994",
   "metadata": {},
   "outputs": [],
   "source": [
    "die = Table().with_column('Face', np.arange(1, 7, 1))\n",
    "die"
   ]
  },
  {
   "cell_type": "code",
   "execution_count": null,
   "id": "f7aabaf7",
   "metadata": {},
   "outputs": [],
   "source": [
    "die_bins = np.arange(0.5, 6.6, 1)\n",
    "die.hist(bins = die_bins)"
   ]
  },
  {
   "cell_type": "code",
   "execution_count": null,
   "id": "e0f23610",
   "metadata": {},
   "outputs": [],
   "source": [
    "die.sample(10)"
   ]
  },
  {
   "cell_type": "code",
   "execution_count": null,
   "id": "51b5e2ba",
   "metadata": {},
   "outputs": [],
   "source": [
    "def empirical_hist_die(n):\n",
    "    die.sample(n).hist(bins = die_bins)"
   ]
  },
  {
   "cell_type": "code",
   "execution_count": null,
   "id": "bae634ff",
   "metadata": {},
   "outputs": [],
   "source": [
    "empirical_hist_die(6)"
   ]
  },
  {
   "cell_type": "code",
   "execution_count": null,
   "id": "995e66fb",
   "metadata": {},
   "outputs": [],
   "source": [
    "empirical_hist_die(60)"
   ]
  },
  {
   "cell_type": "code",
   "execution_count": null,
   "id": "d1e8c379",
   "metadata": {},
   "outputs": [],
   "source": [
    "empirical_hist_die(600)"
   ]
  },
  {
   "cell_type": "code",
   "execution_count": null,
   "id": "459b823e",
   "metadata": {},
   "outputs": [],
   "source": [
    "empirical_hist_die(6000)"
   ]
  },
  {
   "cell_type": "code",
   "execution_count": null,
   "id": "29da723b",
   "metadata": {},
   "outputs": [],
   "source": [
    "empirical_hist_die(60000)"
   ]
  },
  {
   "cell_type": "code",
   "execution_count": null,
   "id": "160e8a90",
   "metadata": {},
   "outputs": [],
   "source": [
    "empirical_hist_die(600000)"
   ]
  },
  {
   "cell_type": "markdown",
   "id": "28a0d3bc",
   "metadata": {},
   "source": [
    "### The law of averages\n",
    "\n",
    "If an event is repeated under identical conditions then the proportion of times the event occurs approaches the theoretical probability of the event"
   ]
  },
  {
   "cell_type": "markdown",
   "id": "1d59265e",
   "metadata": {},
   "source": [
    "### Sampling from a Population\n",
    "\n",
    "The table <code>united</code> contains data for United Airlines domestic flights from San Francisco in the summer of 2015.  The data are made publicly available by the [Bureau of Transportation Statistic](https://www.transtats.bts.gov/nosessionvar.asp) in the United States Department of Transportation."
   ]
  },
  {
   "cell_type": "code",
   "execution_count": null,
   "id": "bc496b21",
   "metadata": {},
   "outputs": [],
   "source": [
    "united = Table.read_table('united.csv')\n",
    "united"
   ]
  },
  {
   "cell_type": "markdown",
   "id": "0f929281",
   "metadata": {},
   "source": [
    "Delay is the delay in mins.  Negative values mean those flights left early."
   ]
  },
  {
   "cell_type": "code",
   "execution_count": null,
   "id": "6a8a983b",
   "metadata": {},
   "outputs": [],
   "source": [
    "united.column('Delay').min()"
   ]
  },
  {
   "cell_type": "code",
   "execution_count": null,
   "id": "51f5ba43",
   "metadata": {},
   "outputs": [],
   "source": [
    "united.column('Delay').max()"
   ]
  },
  {
   "cell_type": "code",
   "execution_count": null,
   "id": "84e34dde",
   "metadata": {},
   "outputs": [],
   "source": [
    "delay_bins = np.append(np.arange(-20, 301, 10), 600)\n",
    "united.hist('Delay', bins = delay_bins, unit = 'minute')"
   ]
  },
  {
   "cell_type": "code",
   "execution_count": null,
   "id": "ddc886f4",
   "metadata": {},
   "outputs": [],
   "source": [
    "united.where('Delay', are.above(200)).num_rows/united.num_rows"
   ]
  },
  {
   "cell_type": "markdown",
   "id": "f06a5cc1",
   "metadata": {},
   "source": [
    "Only about 0.8% of the flights had delays over 200 mins.  We will not plot those for visual convinience."
   ]
  },
  {
   "cell_type": "code",
   "execution_count": null,
   "id": "d80bbfbc",
   "metadata": {},
   "outputs": [],
   "source": [
    "delay_bins = np.arange(-20, 201, 10)\n",
    "united.hist('Delay', bins = delay_bins, unit = 'minute')"
   ]
  },
  {
   "cell_type": "markdown",
   "id": "66c38736",
   "metadata": {},
   "source": [
    "What percent of flighs had a delaly between 0 and 10 mins?"
   ]
  },
  {
   "cell_type": "code",
   "execution_count": null,
   "id": "af4bb618",
   "metadata": {},
   "outputs": [],
   "source": [
    "united.where('Delay', are.between(0, 10)).num_rows/united.num_rows"
   ]
  },
  {
   "cell_type": "code",
   "execution_count": null,
   "id": "4a89cf11",
   "metadata": {},
   "outputs": [],
   "source": [
    "def empirical_hist_delay(n):\n",
    "    united.sample(n).hist('Delay', bins = delay_bins, unit = 'minute')"
   ]
  },
  {
   "cell_type": "markdown",
   "id": "4b13f943",
   "metadata": {},
   "source": [
    "As we saw with the dice, as the sample size increases, the empirical histogram of the sample more closely resembles the histogram of the population. Compare these histograms to the population histogram above."
   ]
  },
  {
   "cell_type": "code",
   "execution_count": null,
   "id": "98b0d6a5",
   "metadata": {},
   "outputs": [],
   "source": [
    "empirical_hist_delay(10)"
   ]
  },
  {
   "cell_type": "code",
   "execution_count": null,
   "id": "d99a3f0f",
   "metadata": {},
   "outputs": [],
   "source": [
    "empirical_hist_delay(100)"
   ]
  },
  {
   "cell_type": "code",
   "execution_count": null,
   "id": "f009940e",
   "metadata": {},
   "outputs": [],
   "source": [
    "empirical_hist_delay(1000)"
   ]
  },
  {
   "cell_type": "markdown",
   "id": "d2ff38c0",
   "metadata": {},
   "source": [
    "A large random sample is likely to resembel the population from which it was draw."
   ]
  },
  {
   "cell_type": "markdown",
   "id": "2f36ba15",
   "metadata": {},
   "source": [
    "* The Law of Averages implies that with high probability, the empirical distribution of a large random sample will resemble the distribution of the population from which the sample was drawn."
   ]
  },
  {
   "cell_type": "markdown",
   "id": "34233cf1",
   "metadata": {},
   "source": []
  },
  {
   "cell_type": "markdown",
   "id": "a139b483",
   "metadata": {},
   "source": [
    "Frequently, we are interested in numerical quantities associated with a population.\n",
    "\n",
    "* In a population of voters, what percent will vote for Candidate A?\n",
    "\n",
    "* In a population of Facebook users, what is the largest number of Facebook friends that the users have?\n",
    "\n",
    "* In a population of United flights, what is the median departure delay?\n",
    "\n",
    "Numerical quantities associated with a population are called parameters. For the population of flights in united, we know the value of the parameter “median delay”:"
   ]
  },
  {
   "cell_type": "code",
   "execution_count": null,
   "id": "37505064",
   "metadata": {},
   "outputs": [],
   "source": [
    "np.median(united.column('Delay'))"
   ]
  },
  {
   "cell_type": "code",
   "execution_count": null,
   "id": "c1e03897",
   "metadata": {},
   "outputs": [],
   "source": [
    "united.where('Delay', are.below_or_equal_to(2)).num_rows / united.num_rows"
   ]
  },
  {
   "cell_type": "markdown",
   "id": "5e1fd7df",
   "metadata": {},
   "source": [
    "\n",
    "Half of the united flights had delays less than 2 mins. Not too bad."
   ]
  },
  {
   "cell_type": "markdown",
   "id": "71d63c36",
   "metadata": {},
   "source": [
    "If we calculate the median on a sample of the data will we always calcualte the same media delay time?"
   ]
  },
  {
   "cell_type": "code",
   "execution_count": null,
   "id": "7790d773",
   "metadata": {},
   "outputs": [],
   "source": [
    "np.median(united.sample(10).column('Delay'))"
   ]
  },
  {
   "cell_type": "code",
   "execution_count": null,
   "id": "9403f651",
   "metadata": {},
   "outputs": [],
   "source": [
    "np.median(united.sample(100).column('Delay'))"
   ]
  },
  {
   "cell_type": "code",
   "execution_count": null,
   "id": "bd911352",
   "metadata": {},
   "outputs": [],
   "source": [
    "np.median(united.sample(1000).column('Delay'))"
   ]
  },
  {
   "cell_type": "markdown",
   "id": "c96e30a3",
   "metadata": {},
   "source": [
    "### Lets simulate the median of a random sample using Python!"
   ]
  },
  {
   "cell_type": "markdown",
   "id": "673d3e50",
   "metadata": {},
   "source": [
    "Step 1: Decide which statistic to simulate. We have already decided that: we are going to simulate the median of a random sample of size 1000 drawn from the population of flight delays.\n",
    "\n",
    "Step 2: Write the code to generate one value of the statistic. Draw a random sample of size 1000 and compute the median of the sample. We did this in the code cell above. Here it is again, encapsulated in a function.\n",
    "\n",
    "Step 3: Decide how many simulated values to generate. Let’s do 5,000 repetitions.\n",
    "\n",
    "Step 4: Write the code to generate an array of simulated values. As in all simulations, we start by creating an empty array in which we will collect our results. We will then set up a for loop for generating all the simulated values. The body of the loop will consist of generating one simulated value of the sample median, and appending it to our collection array."
   ]
  },
  {
   "cell_type": "code",
   "execution_count": null,
   "id": "11cc058b",
   "metadata": {},
   "outputs": [],
   "source": [
    "def random_sample_median():\n",
    "    return np.median(united.sample(1000).column('Delay'))"
   ]
  },
  {
   "cell_type": "code",
   "execution_count": null,
   "id": "09b0d4ef",
   "metadata": {},
   "outputs": [],
   "source": [
    "medians = make_array()\n",
    "\n",
    "for i in np.arange(5000):\n",
    "    medians = np.append(medians, random_sample_median())"
   ]
  },
  {
   "cell_type": "markdown",
   "id": "57e0bd32",
   "metadata": {},
   "source": [
    "Lets visualize the results"
   ]
  },
  {
   "cell_type": "code",
   "execution_count": null,
   "id": "ef127c93",
   "metadata": {},
   "outputs": [],
   "source": [
    "simulated_medians = Table().with_column('Sample Median', medians)\n",
    "simulated_medians"
   ]
  },
  {
   "cell_type": "code",
   "execution_count": null,
   "id": "ba7cd9b3",
   "metadata": {},
   "outputs": [],
   "source": [
    "simulated_medians.hist(bins=np.arange(0.5, 5, 1))"
   ]
  },
  {
   "cell_type": "raw",
   "id": "a3c54757",
   "metadata": {},
   "source": [
    "The hitogram above shows that after 5000 samples the median delay is "
   ]
  },
  {
   "cell_type": "code",
   "execution_count": null,
   "id": "c3078f7a",
   "metadata": {},
   "outputs": [],
   "source": []
  }
 ],
 "metadata": {
  "kernelspec": {
   "display_name": "Python 3 (ipykernel)",
   "language": "python",
   "name": "python3"
  },
  "language_info": {
   "codemirror_mode": {
    "name": "ipython",
    "version": 3
   },
   "file_extension": ".py",
   "mimetype": "text/x-python",
   "name": "python",
   "nbconvert_exporter": "python",
   "pygments_lexer": "ipython3",
   "version": "3.7.1"
  }
 },
 "nbformat": 4,
 "nbformat_minor": 5
}
