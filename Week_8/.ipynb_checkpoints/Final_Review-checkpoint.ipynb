{
 "cells": [
  {
   "cell_type": "markdown",
   "id": "163ec97f",
   "metadata": {},
   "source": [
    "The contents of this course including lectures, labs, homework assignments, and exams have all been adapted from the [Data 8 course at University California Berkeley](https://data.berkeley.edu/education/courses/data-8). Through their generosity and passion for undergraduate education, the Data 8 community at Berkley has opened their content and expertise for other universities to adapt in the name of undergraduate education."
   ]
  },
  {
   "cell_type": "code",
   "execution_count": null,
   "id": "4ff336ac",
   "metadata": {},
   "outputs": [],
   "source": [
    "!pip install datascience -q\n",
    "from datascience import *\n",
    "import numpy as np\n",
    "\n",
    "%matplotlib inline\n",
    "import matplotlib.pyplot as plots\n",
    "plots.style.use('fivethirtyeight')"
   ]
  },
  {
   "cell_type": "markdown",
   "id": "9892484c",
   "metadata": {},
   "source": [
    "# DS 400 Review and Exam Prep.\n",
    "The exam will conducted in Jupyter Notebooks just like the rest of the course.  The exam will be open books and open notes.  I anticipate asking you questions similar to this review and prep document.\n",
    "\n",
    "### Chapters 1 - 2 "
   ]
  },
  {
   "cell_type": "markdown",
   "id": "f0818dda",
   "metadata": {},
   "source": [
    "1. Describe the data science life cycle\n",
    "\n",
    "<font color='blue'>Double click then replace this sentence with your answer so it will be blue.</font>"
   ]
  },
  {
   "cell_type": "markdown",
   "id": "86a0d640",
   "metadata": {},
   "source": [
    "2. Does association imply causation? Why or why not? Give an example to support your conclusion.\n",
    "\n",
    "<font color='blue'>Double click then replace this sentence with your answer so it will be blue.</font>"
   ]
  },
  {
   "cell_type": "markdown",
   "id": "42137ca6",
   "metadata": {},
   "source": [
    "3. What is an observational study?\n",
    "\n",
    "<font color='blue'>Double click then replace this sentence with your answer so it will be blue.</font>"
   ]
  },
  {
   "cell_type": "markdown",
   "id": "937b857f",
   "metadata": {},
   "source": [
    "4. What is a treatment and what is an outcome?\n",
    "\n",
    "<font color='blue'>Double click then replace this sentence with your answer so it will be blue.</font>"
   ]
  },
  {
   "cell_type": "markdown",
   "id": "46695606",
   "metadata": {},
   "source": [
    "5. What is a confounding variable? Give and example on confounding variables.\n",
    "\n",
    "<font color='blue'>Double click then replace this sentence with your answer so it will be blue.</font>"
   ]
  },
  {
   "cell_type": "markdown",
   "id": "459d7e5a",
   "metadata": {},
   "source": [
    "6. What is a single, double, and triple blind experiment?\n",
    "\n",
    "<font color='blue'>Double click then replace this sentence with your answer so it will be blue.</font>"
   ]
  },
  {
   "cell_type": "markdown",
   "id": "bcfe7895",
   "metadata": {},
   "source": [
    "### Chapters 3 - 4"
   ]
  },
  {
   "cell_type": "code",
   "execution_count": null,
   "id": "96886388",
   "metadata": {},
   "outputs": [],
   "source": [
    "# Import the skyscrappers.csv as skyscrapers"
   ]
  },
  {
   "cell_type": "code",
   "execution_count": null,
   "id": "0d620857",
   "metadata": {},
   "outputs": [],
   "source": [
    "# Select skyscrappers in Denver."
   ]
  },
  {
   "cell_type": "code",
   "execution_count": null,
   "id": "fd3d61c4",
   "metadata": {},
   "outputs": [],
   "source": [
    "# Select the skyscrappers that are larger or equal to 400 meters."
   ]
  },
  {
   "cell_type": "code",
   "execution_count": null,
   "id": "2520e6c7",
   "metadata": {},
   "outputs": [],
   "source": [
    "# Type 'Loyola Hall' as a string and assign it to location"
   ]
  },
  {
   "cell_type": "code",
   "execution_count": null,
   "id": "ff135577",
   "metadata": {},
   "outputs": [],
   "source": [
    "# Use string.replace() to replace Loyola with Clarke in location."
   ]
  },
  {
   "cell_type": "markdown",
   "id": "251f5557",
   "metadata": {},
   "source": [
    "# Chapters 5 - 6"
   ]
  },
  {
   "cell_type": "code",
   "execution_count": null,
   "id": "c429535d",
   "metadata": {},
   "outputs": [],
   "source": [
    "# Make an array that goes from 3 to 99 by 3 and call the array numerator"
   ]
  },
  {
   "cell_type": "code",
   "execution_count": null,
   "id": "aa6b322d",
   "metadata": {},
   "outputs": [],
   "source": [
    "# What is the length on the array numerator?"
   ]
  },
  {
   "cell_type": "code",
   "execution_count": null,
   "id": "4459a23d",
   "metadata": {},
   "outputs": [],
   "source": [
    "#Make an array of 3s that is the same length as numerator and call the array denominator\n",
    "#hint: use np.full() https://numpy.org/doc/stable/reference/generated/numpy.full.html"
   ]
  },
  {
   "cell_type": "code",
   "execution_count": null,
   "id": "046a83cf",
   "metadata": {
    "scrolled": true
   },
   "outputs": [],
   "source": [
    "#divide numerator by denominator"
   ]
  },
  {
   "cell_type": "code",
   "execution_count": null,
   "id": "736f3a48",
   "metadata": {
    "scrolled": true
   },
   "outputs": [],
   "source": [
    "# Import movies_by_year_with_ticket_price.csv as movies"
   ]
  },
  {
   "cell_type": "code",
   "execution_count": null,
   "id": "9f38a413",
   "metadata": {},
   "outputs": [],
   "source": [
    "#Find the highest grossing movie"
   ]
  },
  {
   "cell_type": "code",
   "execution_count": null,
   "id": "51ddc282",
   "metadata": {},
   "outputs": [],
   "source": [
    "#Find the movie with the most ticket sales by dividing total gross by average ticket price"
   ]
  },
  {
   "cell_type": "code",
   "execution_count": null,
   "id": "e440478a",
   "metadata": {},
   "outputs": [],
   "source": [
    "#Find the movie with the fewest ticket sales by dividing total gross by average ticket price"
   ]
  },
  {
   "cell_type": "markdown",
   "id": "8e891cc2",
   "metadata": {},
   "source": [
    "#### What type of data do you typically use with line graphs?\n",
    "<font color='blue'>Double click then replace this sentence with your answer so it will be blue.</font>"
   ]
  },
  {
   "cell_type": "markdown",
   "id": "8bf61892",
   "metadata": {},
   "source": [
    "#### What type of data do you typically use with scatter plots?\n",
    "<font color='blue'>Double click then replace this sentence with your answer so it will be blue.</font>"
   ]
  },
  {
   "cell_type": "markdown",
   "id": "865ad031",
   "metadata": {},
   "source": [
    "#### What type of data do you typically use with bar charts?\n",
    "<font color='blue'>Double click then replace this sentence with your answer so it will be blue.</font>"
   ]
  },
  {
   "cell_type": "markdown",
   "id": "dd2886ad",
   "metadata": {},
   "source": [
    "#### What type of data do you typically use with histogram plots?\n",
    "<font color='blue'>Double click then replace this sentence with your answer so it will be blue.</font>"
   ]
  },
  {
   "cell_type": "code",
   "execution_count": null,
   "id": "0d6e1f42",
   "metadata": {},
   "outputs": [],
   "source": [
    "# Import the skyscrappers.csv as skyscrapers"
   ]
  },
  {
   "cell_type": "code",
   "execution_count": null,
   "id": "68126d6a",
   "metadata": {},
   "outputs": [],
   "source": [
    "# Plot completed vs height"
   ]
  },
  {
   "cell_type": "code",
   "execution_count": null,
   "id": "05ee43cc",
   "metadata": {},
   "outputs": [],
   "source": [
    "# Plot the height of the sky scrapers and another plot of when they were completed."
   ]
  },
  {
   "cell_type": "code",
   "execution_count": null,
   "id": "173f0f40",
   "metadata": {},
   "outputs": [],
   "source": [
    "#Using the histogram plot, how many skyscrapers are between 250 and 300 meters?\n",
    "# Hint: make the histogram bins a useful width"
   ]
  },
  {
   "cell_type": "code",
   "execution_count": null,
   "id": "e4048322",
   "metadata": {},
   "outputs": [],
   "source": [
    "# Verify your above answer with the number with data from the skyscraper table."
   ]
  },
  {
   "cell_type": "code",
   "execution_count": null,
   "id": "f753dafc",
   "metadata": {},
   "outputs": [],
   "source": [
    "# Using the histogram plot, how many skyscrapers were completed between 2010 and 2020?\n",
    "# Hint: make the histogram bins a useful width"
   ]
  },
  {
   "cell_type": "code",
   "execution_count": null,
   "id": "0ff1840e",
   "metadata": {},
   "outputs": [],
   "source": [
    "# Verify your above answer with the number with data from the skyscraper table."
   ]
  },
  {
   "cell_type": "code",
   "execution_count": null,
   "id": "1257d03e",
   "metadata": {},
   "outputs": [],
   "source": [
    "# Plot the average height by composite"
   ]
  },
  {
   "cell_type": "code",
   "execution_count": null,
   "id": "af9c00a5",
   "metadata": {},
   "outputs": [],
   "source": [
    "# Plot the average height by year"
   ]
  },
  {
   "cell_type": "markdown",
   "id": "9195476d",
   "metadata": {},
   "source": [
    "## Chapter 8 Functions and Tables"
   ]
  },
  {
   "cell_type": "code",
   "execution_count": null,
   "id": "920e2420",
   "metadata": {},
   "outputs": [],
   "source": [
    "#load the galton.csv file as galton"
   ]
  },
  {
   "cell_type": "code",
   "execution_count": null,
   "id": "7e3cdfa9",
   "metadata": {},
   "outputs": [],
   "source": [
    "# Create a plot showing a count of number of children in the families"
   ]
  },
  {
   "cell_type": "code",
   "execution_count": null,
   "id": "ec76363b",
   "metadata": {},
   "outputs": [],
   "source": [
    "# Create a plot showing how the avearge child height changes with the number of children in a family."
   ]
  },
  {
   "cell_type": "code",
   "execution_count": null,
   "id": "b3a252c3",
   "metadata": {},
   "outputs": [],
   "source": [
    "#Create a function called \"years_working\" that takes two agruments, \"total_earnings\" and \"hourly_wages\" \n",
    "# the function returns how many years it will take to earn the \"total_earnings\" working 40 hours a week, \n",
    "# 52 weeks a year at the given \"hourly_wage\""
   ]
  },
  {
   "cell_type": "code",
   "execution_count": null,
   "id": "0f099a5c",
   "metadata": {},
   "outputs": [],
   "source": [
    "#How many years will it take to earn $100,000 working $7.25 per hour?"
   ]
  },
  {
   "cell_type": "code",
   "execution_count": null,
   "id": "8915bc2b",
   "metadata": {},
   "outputs": [],
   "source": [
    "#How many years will it take to earn 129 billion dollars (Jeff Bezos' estimated wealth) \n",
    "# earning $100,000 per hour?"
   ]
  },
  {
   "cell_type": "markdown",
   "id": "7c902032",
   "metadata": {},
   "source": [
    "## Chapter 9 and 10: Randomness, Sampling, and Empirical Distributions"
   ]
  },
  {
   "cell_type": "code",
   "execution_count": null,
   "id": "a33a2bda",
   "metadata": {},
   "outputs": [],
   "source": [
    "# Create a plinko game where a \"ball\" is dropped from a height and it can either move right one space\n",
    "# or left one space. The game should be wrapped in a function called \"plinko_game\". \"plinko_game\" should take\n",
    "# 2 arguments: games (number of games to simulate) and height (height of the plinko game).  The function should\n",
    "# return a table that records the game and the final distance the plinko ball taveled."
   ]
  },
  {
   "cell_type": "code",
   "execution_count": null,
   "id": "507297ad",
   "metadata": {},
   "outputs": [],
   "source": [
    "# Plot the distribution of the distance the ball falls."
   ]
  },
  {
   "cell_type": "code",
   "execution_count": null,
   "id": "1cc1368b",
   "metadata": {},
   "outputs": [],
   "source": []
  }
 ],
 "metadata": {
  "kernelspec": {
   "display_name": "Python 3 (ipykernel)",
   "language": "python",
   "name": "python3"
  },
  "language_info": {
   "codemirror_mode": {
    "name": "ipython",
    "version": 3
   },
   "file_extension": ".py",
   "mimetype": "text/x-python",
   "name": "python",
   "nbconvert_exporter": "python",
   "pygments_lexer": "ipython3",
   "version": "3.7.1"
  }
 },
 "nbformat": 4,
 "nbformat_minor": 5
}
